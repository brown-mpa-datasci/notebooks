{
 "cells": [
  {
   "cell_type": "markdown",
   "metadata": {
    "slideshow": {
     "slide_type": "slide"
    }
   },
   "source": [
    "<center><h1>Reading CSV File to DataFrame</h1></center>"
   ]
  },
  {
   "cell_type": "markdown",
   "metadata": {
    "slideshow": {
     "slide_type": "slide"
    }
   },
   "source": [
    "# 1. Reading Data from CSV File\n",
    "\n",
    "  - CSV File is \"comma-separated values\"\n",
    "  - The `,` separator is conventional, but not mandatory\n",
    "  - The `|` character is also common"
   ]
  },
  {
   "cell_type": "markdown",
   "metadata": {
    "slideshow": {
     "slide_type": "subslide"
    }
   },
   "source": [
    "## 1.1 Providence Police Dept. Data\n",
    "\n",
    "  - We will be looking at public data regarding arrests and case"
   ]
  },
  {
   "cell_type": "code",
   "execution_count": 1,
   "metadata": {
    "slideshow": {
     "slide_type": "fragment"
    }
   },
   "outputs": [],
   "source": [
    "# The line below reads the CSV file and creates a dataframe \n",
    "\n",
    "arrests_df <- read.csv(\"data/pvd_arrests_2020-10-03.csv\")    "
   ]
  },
  {
   "cell_type": "markdown",
   "metadata": {
    "slideshow": {
     "slide_type": "subslide"
    }
   },
   "source": [
    "## 1.2 Exploring the Data"
   ]
  },
  {
   "cell_type": "code",
   "execution_count": 2,
   "metadata": {
    "slideshow": {
     "slide_type": "fragment"
    }
   },
   "outputs": [
    {
     "data": {
      "text/html": [
       "<table>\n",
       "<caption>A data.frame: 6 × 18</caption>\n",
       "<thead>\n",
       "\t<tr><th></th><th scope=col>arrest_date</th><th scope=col>year</th><th scope=col>month</th><th scope=col>gender</th><th scope=col>race</th><th scope=col>ethnicity</th><th scope=col>year_of_birth</th><th scope=col>age</th><th scope=col>from_address</th><th scope=col>from_city</th><th scope=col>from_state</th><th scope=col>statute_type</th><th scope=col>statute_code</th><th scope=col>statute_desc</th><th scope=col>counts</th><th scope=col>case_number</th><th scope=col>arresting_officers</th><th scope=col>id</th></tr>\n",
       "\t<tr><th></th><th scope=col>&lt;chr&gt;</th><th scope=col>&lt;int&gt;</th><th scope=col>&lt;int&gt;</th><th scope=col>&lt;chr&gt;</th><th scope=col>&lt;chr&gt;</th><th scope=col>&lt;chr&gt;</th><th scope=col>&lt;int&gt;</th><th scope=col>&lt;int&gt;</th><th scope=col>&lt;chr&gt;</th><th scope=col>&lt;chr&gt;</th><th scope=col>&lt;chr&gt;</th><th scope=col>&lt;chr&gt;</th><th scope=col>&lt;chr&gt;</th><th scope=col>&lt;chr&gt;</th><th scope=col>&lt;int&gt;</th><th scope=col>&lt;chr&gt;</th><th scope=col>&lt;chr&gt;</th><th scope=col>&lt;chr&gt;</th></tr>\n",
       "</thead>\n",
       "<tbody>\n",
       "\t<tr><th scope=row>1</th><td>2019-08-24T02:23:00.0</td><td>2019</td><td>8</td><td>Male  </td><td>White</td><td>NonHispanic</td><td>1981</td><td>37</td><td>No Permanent Address</td><td>providence</td><td>Rhode Island</td><td>                    </td><td>        </td><td>                                                         </td><td>NA</td><td>2019-00084142</td><td> YGonzalez, LTaveras    </td><td>pvd2218242150382148273 </td></tr>\n",
       "\t<tr><th scope=row>2</th><td>2019-08-24T02:02:00.0</td><td>2019</td><td>8</td><td>      </td><td>     </td><td>           </td><td>1994</td><td>25</td><td>SUMMER AVE          </td><td>Cranston  </td><td>Rhode Island</td><td>RI Statute Violation</td><td>31-11-18</td><td>Driving after Denial, Suspension or Revocation of License</td><td> 1</td><td>2019-00084127</td><td> NManfredi              </td><td>pvd15166785558364246202</td></tr>\n",
       "\t<tr><th scope=row>3</th><td>2019-08-24T02:02:00.0</td><td>2019</td><td>8</td><td>Female</td><td>Black</td><td>NonHispanic</td><td>1984</td><td>34</td><td>DOUGLAS AVE         </td><td>Providence</td><td>Rhode Island</td><td>RI Statute Violation</td><td>12-7-10 </td><td>RESISTING LEGAL OR ILLEGAL ARREST                        </td><td> 1</td><td>2019-00084126</td><td> MPlace, JPerez, ASantos</td><td>pvd3142917706201385905 </td></tr>\n",
       "\t<tr><th scope=row>4</th><td>2019-08-24T02:02:00.0</td><td>2019</td><td>8</td><td>Female</td><td>Black</td><td>NonHispanic</td><td>1984</td><td>34</td><td>DOUGLAS AVE         </td><td>Providence</td><td>Rhode Island</td><td>RI Statute Violation</td><td>11-45-1 </td><td>DISORDERLY CONDUCT                                       </td><td> 1</td><td>2019-00084126</td><td> MPlace, JPerez, ASantos</td><td>pvd3142917706201385905 </td></tr>\n",
       "\t<tr><th scope=row>5</th><td>2019-08-24T02:02:00.0</td><td>2019</td><td>8</td><td>Female</td><td>Black</td><td>Unknown    </td><td>2001</td><td>18</td><td>TRASH ST            </td><td>          </td><td>            </td><td>RI Statute Violation</td><td>12-7-10 </td><td>RESISTING LEGAL OR ILLEGAL ARREST                        </td><td> 1</td><td>2019-00084126</td><td> MPlace, JPerez, ASantos</td><td>pvd460449304532374599  </td></tr>\n",
       "\t<tr><th scope=row>6</th><td>2019-08-24T02:02:00.0</td><td>2019</td><td>8</td><td>Female</td><td>Black</td><td>Unknown    </td><td>2001</td><td>18</td><td>TRASH ST            </td><td>          </td><td>            </td><td>RI Statute Violation</td><td>11-45-1 </td><td>DISORDERLY CONDUCT                                       </td><td> 1</td><td>2019-00084126</td><td> MPlace, JPerez, ASantos</td><td>pvd460449304532374599  </td></tr>\n",
       "</tbody>\n",
       "</table>\n"
      ],
      "text/latex": [
       "A data.frame: 6 × 18\n",
       "\\begin{tabular}{r|llllllllllllllllll}\n",
       "  & arrest\\_date & year & month & gender & race & ethnicity & year\\_of\\_birth & age & from\\_address & from\\_city & from\\_state & statute\\_type & statute\\_code & statute\\_desc & counts & case\\_number & arresting\\_officers & id\\\\\n",
       "  & <chr> & <int> & <int> & <chr> & <chr> & <chr> & <int> & <int> & <chr> & <chr> & <chr> & <chr> & <chr> & <chr> & <int> & <chr> & <chr> & <chr>\\\\\n",
       "\\hline\n",
       "\t1 & 2019-08-24T02:23:00.0 & 2019 & 8 & Male   & White & NonHispanic & 1981 & 37 & No Permanent Address & providence & Rhode Island &                      &          &                                                           & NA & 2019-00084142 &  YGonzalez, LTaveras     & pvd2218242150382148273 \\\\\n",
       "\t2 & 2019-08-24T02:02:00.0 & 2019 & 8 &        &       &             & 1994 & 25 & SUMMER AVE           & Cranston   & Rhode Island & RI Statute Violation & 31-11-18 & Driving after Denial, Suspension or Revocation of License &  1 & 2019-00084127 &  NManfredi               & pvd15166785558364246202\\\\\n",
       "\t3 & 2019-08-24T02:02:00.0 & 2019 & 8 & Female & Black & NonHispanic & 1984 & 34 & DOUGLAS AVE          & Providence & Rhode Island & RI Statute Violation & 12-7-10  & RESISTING LEGAL OR ILLEGAL ARREST                         &  1 & 2019-00084126 &  MPlace, JPerez, ASantos & pvd3142917706201385905 \\\\\n",
       "\t4 & 2019-08-24T02:02:00.0 & 2019 & 8 & Female & Black & NonHispanic & 1984 & 34 & DOUGLAS AVE          & Providence & Rhode Island & RI Statute Violation & 11-45-1  & DISORDERLY CONDUCT                                        &  1 & 2019-00084126 &  MPlace, JPerez, ASantos & pvd3142917706201385905 \\\\\n",
       "\t5 & 2019-08-24T02:02:00.0 & 2019 & 8 & Female & Black & Unknown     & 2001 & 18 & TRASH ST             &            &              & RI Statute Violation & 12-7-10  & RESISTING LEGAL OR ILLEGAL ARREST                         &  1 & 2019-00084126 &  MPlace, JPerez, ASantos & pvd460449304532374599  \\\\\n",
       "\t6 & 2019-08-24T02:02:00.0 & 2019 & 8 & Female & Black & Unknown     & 2001 & 18 & TRASH ST             &            &              & RI Statute Violation & 11-45-1  & DISORDERLY CONDUCT                                        &  1 & 2019-00084126 &  MPlace, JPerez, ASantos & pvd460449304532374599  \\\\\n",
       "\\end{tabular}\n"
      ],
      "text/markdown": [
       "\n",
       "A data.frame: 6 × 18\n",
       "\n",
       "| <!--/--> | arrest_date &lt;chr&gt; | year &lt;int&gt; | month &lt;int&gt; | gender &lt;chr&gt; | race &lt;chr&gt; | ethnicity &lt;chr&gt; | year_of_birth &lt;int&gt; | age &lt;int&gt; | from_address &lt;chr&gt; | from_city &lt;chr&gt; | from_state &lt;chr&gt; | statute_type &lt;chr&gt; | statute_code &lt;chr&gt; | statute_desc &lt;chr&gt; | counts &lt;int&gt; | case_number &lt;chr&gt; | arresting_officers &lt;chr&gt; | id &lt;chr&gt; |\n",
       "|---|---|---|---|---|---|---|---|---|---|---|---|---|---|---|---|---|---|---|\n",
       "| 1 | 2019-08-24T02:23:00.0 | 2019 | 8 | Male   | White | NonHispanic | 1981 | 37 | No Permanent Address | providence | Rhode Island | <!----> | <!----> | <!----> | NA | 2019-00084142 |  YGonzalez, LTaveras     | pvd2218242150382148273  |\n",
       "| 2 | 2019-08-24T02:02:00.0 | 2019 | 8 | <!----> | <!----> | <!----> | 1994 | 25 | SUMMER AVE           | Cranston   | Rhode Island | RI Statute Violation | 31-11-18 | Driving after Denial, Suspension or Revocation of License |  1 | 2019-00084127 |  NManfredi               | pvd15166785558364246202 |\n",
       "| 3 | 2019-08-24T02:02:00.0 | 2019 | 8 | Female | Black | NonHispanic | 1984 | 34 | DOUGLAS AVE          | Providence | Rhode Island | RI Statute Violation | 12-7-10  | RESISTING LEGAL OR ILLEGAL ARREST                         |  1 | 2019-00084126 |  MPlace, JPerez, ASantos | pvd3142917706201385905  |\n",
       "| 4 | 2019-08-24T02:02:00.0 | 2019 | 8 | Female | Black | NonHispanic | 1984 | 34 | DOUGLAS AVE          | Providence | Rhode Island | RI Statute Violation | 11-45-1  | DISORDERLY CONDUCT                                        |  1 | 2019-00084126 |  MPlace, JPerez, ASantos | pvd3142917706201385905  |\n",
       "| 5 | 2019-08-24T02:02:00.0 | 2019 | 8 | Female | Black | Unknown     | 2001 | 18 | TRASH ST             | <!----> | <!----> | RI Statute Violation | 12-7-10  | RESISTING LEGAL OR ILLEGAL ARREST                         |  1 | 2019-00084126 |  MPlace, JPerez, ASantos | pvd460449304532374599   |\n",
       "| 6 | 2019-08-24T02:02:00.0 | 2019 | 8 | Female | Black | Unknown     | 2001 | 18 | TRASH ST             | <!----> | <!----> | RI Statute Violation | 11-45-1  | DISORDERLY CONDUCT                                        |  1 | 2019-00084126 |  MPlace, JPerez, ASantos | pvd460449304532374599   |\n",
       "\n"
      ],
      "text/plain": [
       "  arrest_date           year month gender race  ethnicity   year_of_birth age\n",
       "1 2019-08-24T02:23:00.0 2019 8     Male   White NonHispanic 1981          37 \n",
       "2 2019-08-24T02:02:00.0 2019 8                              1994          25 \n",
       "3 2019-08-24T02:02:00.0 2019 8     Female Black NonHispanic 1984          34 \n",
       "4 2019-08-24T02:02:00.0 2019 8     Female Black NonHispanic 1984          34 \n",
       "5 2019-08-24T02:02:00.0 2019 8     Female Black Unknown     2001          18 \n",
       "6 2019-08-24T02:02:00.0 2019 8     Female Black Unknown     2001          18 \n",
       "  from_address         from_city  from_state   statute_type        \n",
       "1 No Permanent Address providence Rhode Island                     \n",
       "2 SUMMER AVE           Cranston   Rhode Island RI Statute Violation\n",
       "3 DOUGLAS AVE          Providence Rhode Island RI Statute Violation\n",
       "4 DOUGLAS AVE          Providence Rhode Island RI Statute Violation\n",
       "5 TRASH ST                                     RI Statute Violation\n",
       "6 TRASH ST                                     RI Statute Violation\n",
       "  statute_code statute_desc                                              counts\n",
       "1                                                                        NA    \n",
       "2 31-11-18     Driving after Denial, Suspension or Revocation of License  1    \n",
       "3 12-7-10      RESISTING LEGAL OR ILLEGAL ARREST                          1    \n",
       "4 11-45-1      DISORDERLY CONDUCT                                         1    \n",
       "5 12-7-10      RESISTING LEGAL OR ILLEGAL ARREST                          1    \n",
       "6 11-45-1      DISORDERLY CONDUCT                                         1    \n",
       "  case_number   arresting_officers       id                     \n",
       "1 2019-00084142  YGonzalez, LTaveras     pvd2218242150382148273 \n",
       "2 2019-00084127  NManfredi               pvd15166785558364246202\n",
       "3 2019-00084126  MPlace, JPerez, ASantos pvd3142917706201385905 \n",
       "4 2019-00084126  MPlace, JPerez, ASantos pvd3142917706201385905 \n",
       "5 2019-00084126  MPlace, JPerez, ASantos pvd460449304532374599  \n",
       "6 2019-00084126  MPlace, JPerez, ASantos pvd460449304532374599  "
      ]
     },
     "metadata": {},
     "output_type": "display_data"
    }
   ],
   "source": [
    "head(arrests_df)         # show first few lines of the dataframe"
   ]
  },
  {
   "cell_type": "markdown",
   "metadata": {
    "slideshow": {
     "slide_type": "subslide"
    }
   },
   "source": [
    "### 1.2.1 More Data Exploring "
   ]
  },
  {
   "cell_type": "code",
   "execution_count": 3,
   "metadata": {
    "slideshow": {
     "slide_type": "fragment"
    }
   },
   "outputs": [
    {
     "data": {
      "text/html": [
       "<style>\n",
       ".list-inline {list-style: none; margin:0; padding: 0}\n",
       ".list-inline>li {display: inline-block}\n",
       ".list-inline>li:not(:last-child)::after {content: \"\\00b7\"; padding: 0 .5ex}\n",
       "</style>\n",
       "<ol class=list-inline><li>8755</li><li>18</li></ol>\n"
      ],
      "text/latex": [
       "\\begin{enumerate*}\n",
       "\\item 8755\n",
       "\\item 18\n",
       "\\end{enumerate*}\n"
      ],
      "text/markdown": [
       "1. 8755\n",
       "2. 18\n",
       "\n",
       "\n"
      ],
      "text/plain": [
       "[1] 8755   18"
      ]
     },
     "metadata": {},
     "output_type": "display_data"
    }
   ],
   "source": [
    "dim(arrests_df)             # get dimensions of the dataframe"
   ]
  },
  {
   "cell_type": "code",
   "execution_count": 4,
   "metadata": {
    "slideshow": {
     "slide_type": "fragment"
    }
   },
   "outputs": [
    {
     "data": {
      "text/html": [
       "8755"
      ],
      "text/latex": [
       "8755"
      ],
      "text/markdown": [
       "8755"
      ],
      "text/plain": [
       "[1] 8755"
      ]
     },
     "metadata": {},
     "output_type": "display_data"
    }
   ],
   "source": [
    "nrow(arrests_df)            # get number of rows"
   ]
  },
  {
   "cell_type": "code",
   "execution_count": 5,
   "metadata": {
    "slideshow": {
     "slide_type": "fragment"
    }
   },
   "outputs": [
    {
     "data": {
      "text/html": [
       "18"
      ],
      "text/latex": [
       "18"
      ],
      "text/markdown": [
       "18"
      ],
      "text/plain": [
       "[1] 18"
      ]
     },
     "metadata": {},
     "output_type": "display_data"
    }
   ],
   "source": [
    "ncol(arrests_df)            # get the number of columns"
   ]
  },
  {
   "cell_type": "code",
   "execution_count": 6,
   "metadata": {
    "slideshow": {
     "slide_type": "fragment"
    }
   },
   "outputs": [
    {
     "data": {
      "text/html": [
       "<style>\n",
       ".list-inline {list-style: none; margin:0; padding: 0}\n",
       ".list-inline>li {display: inline-block}\n",
       ".list-inline>li:not(:last-child)::after {content: \"\\00b7\"; padding: 0 .5ex}\n",
       "</style>\n",
       "<ol class=list-inline><li>'arrest_date'</li><li>'year'</li><li>'month'</li><li>'gender'</li><li>'race'</li><li>'ethnicity'</li><li>'year_of_birth'</li><li>'age'</li><li>'from_address'</li><li>'from_city'</li><li>'from_state'</li><li>'statute_type'</li><li>'statute_code'</li><li>'statute_desc'</li><li>'counts'</li><li>'case_number'</li><li>'arresting_officers'</li><li>'id'</li></ol>\n"
      ],
      "text/latex": [
       "\\begin{enumerate*}\n",
       "\\item 'arrest\\_date'\n",
       "\\item 'year'\n",
       "\\item 'month'\n",
       "\\item 'gender'\n",
       "\\item 'race'\n",
       "\\item 'ethnicity'\n",
       "\\item 'year\\_of\\_birth'\n",
       "\\item 'age'\n",
       "\\item 'from\\_address'\n",
       "\\item 'from\\_city'\n",
       "\\item 'from\\_state'\n",
       "\\item 'statute\\_type'\n",
       "\\item 'statute\\_code'\n",
       "\\item 'statute\\_desc'\n",
       "\\item 'counts'\n",
       "\\item 'case\\_number'\n",
       "\\item 'arresting\\_officers'\n",
       "\\item 'id'\n",
       "\\end{enumerate*}\n"
      ],
      "text/markdown": [
       "1. 'arrest_date'\n",
       "2. 'year'\n",
       "3. 'month'\n",
       "4. 'gender'\n",
       "5. 'race'\n",
       "6. 'ethnicity'\n",
       "7. 'year_of_birth'\n",
       "8. 'age'\n",
       "9. 'from_address'\n",
       "10. 'from_city'\n",
       "11. 'from_state'\n",
       "12. 'statute_type'\n",
       "13. 'statute_code'\n",
       "14. 'statute_desc'\n",
       "15. 'counts'\n",
       "16. 'case_number'\n",
       "17. 'arresting_officers'\n",
       "18. 'id'\n",
       "\n",
       "\n"
      ],
      "text/plain": [
       " [1] \"arrest_date\"        \"year\"               \"month\"             \n",
       " [4] \"gender\"             \"race\"               \"ethnicity\"         \n",
       " [7] \"year_of_birth\"      \"age\"                \"from_address\"      \n",
       "[10] \"from_city\"          \"from_state\"         \"statute_type\"      \n",
       "[13] \"statute_code\"       \"statute_desc\"       \"counts\"            \n",
       "[16] \"case_number\"        \"arresting_officers\" \"id\"                "
      ]
     },
     "metadata": {},
     "output_type": "display_data"
    }
   ],
   "source": [
    "colnames(arrests_df)        # get the column names"
   ]
  },
  {
   "cell_type": "markdown",
   "metadata": {
    "slideshow": {
     "slide_type": "subslide"
    }
   },
   "source": [
    "# 2. Summaries from `data.frame`"
   ]
  },
  {
   "cell_type": "code",
   "execution_count": 7,
   "metadata": {
    "slideshow": {
     "slide_type": "fragment"
    }
   },
   "outputs": [
    {
     "name": "stdout",
     "output_type": "stream",
     "text": [
      "'data.frame':\t8755 obs. of  18 variables:\n",
      " $ arrest_date       : chr  \"2019-08-24T02:23:00.0\" \"2019-08-24T02:02:00.0\" \"2019-08-24T02:02:00.0\" \"2019-08-24T02:02:00.0\" ...\n",
      " $ year              : int  2019 2019 2019 2019 2019 2019 2019 2019 2019 2019 ...\n",
      " $ month             : int  8 8 8 8 8 8 8 8 8 8 ...\n",
      " $ gender            : chr  \"Male\" \"\" \"Female\" \"Female\" ...\n",
      " $ race              : chr  \"White\" \"\" \"Black\" \"Black\" ...\n",
      " $ ethnicity         : chr  \"NonHispanic\" \"\" \"NonHispanic\" \"NonHispanic\" ...\n",
      " $ year_of_birth     : int  1981 1994 1984 1984 2001 2001 2001 1991 1991 1991 ...\n",
      " $ age               : int  37 25 34 34 18 18 18 28 28 28 ...\n",
      " $ from_address      : chr  \"No Permanent Address\" \"SUMMER AVE\" \"DOUGLAS AVE\" \"DOUGLAS AVE\" ...\n",
      " $ from_city         : chr  \"providence\" \"Cranston\" \"Providence\" \"Providence\" ...\n",
      " $ from_state        : chr  \"Rhode Island\" \"Rhode Island\" \"Rhode Island\" \"Rhode Island\" ...\n",
      " $ statute_type      : chr  \"\" \"RI Statute Violation\" \"RI Statute Violation\" \"RI Statute Violation\" ...\n",
      " $ statute_code      : chr  \"\" \"31-11-18\" \"12-7-10\" \"11-45-1\" ...\n",
      " $ statute_desc      : chr  \"\" \"Driving after Denial, Suspension or Revocation of License\" \"RESISTING LEGAL OR ILLEGAL ARREST\" \"DISORDERLY CONDUCT\" ...\n",
      " $ counts            : int  NA 1 1 1 1 1 1 1 1 1 ...\n",
      " $ case_number       : chr  \"2019-00084142\" \"2019-00084127\" \"2019-00084126\" \"2019-00084126\" ...\n",
      " $ arresting_officers: chr  \" YGonzalez, LTaveras\" \" NManfredi\" \" MPlace, JPerez, ASantos\" \" MPlace, JPerez, ASantos\" ...\n",
      " $ id                : chr  \"pvd2218242150382148273\" \"pvd15166785558364246202\" \"pvd3142917706201385905\" \"pvd3142917706201385905\" ...\n"
     ]
    }
   ],
   "source": [
    "str(arrests_df)              # the str() function shows the structure of dataframe"
   ]
  },
  {
   "cell_type": "markdown",
   "metadata": {
    "slideshow": {
     "slide_type": "subslide"
    }
   },
   "source": [
    "## 2.1 Summarizing Numeric Data"
   ]
  },
  {
   "cell_type": "code",
   "execution_count": 8,
   "metadata": {
    "slideshow": {
     "slide_type": "fragment"
    }
   },
   "outputs": [
    {
     "data": {
      "text/plain": [
       " arrest_date             year          month          gender         \n",
       " Length:8755        Min.   :2019   Min.   : 1.00   Length:8755       \n",
       " Class :character   1st Qu.:2019   1st Qu.: 3.00   Class :character  \n",
       " Mode  :character   Median :2020   Median : 7.00   Mode  :character  \n",
       "                    Mean   :2020   Mean   : 6.67                     \n",
       "                    3rd Qu.:2020   3rd Qu.:10.00                     \n",
       "                    Max.   :2020   Max.   :12.00                     \n",
       "                                                                     \n",
       "     race            ethnicity         year_of_birth       age       \n",
       " Length:8755        Length:8755        Min.   :1943   Min.   :18.00  \n",
       " Class :character   Class :character   1st Qu.:1980   1st Qu.:24.00  \n",
       " Mode  :character   Mode  :character   Median :1989   Median :30.00  \n",
       "                                       Mean   :1986   Mean   :32.93  \n",
       "                                       3rd Qu.:1995   3rd Qu.:39.00  \n",
       "                                       Max.   :2002   Max.   :77.00  \n",
       "                                                                     \n",
       " from_address        from_city          from_state        statute_type      \n",
       " Length:8755        Length:8755        Length:8755        Length:8755       \n",
       " Class :character   Class :character   Class :character   Class :character  \n",
       " Mode  :character   Mode  :character   Mode  :character   Mode  :character  \n",
       "                                                                            \n",
       "                                                                            \n",
       "                                                                            \n",
       "                                                                            \n",
       " statute_code       statute_desc           counts       case_number       \n",
       " Length:8755        Length:8755        Min.   : 1.000   Length:8755       \n",
       " Class :character   Class :character   1st Qu.: 1.000   Class :character  \n",
       " Mode  :character   Mode  :character   Median : 1.000   Mode  :character  \n",
       "                                       Mean   : 1.083                     \n",
       "                                       3rd Qu.: 1.000                     \n",
       "                                       Max.   :15.000                     \n",
       "                                       NA's   :1906                       \n",
       " arresting_officers      id           \n",
       " Length:8755        Length:8755       \n",
       " Class :character   Class :character  \n",
       " Mode  :character   Mode  :character  \n",
       "                                      \n",
       "                                      \n",
       "                                      \n",
       "                                      "
      ]
     },
     "metadata": {},
     "output_type": "display_data"
    }
   ],
   "source": [
    "summary(arrests_df)"
   ]
  },
  {
   "cell_type": "markdown",
   "metadata": {
    "slideshow": {
     "slide_type": "subslide"
    }
   },
   "source": [
    "### 2.1.1 Summarizing Numeric Data (cont.)"
   ]
  },
  {
   "cell_type": "code",
   "execution_count": 9,
   "metadata": {
    "slideshow": {
     "slide_type": "fragment"
    }
   },
   "outputs": [],
   "source": [
    "numeric_vars <- c(\"month\", \"year\", \"age\", \"year_of_birth\", \"counts\")"
   ]
  },
  {
   "cell_type": "code",
   "execution_count": 10,
   "metadata": {
    "slideshow": {
     "slide_type": "fragment"
    }
   },
   "outputs": [
    {
     "data": {
      "text/plain": [
       "     month            year           age        year_of_birth      counts      \n",
       " Min.   : 1.00   Min.   :2019   Min.   :18.00   Min.   :1943   Min.   : 1.000  \n",
       " 1st Qu.: 3.00   1st Qu.:2019   1st Qu.:24.00   1st Qu.:1980   1st Qu.: 1.000  \n",
       " Median : 7.00   Median :2020   Median :30.00   Median :1989   Median : 1.000  \n",
       " Mean   : 6.67   Mean   :2020   Mean   :32.93   Mean   :1986   Mean   : 1.083  \n",
       " 3rd Qu.:10.00   3rd Qu.:2020   3rd Qu.:39.00   3rd Qu.:1995   3rd Qu.: 1.000  \n",
       " Max.   :12.00   Max.   :2020   Max.   :77.00   Max.   :2002   Max.   :15.000  \n",
       "                                                               NA's   :1906    "
      ]
     },
     "metadata": {},
     "output_type": "display_data"
    }
   ],
   "source": [
    "summary(arrests_df[, numeric_vars])"
   ]
  },
  {
   "cell_type": "markdown",
   "metadata": {
    "slideshow": {
     "slide_type": "subslide"
    }
   },
   "source": [
    "## 2.2 Summarizing String Variables"
   ]
  },
  {
   "cell_type": "code",
   "execution_count": 11,
   "metadata": {
    "slideshow": {
     "slide_type": "fragment"
    }
   },
   "outputs": [
    {
     "data": {
      "text/plain": [
       "\n",
       "         Female    Male    NULL Unknown \n",
       "     21    1906    6804      20       4 "
      ]
     },
     "metadata": {},
     "output_type": "display_data"
    }
   ],
   "source": [
    "table(arrests_df[, \"gender\"])    # show summary of \"gender\" column in `arrests_df`"
   ]
  },
  {
   "cell_type": "code",
   "execution_count": 12,
   "metadata": {
    "slideshow": {
     "slide_type": "fragment"
    }
   },
   "outputs": [
    {
     "data": {
      "text/plain": [
       "\n",
       "                               American Indian/Alaskan Native \n",
       "                            24                             18 \n",
       "        Asian/Pacific Islander                          Black \n",
       "                            81                           3807 \n",
       "                          NULL                        Unknown \n",
       "                            15                            385 \n",
       "                         White            ZHispanic (FD only) \n",
       "                          4419                              6 "
      ]
     },
     "metadata": {},
     "output_type": "display_data"
    }
   ],
   "source": [
    "table(arrests_df$race)           # show summary of \"race\" column in `arrests_df`"
   ]
  },
  {
   "cell_type": "markdown",
   "metadata": {
    "slideshow": {
     "slide_type": "slide"
    }
   },
   "source": [
    "# 3. Options when Reading CSV\n",
    "\n",
    "  - The `read.csv()` function has many optional arguments\n",
    "  - Critically, we can tell R the strings that ought to be considered missing"
   ]
  },
  {
   "cell_type": "code",
   "execution_count": 13,
   "metadata": {
    "slideshow": {
     "slide_type": "fragment"
    }
   },
   "outputs": [],
   "source": [
    "help(read.csv)"
   ]
  },
  {
   "cell_type": "code",
   "execution_count": 14,
   "metadata": {
    "slideshow": {
     "slide_type": "fragment"
    }
   },
   "outputs": [],
   "source": [
    "arrests_df2 <- read.csv(\"data/pvd_arrests_2020-10-03.csv\", \n",
    "                        na.strings = c(\"NA\", \"\", \" \", \"NULL\", \"Unknown\"))"
   ]
  },
  {
   "cell_type": "markdown",
   "metadata": {
    "slideshow": {
     "slide_type": "subslide"
    }
   },
   "source": [
    "### 3.1 Effects of  `na.strings`"
   ]
  },
  {
   "cell_type": "code",
   "execution_count": 15,
   "metadata": {
    "slideshow": {
     "slide_type": "fragment"
    }
   },
   "outputs": [
    {
     "data": {
      "text/plain": [
       "\n",
       "                               American Indian/Alaskan Native \n",
       "                            24                             18 \n",
       "        Asian/Pacific Islander                          Black \n",
       "                            81                           3807 \n",
       "                          NULL                        Unknown \n",
       "                            15                            385 \n",
       "                         White            ZHispanic (FD only) \n",
       "                          4419                              6 "
      ]
     },
     "metadata": {},
     "output_type": "display_data"
    }
   ],
   "source": [
    "table(arrests_df$race)             # explore `race` in original dataframe"
   ]
  },
  {
   "cell_type": "code",
   "execution_count": 16,
   "metadata": {
    "slideshow": {
     "slide_type": "fragment"
    }
   },
   "outputs": [
    {
     "data": {
      "text/plain": [
       "\n",
       "American Indian/Alaskan Native         Asian/Pacific Islander \n",
       "                            18                             81 \n",
       "                         Black                          White \n",
       "                          3807                           4419 \n",
       "           ZHispanic (FD only) \n",
       "                             6 "
      ]
     },
     "metadata": {},
     "output_type": "display_data"
    }
   ],
   "source": [
    "table(arrests_df2$race)           # dataframe after setting `na.strings`"
   ]
  }
 ],
 "metadata": {
  "@webio": {
   "lastCommId": null,
   "lastKernelId": null
  },
  "celltoolbar": "Slideshow",
  "kernelspec": {
   "display_name": "R",
   "language": "R",
   "name": "ir"
  },
  "language_info": {
   "codemirror_mode": "r",
   "file_extension": ".r",
   "mimetype": "text/x-r-source",
   "name": "R",
   "pygments_lexer": "r",
   "version": "4.0.2"
  }
 },
 "nbformat": 4,
 "nbformat_minor": 2
}
