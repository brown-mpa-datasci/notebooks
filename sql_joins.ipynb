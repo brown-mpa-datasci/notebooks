{
 "cells": [
  {
   "cell_type": "markdown",
   "metadata": {
    "slideshow": {
     "slide_type": "slide"
    }
   },
   "source": [
    "<center><h1>Using SQL JOIN to Query Multiple Tables</h1></center>"
   ]
  },
  {
   "cell_type": "markdown",
   "metadata": {
    "slideshow": {
     "slide_type": "slide"
    }
   },
   "source": [
    "# 1. `JOIN` Allows us to Expand our Query's Result Set\n",
    "\n",
    "- If you'll recall, we used `leftjoin()` from _dplyr_ in R\n",
    "  + This function was inspired by SQL\n",
    "  + Frequently hear the term \"SQL-style join\""
   ]
  },
  {
   "cell_type": "markdown",
   "metadata": {
    "slideshow": {
     "slide_type": "subslide"
    }
   },
   "source": [
    "## 1.1 Some Terminology\n",
    "\n",
    "- Joins are performed by using a given column that appears in both tables being joined\n",
    "- Frequently, the column being used to join on is \"primary key\" or a \"foreign key\"\n",
    "  + A primary key is the column that acts as the unique identifier for a given record (i.e., row) \n",
    "  + A foreign key is a column in a table that is associated with a primary key in another table\n",
    "- Caveat:\n",
    "  + Both primary keys and foreign keys can be a combination of columns (ignore this for now)"
   ]
  },
  {
   "cell_type": "markdown",
   "metadata": {
    "slideshow": {
     "slide_type": "subslide"
    }
   },
   "source": [
    "## 1.2 Example `JOIN`\n",
    "\n",
    "- Recall our `amzn.db` database has several tables\n",
    "  + `orders`\n",
    "  + `products`\n",
    "  + `customer`\n",
    "- Suppose we want to know what each customer paid for their order\n",
    "- This will invole a query across `orders` and `products`, since the price information is in the `products` table"
   ]
  },
  {
   "cell_type": "code",
   "execution_count": 2,
   "metadata": {
    "slideshow": {
     "slide_type": "-"
    }
   },
   "outputs": [],
   "source": [
    "%load data/amzn.db"
   ]
  },
  {
   "cell_type": "markdown",
   "metadata": {
    "slideshow": {
     "slide_type": "subslide"
    }
   },
   "source": [
    "### 1.2.1 Quick Refresher on SQL `SELECT`"
   ]
  },
  {
   "cell_type": "code",
   "execution_count": 3,
   "metadata": {
    "slideshow": {
     "slide_type": "-"
    }
   },
   "outputs": [
    {
     "data": {
      "text/html": [
       "<table>\n",
       "<tr>\n",
       "<th>customer</th>\n",
       "<th>date</th>\n",
       "<th>product_id</th>\n",
       "</tr>\n",
       "<tr>\n",
       "<td>lee</td>\n",
       "<td>2018-12-23</td>\n",
       "<td>44</td>\n",
       "</tr>\n",
       "<tr>\n",
       "<td>smith</td>\n",
       "<td>2020-03-12</td>\n",
       "<td>33</td>\n",
       "</tr>\n",
       "<tr>\n",
       "<td>jones</td>\n",
       "<td>2019-05-01</td>\n",
       "<td>212</td>\n",
       "</tr>\n",
       "<tr>\n",
       "<td>yang</td>\n",
       "<td>2020-09-12</td>\n",
       "<td>12</td>\n",
       "</tr>\n",
       "<tr>\n",
       "<td>guerra </td>\n",
       "<td>2020-08-03</td>\n",
       "<td>12</td>\n",
       "</tr>\n",
       "<tr>\n",
       "<td>diaz</td>\n",
       "<td>2020-11-28</td>\n",
       "<td>123</td>\n",
       "</tr>\n",
       "<tr>\n",
       "<td>riley</td>\n",
       "<td>2019-05-18</td>\n",
       "<td>232</td>\n",
       "</tr>\n",
       "<tr>\n",
       "<td>chan</td>\n",
       "<td>2018-10-03</td>\n",
       "<td>28</td>\n",
       "</tr>\n",
       "</table>"
      ],
      "text/plain": [
       "+----------+------------+------------+\n",
       "| customer | date       | product_id |\n",
       "+----------+------------+------------+\n",
       "| lee      | 2018-12-23 | 44         |\n",
       "+----------+------------+------------+\n",
       "| smith    | 2020-03-12 | 33         |\n",
       "+----------+------------+------------+\n",
       "| jones    | 2019-05-01 | 212        |\n",
       "+----------+------------+------------+\n",
       "| yang     | 2020-09-12 | 12         |\n",
       "+----------+------------+------------+\n",
       "| guerra   | 2020-08-03 | 12         |\n",
       "+----------+------------+------------+\n",
       "| diaz     | 2020-11-28 | 123        |\n",
       "+----------+------------+------------+\n",
       "| riley    | 2019-05-18 | 232        |\n",
       "+----------+------------+------------+\n",
       "| chan     | 2018-10-03 | 28         |\n",
       "+----------+------------+------------+"
      ]
     },
     "execution_count": 3,
     "metadata": {},
     "output_type": "execute_result"
    }
   ],
   "source": [
    "SELECT \n",
    "    customer,      -- these are the columns (i.e., \"fields\") we want\n",
    "    date,\n",
    "    product_id\n",
    "FROM \n",
    "    orders         -- this is the table we pull from\n",
    ";"
   ]
  },
  {
   "cell_type": "markdown",
   "metadata": {
    "slideshow": {
     "slide_type": "subslide"
    }
   },
   "source": [
    "### 1.2.2 Recall the `SELECT *` Idiom\n",
    "\n",
    "- This will show you all rows and columns for a given table(s)\n",
    "- Not usually advisable"
   ]
  },
  {
   "cell_type": "code",
   "execution_count": 6,
   "metadata": {
    "slideshow": {
     "slide_type": "-"
    }
   },
   "outputs": [
    {
     "data": {
      "text/html": [
       "<table>\n",
       "<tr>\n",
       "<th>product_id</th>\n",
       "<th>product</th>\n",
       "<th>price</th>\n",
       "<th>supplier_id</th>\n",
       "</tr>\n",
       "<tr>\n",
       "<td>44</td>\n",
       "<td>rake</td>\n",
       "<td>19.99</td>\n",
       "<td>65656</td>\n",
       "</tr>\n",
       "<tr>\n",
       "<td>33</td>\n",
       "<td>shoe horn</td>\n",
       "<td>5.99</td>\n",
       "<td>3434</td>\n",
       "</tr>\n",
       "<tr>\n",
       "<td>22</td>\n",
       "<td>potato</td>\n",
       "<td>0.99</td>\n",
       "<td>65656</td>\n",
       "</tr>\n",
       "<tr>\n",
       "<td>12</td>\n",
       "<td>bike</td>\n",
       "<td>123.5</td>\n",
       "<td>232</td>\n",
       "</tr>\n",
       "<tr>\n",
       "<td>123</td>\n",
       "<td>table</td>\n",
       "<td>78.55</td>\n",
       "<td>54545</td>\n",
       "</tr>\n",
       "<tr>\n",
       "<td>232</td>\n",
       "<td>cup</td>\n",
       "<td>2.5</td>\n",
       "<td>4333</td>\n",
       "</tr>\n",
       "<tr>\n",
       "<td>28</td>\n",
       "<td>ball</td>\n",
       "<td>5.5</td>\n",
       "<td>2323</td>\n",
       "</tr>\n",
       "<tr>\n",
       "<td>22</td>\n",
       "<td>pencil</td>\n",
       "<td>2.99</td>\n",
       "<td>3232</td>\n",
       "</tr>\n",
       "<tr>\n",
       "<td>11</td>\n",
       "<td>teapot</td>\n",
       "<td>12.49</td>\n",
       "<td>6565</td>\n",
       "</tr>\n",
       "<tr>\n",
       "<td>13</td>\n",
       "<td>fork</td>\n",
       "<td>1.99</td>\n",
       "<td>86787</td>\n",
       "</tr>\n",
       "<tr>\n",
       "<td>14</td>\n",
       "<td>shoelace</td>\n",
       "<td>0.5</td>\n",
       "<td>8787</td>\n",
       "</tr>\n",
       "<tr>\n",
       "<td>555</td>\n",
       "<td>hammer</td>\n",
       "<td>17.49</td>\n",
       "<td>7878</td>\n",
       "</tr>\n",
       "<tr>\n",
       "<td>66</td>\n",
       "<td>door</td>\n",
       "<td>159.99</td>\n",
       "<td>9889</td>\n",
       "</tr>\n",
       "</table>"
      ],
      "text/plain": [
       "+------------+-----------+--------+-------------+\n",
       "| product_id | product   | price  | supplier_id |\n",
       "+------------+-----------+--------+-------------+\n",
       "| 44         | rake      | 19.99  | 65656       |\n",
       "+------------+-----------+--------+-------------+\n",
       "| 33         | shoe horn | 5.99   | 3434        |\n",
       "+------------+-----------+--------+-------------+\n",
       "| 22         | potato    | 0.99   | 65656       |\n",
       "+------------+-----------+--------+-------------+\n",
       "| 12         | bike      | 123.5  | 232         |\n",
       "+------------+-----------+--------+-------------+\n",
       "| 123        | table     | 78.55  | 54545       |\n",
       "+------------+-----------+--------+-------------+\n",
       "| 232        | cup       | 2.5    | 4333        |\n",
       "+------------+-----------+--------+-------------+\n",
       "| 28         | ball      | 5.5    | 2323        |\n",
       "+------------+-----------+--------+-------------+\n",
       "| 22         | pencil    | 2.99   | 3232        |\n",
       "+------------+-----------+--------+-------------+\n",
       "| 11         | teapot    | 12.49  | 6565        |\n",
       "+------------+-----------+--------+-------------+\n",
       "| 13         | fork      | 1.99   | 86787       |\n",
       "+------------+-----------+--------+-------------+\n",
       "| 14         | shoelace  | 0.5    | 8787        |\n",
       "+------------+-----------+--------+-------------+\n",
       "| 555        | hammer    | 17.49  | 7878        |\n",
       "+------------+-----------+--------+-------------+\n",
       "| 66         | door      | 159.99 | 9889        |\n",
       "+------------+-----------+--------+-------------+"
      ]
     },
     "execution_count": 6,
     "metadata": {},
     "output_type": "execute_result"
    }
   ],
   "source": [
    "SELECT \n",
    "    * \n",
    "FROM \n",
    "    products\n",
    ";"
   ]
  },
  {
   "cell_type": "markdown",
   "metadata": {
    "slideshow": {
     "slide_type": "subslide"
    }
   },
   "source": [
    "## 1.3 Motivating Example\n",
    "\n",
    "- Suppose we want to obtian the total cost of every order \n",
    "- Note that our `orders` table does not contain price information\n",
    "- The `orders` table does have a `product_id` field\n",
    "  + the `product_id` field can be used to link (i.e., \"join\") to the `product` table\n"
   ]
  },
  {
   "cell_type": "code",
   "execution_count": 7,
   "metadata": {
    "slideshow": {
     "slide_type": "-"
    }
   },
   "outputs": [
    {
     "data": {
      "text/html": [
       "<table>\n",
       "<tr>\n",
       "<th>customer</th>\n",
       "<th>quantity</th>\n",
       "<th>product</th>\n",
       "<th>price</th>\n",
       "</tr>\n",
       "<tr>\n",
       "<td>lee</td>\n",
       "<td>1</td>\n",
       "<td>rake</td>\n",
       "<td>19.99</td>\n",
       "</tr>\n",
       "<tr>\n",
       "<td>smith</td>\n",
       "<td>1</td>\n",
       "<td>shoe horn</td>\n",
       "<td>5.99</td>\n",
       "</tr>\n",
       "<tr>\n",
       "<td>yang</td>\n",
       "<td>1</td>\n",
       "<td>bike</td>\n",
       "<td>123.5</td>\n",
       "</tr>\n",
       "<tr>\n",
       "<td>guerra </td>\n",
       "<td>2</td>\n",
       "<td>bike</td>\n",
       "<td>123.5</td>\n",
       "</tr>\n",
       "<tr>\n",
       "<td>diaz</td>\n",
       "<td>2</td>\n",
       "<td>table</td>\n",
       "<td>78.55</td>\n",
       "</tr>\n",
       "<tr>\n",
       "<td>riley</td>\n",
       "<td>4</td>\n",
       "<td>cup</td>\n",
       "<td>2.5</td>\n",
       "</tr>\n",
       "<tr>\n",
       "<td>chan</td>\n",
       "<td>1</td>\n",
       "<td>ball</td>\n",
       "<td>5.5</td>\n",
       "</tr>\n",
       "</table>"
      ],
      "text/plain": [
       "+----------+----------+-----------+-------+\n",
       "| customer | quantity | product   | price |\n",
       "+----------+----------+-----------+-------+\n",
       "| lee      | 1        | rake      | 19.99 |\n",
       "+----------+----------+-----------+-------+\n",
       "| smith    | 1        | shoe horn | 5.99  |\n",
       "+----------+----------+-----------+-------+\n",
       "| yang     | 1        | bike      | 123.5 |\n",
       "+----------+----------+-----------+-------+\n",
       "| guerra   | 2        | bike      | 123.5 |\n",
       "+----------+----------+-----------+-------+\n",
       "| diaz     | 2        | table     | 78.55 |\n",
       "+----------+----------+-----------+-------+\n",
       "| riley    | 4        | cup       | 2.5   |\n",
       "+----------+----------+-----------+-------+\n",
       "| chan     | 1        | ball      | 5.5   |\n",
       "+----------+----------+-----------+-------+"
      ]
     },
     "execution_count": 7,
     "metadata": {},
     "output_type": "execute_result"
    }
   ],
   "source": [
    "SELECT \n",
    "    customer,\n",
    "    quantity,\n",
    "    product,\n",
    "    price\n",
    "FROM \n",
    "    orders\n",
    "    JOIN products ON orders.product_id = products.product_id\n",
    ";"
   ]
  },
  {
   "cell_type": "markdown",
   "metadata": {
    "slideshow": {
     "slide_type": "subslide"
    }
   },
   "source": [
    "### 1.3.1 Using Table Aliases \n",
    "\n",
    "- It is more idiomatic to alias our table names to something short (e.g., `ord` for `orders`) \n",
    "- We can then use that in the `SELECT` section of our query"
   ]
  },
  {
   "cell_type": "code",
   "execution_count": 8,
   "metadata": {
    "slideshow": {
     "slide_type": "-"
    }
   },
   "outputs": [
    {
     "data": {
      "text/html": [
       "<table>\n",
       "<tr>\n",
       "<th>customer</th>\n",
       "<th>quantity</th>\n",
       "<th>product_id</th>\n",
       "<th>product</th>\n",
       "<th>price</th>\n",
       "</tr>\n",
       "<tr>\n",
       "<td>lee</td>\n",
       "<td>1</td>\n",
       "<td>44</td>\n",
       "<td>rake</td>\n",
       "<td>19.99</td>\n",
       "</tr>\n",
       "<tr>\n",
       "<td>smith</td>\n",
       "<td>1</td>\n",
       "<td>33</td>\n",
       "<td>shoe horn</td>\n",
       "<td>5.99</td>\n",
       "</tr>\n",
       "<tr>\n",
       "<td>yang</td>\n",
       "<td>1</td>\n",
       "<td>12</td>\n",
       "<td>bike</td>\n",
       "<td>123.5</td>\n",
       "</tr>\n",
       "<tr>\n",
       "<td>guerra </td>\n",
       "<td>2</td>\n",
       "<td>12</td>\n",
       "<td>bike</td>\n",
       "<td>123.5</td>\n",
       "</tr>\n",
       "<tr>\n",
       "<td>diaz</td>\n",
       "<td>2</td>\n",
       "<td>123</td>\n",
       "<td>table</td>\n",
       "<td>78.55</td>\n",
       "</tr>\n",
       "<tr>\n",
       "<td>riley</td>\n",
       "<td>4</td>\n",
       "<td>232</td>\n",
       "<td>cup</td>\n",
       "<td>2.5</td>\n",
       "</tr>\n",
       "<tr>\n",
       "<td>chan</td>\n",
       "<td>1</td>\n",
       "<td>28</td>\n",
       "<td>ball</td>\n",
       "<td>5.5</td>\n",
       "</tr>\n",
       "</table>"
      ],
      "text/plain": [
       "+----------+----------+------------+-----------+-------+\n",
       "| customer | quantity | product_id | product   | price |\n",
       "+----------+----------+------------+-----------+-------+\n",
       "| lee      | 1        | 44         | rake      | 19.99 |\n",
       "+----------+----------+------------+-----------+-------+\n",
       "| smith    | 1        | 33         | shoe horn | 5.99  |\n",
       "+----------+----------+------------+-----------+-------+\n",
       "| yang     | 1        | 12         | bike      | 123.5 |\n",
       "+----------+----------+------------+-----------+-------+\n",
       "| guerra   | 2        | 12         | bike      | 123.5 |\n",
       "+----------+----------+------------+-----------+-------+\n",
       "| diaz     | 2        | 123        | table     | 78.55 |\n",
       "+----------+----------+------------+-----------+-------+\n",
       "| riley    | 4        | 232        | cup       | 2.5   |\n",
       "+----------+----------+------------+-----------+-------+\n",
       "| chan     | 1        | 28         | ball      | 5.5   |\n",
       "+----------+----------+------------+-----------+-------+"
      ]
     },
     "execution_count": 8,
     "metadata": {},
     "output_type": "execute_result"
    }
   ],
   "source": [
    "SELECT \n",
    "    ord.customer,\n",
    "    ord.quantity,\n",
    "    ord.product_id,\n",
    "    pro.product,\n",
    "    pro.price\n",
    "FROM\n",
    "    orders        AS ord \n",
    "    JOIN products AS pro ON ord.product_id = pro.product_id\n",
    ";"
   ]
  },
  {
   "cell_type": "markdown",
   "metadata": {
    "slideshow": {
     "slide_type": "subslide"
    }
   },
   "source": [
    "### 1.3.2 Doing Math in `SELECT` Section"
   ]
  },
  {
   "cell_type": "code",
   "execution_count": 9,
   "metadata": {
    "slideshow": {
     "slide_type": "-"
    }
   },
   "outputs": [
    {
     "data": {
      "text/html": [
       "<table>\n",
       "<tr>\n",
       "<th>customer</th>\n",
       "<th>quantity</th>\n",
       "<th>product_id</th>\n",
       "<th>product</th>\n",
       "<th>price</th>\n",
       "<th>total_cost</th>\n",
       "</tr>\n",
       "<tr>\n",
       "<td>lee</td>\n",
       "<td>1</td>\n",
       "<td>44</td>\n",
       "<td>rake</td>\n",
       "<td>19.99</td>\n",
       "<td>19.99</td>\n",
       "</tr>\n",
       "<tr>\n",
       "<td>smith</td>\n",
       "<td>1</td>\n",
       "<td>33</td>\n",
       "<td>shoe horn</td>\n",
       "<td>5.99</td>\n",
       "<td>5.99</td>\n",
       "</tr>\n",
       "<tr>\n",
       "<td>yang</td>\n",
       "<td>1</td>\n",
       "<td>12</td>\n",
       "<td>bike</td>\n",
       "<td>123.5</td>\n",
       "<td>123.5</td>\n",
       "</tr>\n",
       "<tr>\n",
       "<td>guerra </td>\n",
       "<td>2</td>\n",
       "<td>12</td>\n",
       "<td>bike</td>\n",
       "<td>123.5</td>\n",
       "<td>247.0</td>\n",
       "</tr>\n",
       "<tr>\n",
       "<td>diaz</td>\n",
       "<td>2</td>\n",
       "<td>123</td>\n",
       "<td>table</td>\n",
       "<td>78.55</td>\n",
       "<td>157.1</td>\n",
       "</tr>\n",
       "<tr>\n",
       "<td>riley</td>\n",
       "<td>4</td>\n",
       "<td>232</td>\n",
       "<td>cup</td>\n",
       "<td>2.5</td>\n",
       "<td>10.0</td>\n",
       "</tr>\n",
       "<tr>\n",
       "<td>chan</td>\n",
       "<td>1</td>\n",
       "<td>28</td>\n",
       "<td>ball</td>\n",
       "<td>5.5</td>\n",
       "<td>5.5</td>\n",
       "</tr>\n",
       "</table>"
      ],
      "text/plain": [
       "+----------+----------+------------+-----------+-------+------------+\n",
       "| customer | quantity | product_id | product   | price | total_cost |\n",
       "+----------+----------+------------+-----------+-------+------------+\n",
       "| lee      | 1        | 44         | rake      | 19.99 | 19.99      |\n",
       "+----------+----------+------------+-----------+-------+------------+\n",
       "| smith    | 1        | 33         | shoe horn | 5.99  | 5.99       |\n",
       "+----------+----------+------------+-----------+-------+------------+\n",
       "| yang     | 1        | 12         | bike      | 123.5 | 123.5      |\n",
       "+----------+----------+------------+-----------+-------+------------+\n",
       "| guerra   | 2        | 12         | bike      | 123.5 | 247.0      |\n",
       "+----------+----------+------------+-----------+-------+------------+\n",
       "| diaz     | 2        | 123        | table     | 78.55 | 157.1      |\n",
       "+----------+----------+------------+-----------+-------+------------+\n",
       "| riley    | 4        | 232        | cup       | 2.5   | 10.0       |\n",
       "+----------+----------+------------+-----------+-------+------------+\n",
       "| chan     | 1        | 28         | ball      | 5.5   | 5.5        |\n",
       "+----------+----------+------------+-----------+-------+------------+"
      ]
     },
     "execution_count": 9,
     "metadata": {},
     "output_type": "execute_result"
    }
   ],
   "source": [
    "SELECT \n",
    "    ord.customer,\n",
    "    ord.quantity,\n",
    "    ord.product_id,\n",
    "    pro.product,\n",
    "    pro.price,\n",
    "    (pro.price * ord.quantity) AS total_cost\n",
    "FROM\n",
    "    orders        AS ord \n",
    "    JOIN products AS pro ON ord.product_id = pro.product_id\n",
    ";"
   ]
  },
  {
   "cell_type": "markdown",
   "metadata": {
    "slideshow": {
     "slide_type": "subslide"
    }
   },
   "source": [
    "### 1.3.3 Filtering Result using `WHERE`\n",
    "\n",
    "- Suppose we only care about order with 2 or more items"
   ]
  },
  {
   "cell_type": "code",
   "execution_count": 10,
   "metadata": {
    "slideshow": {
     "slide_type": "-"
    }
   },
   "outputs": [
    {
     "data": {
      "text/html": [
       "<table>\n",
       "<tr>\n",
       "<th>customer</th>\n",
       "<th>quantity</th>\n",
       "<th>product_id</th>\n",
       "<th>product</th>\n",
       "<th>price</th>\n",
       "<th>total_cost</th>\n",
       "</tr>\n",
       "<tr>\n",
       "<td>guerra </td>\n",
       "<td>2</td>\n",
       "<td>12</td>\n",
       "<td>bike</td>\n",
       "<td>123.5</td>\n",
       "<td>247.0</td>\n",
       "</tr>\n",
       "<tr>\n",
       "<td>diaz</td>\n",
       "<td>2</td>\n",
       "<td>123</td>\n",
       "<td>table</td>\n",
       "<td>78.55</td>\n",
       "<td>157.1</td>\n",
       "</tr>\n",
       "<tr>\n",
       "<td>riley</td>\n",
       "<td>4</td>\n",
       "<td>232</td>\n",
       "<td>cup</td>\n",
       "<td>2.5</td>\n",
       "<td>10.0</td>\n",
       "</tr>\n",
       "</table>"
      ],
      "text/plain": [
       "+----------+----------+------------+---------+-------+------------+\n",
       "| customer | quantity | product_id | product | price | total_cost |\n",
       "+----------+----------+------------+---------+-------+------------+\n",
       "| guerra   | 2        | 12         | bike    | 123.5 | 247.0      |\n",
       "+----------+----------+------------+---------+-------+------------+\n",
       "| diaz     | 2        | 123        | table   | 78.55 | 157.1      |\n",
       "+----------+----------+------------+---------+-------+------------+\n",
       "| riley    | 4        | 232        | cup     | 2.5   | 10.0       |\n",
       "+----------+----------+------------+---------+-------+------------+"
      ]
     },
     "execution_count": 10,
     "metadata": {},
     "output_type": "execute_result"
    }
   ],
   "source": [
    "SELECT \n",
    "    ord.customer,\n",
    "    ord.quantity,\n",
    "    ord.product_id,\n",
    "    pro.product,\n",
    "    pro.price,\n",
    "    (pro.price * ord.quantity) AS total_cost\n",
    "FROM \n",
    "    orders        AS ord \n",
    "    JOIN products AS pro ON ord.product_id = pro.product_id \n",
    "WHERE \n",
    "    ord.quantity > 1\n",
    ";"
   ]
  },
  {
   "cell_type": "markdown",
   "metadata": {
    "slideshow": {
     "slide_type": "subslide"
    }
   },
   "source": [
    "### 1.3.4 Filterin on Multiple Criteria\n",
    "\n",
    "- Recall that we can use the `WHERE` clause to filter according to any number of criteria\n",
    "- Suppose we want either orders with more than 2 items _or_ those with a _particular_ item"
   ]
  },
  {
   "cell_type": "code",
   "execution_count": 12,
   "metadata": {
    "slideshow": {
     "slide_type": "-"
    }
   },
   "outputs": [
    {
     "data": {
      "text/html": [
       "<table>\n",
       "<tr>\n",
       "<th>customer</th>\n",
       "<th>quantity</th>\n",
       "<th>product_id</th>\n",
       "<th>product</th>\n",
       "<th>price</th>\n",
       "<th>total_cost</th>\n",
       "</tr>\n",
       "<tr>\n",
       "<td>lee</td>\n",
       "<td>1</td>\n",
       "<td>44</td>\n",
       "<td>rake</td>\n",
       "<td>19.99</td>\n",
       "<td>19.99</td>\n",
       "</tr>\n",
       "<tr>\n",
       "<td>yang</td>\n",
       "<td>1</td>\n",
       "<td>12</td>\n",
       "<td>bike</td>\n",
       "<td>123.5</td>\n",
       "<td>123.5</td>\n",
       "</tr>\n",
       "<tr>\n",
       "<td>guerra </td>\n",
       "<td>2</td>\n",
       "<td>12</td>\n",
       "<td>bike</td>\n",
       "<td>123.5</td>\n",
       "<td>247.0</td>\n",
       "</tr>\n",
       "<tr>\n",
       "<td>diaz</td>\n",
       "<td>2</td>\n",
       "<td>123</td>\n",
       "<td>table</td>\n",
       "<td>78.55</td>\n",
       "<td>157.1</td>\n",
       "</tr>\n",
       "<tr>\n",
       "<td>riley</td>\n",
       "<td>4</td>\n",
       "<td>232</td>\n",
       "<td>cup</td>\n",
       "<td>2.5</td>\n",
       "<td>10.0</td>\n",
       "</tr>\n",
       "</table>"
      ],
      "text/plain": [
       "+----------+----------+------------+---------+-------+------------+\n",
       "| customer | quantity | product_id | product | price | total_cost |\n",
       "+----------+----------+------------+---------+-------+------------+\n",
       "| lee      | 1        | 44         | rake    | 19.99 | 19.99      |\n",
       "+----------+----------+------------+---------+-------+------------+\n",
       "| yang     | 1        | 12         | bike    | 123.5 | 123.5      |\n",
       "+----------+----------+------------+---------+-------+------------+\n",
       "| guerra   | 2        | 12         | bike    | 123.5 | 247.0      |\n",
       "+----------+----------+------------+---------+-------+------------+\n",
       "| diaz     | 2        | 123        | table   | 78.55 | 157.1      |\n",
       "+----------+----------+------------+---------+-------+------------+\n",
       "| riley    | 4        | 232        | cup     | 2.5   | 10.0       |\n",
       "+----------+----------+------------+---------+-------+------------+"
      ]
     },
     "execution_count": 12,
     "metadata": {},
     "output_type": "execute_result"
    }
   ],
   "source": [
    "SELECT \n",
    "    ord.customer,\n",
    "    ord.quantity,\n",
    "    ord.product_id,\n",
    "    pro.product,\n",
    "    pro.price,\n",
    "    (pro.price * ord.quantity) AS total_cost\n",
    "FROM \n",
    "    orders        AS ord \n",
    "    JOIN products AS pro ON ord.product_id = pro.product_id \n",
    "WHERE \n",
    "    ord.quantity > 1\n",
    "    OR pro.product IN ('rake', 'bike')\n",
    ";"
   ]
  }
 ],
 "metadata": {
  "@webio": {
   "lastCommId": null,
   "lastKernelId": null
  },
  "celltoolbar": "Slideshow",
  "kernelspec": {
   "display_name": "xsqlite",
   "language": "sqlite",
   "name": "xsqlite"
  },
  "language_info": {
   "codemirror_mode": "sql",
   "file_extension": "",
   "mimetype": "",
   "name": "sqlite3",
   "version": "3.30.1"
  }
 },
 "nbformat": 4,
 "nbformat_minor": 2
}
