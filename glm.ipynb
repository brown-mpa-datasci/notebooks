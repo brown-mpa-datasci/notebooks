{
 "cells": [
  {
   "cell_type": "markdown",
   "metadata": {
    "slideshow": {
     "slide_type": "slide"
    }
   },
   "source": [
    "<center><h1>Generalized Linear Models in R</h1></center>"
   ]
  },
  {
   "cell_type": "markdown",
   "metadata": {
    "slideshow": {
     "slide_type": "subslide"
    }
   },
   "source": [
    "# 1. Generalized Linear Models\n",
    "\n",
    "  - Family of models _including_ linear models\n",
    "  - Generalization of linear models to included categorical and/or non-normaly distributed dependent/outcome variable\n",
    "  - Examples:\n",
    "    + Binomial logistic regression\n",
    "    + Multinomial regression\n",
    "    + Poisson regression"
   ]
  },
  {
   "cell_type": "markdown",
   "metadata": {
    "slideshow": {
     "slide_type": "subslide"
    }
   },
   "source": [
    " ## 1.1 Note on Terminology\n",
    "  - General Linear Model $\\ne$ General**ized** Linear Model\n",
    "\n",
    "  - General linear model refers to models with a continuous outcome variable, and assumption of normality\n",
    "    + ANOVA (and friends)\n",
    "    + Linear regression\n",
    "\n",
    "  - Term General**ized** Linear Model used to refer to a family of models for categorical and/or non-normally distributed outcome variables \n",
    "      "
   ]
  },
  {
   "cell_type": "markdown",
   "metadata": {
    "slideshow": {
     "slide_type": "slide"
    }
   },
   "source": [
    "# 2 Binomial Logistic Regression\n",
    "\n",
    "  - Linear regression assumes a continuous outcome variable\n",
    "\n",
    "  - If the outcome variable is _not_ continuous, we need a different approach. \n",
    "        \n",
    "  - In the case of a binary outcome variable, we model $\\text{Pr}(y_i = 1)$\n"
   ]
  },
  {
   "cell_type": "markdown",
   "metadata": {
    "slideshow": {
     "slide_type": "subslide"
    }
   },
   "source": [
    "## 2.1 Logistic Regression vs. Linear Regression\n",
    "    \n",
    "Differences from linear regression:\n",
    "  - Assumes outcome is bounded by $0$ and $1$\n",
    "    + that is $0 \\le E(y_i) = \\pi_i \\le 1$\n",
    "  - Variance of $y$ is _not_ constant (i.e., not the same for all $y_i$)\n",
    "  - Similarly, variance of $\\varepsilon$ is not constant\n",
    "  - Computational differences (i.e., closed-form vs numerical methods)\n"
   ]
  },
  {
   "cell_type": "markdown",
   "metadata": {
    "slideshow": {
     "slide_type": "subslide"
    }
   },
   "source": [
    "## 2.2 Components of Generalized Linear Models\n",
    "Recall the form of the linear model:\n",
    "        \n",
    "$$ y = \\beta_0 + \\beta_1 x_1 + ... + \\beta_p x_p + \\varepsilon $$ \n",
    "        \n",
    "\n",
    "which can also be written in matrix notation as\n",
    "        \n",
    "$$\\mathbf{y} = \\mathbf{X} \\boldsymbol{\\beta} + \\boldsymbol{\\varepsilon} $$\n",
    "        \n",
    "where $\\mathbf{X} \\boldsymbol{\\beta}$ is the systemic component and $\\boldsymbol{\\varepsilon}$ is the random component.\n"
   ]
  },
  {
   "cell_type": "markdown",
   "metadata": {
    "slideshow": {
     "slide_type": "subslide"
    }
   },
   "source": [
    "### 2.2.1 Components of Generalized Linear Model (cont.)\n",
    "\n",
    "Form of GLM:\n",
    "$$g(\\mu) = \\mathbf{X} \\boldsymbol{\\beta}$$\n",
    "\n",
    "Generalized linear models have 3 components:\n",
    "1. Systemic component\n",
    "  - Same as linear regression (e.g., $\\mathbf{X} \\boldsymbol{\\beta}$)\n",
    "2. Response distribution assumption\n",
    "  - Random component of the model\n",
    "  - Specifies the probabilistic mechanism by which responses were generated\n",
    "3. Link function\n",
    "  - This is $g(\\cdot)$ in equation above\n"
   ]
  },
  {
   "cell_type": "markdown",
   "metadata": {
    "slideshow": {
     "slide_type": "subslide"
    }
   },
   "source": [
    "### 2.2.2 The Link Function\n",
    "\n",
    "Link function is a characteristic feature of generalized linear models\n",
    "\n",
    "A link function:\n",
    "1. Connects the systemic component to response (i.e., \"links\" them) \n",
    " - Allows us to map a linear function with range $\\left( - \\infty, \\infty \\right)$ to some new range; e.g., $\\left(0, 1\\right)$\n",
    "2. Differs according to the species of GLM in question (and even within)\n",
    "3. Similar to \"activation functions\" in artificial neural networks\n"
   ]
  },
  {
   "cell_type": "markdown",
   "metadata": {
    "slideshow": {
     "slide_type": "subslide"
    }
   },
   "source": [
    "### 2.2.3 Binomial Logistic Regression\n",
    "Logistic regression with a single predictor:\n",
    "\n",
    "\\begin{equation*}\n",
    "\\begin{split}\n",
    "\\pi(x_1) & = \\frac{\\exp{(\\beta_0 + \\beta_1 x_1 )}}{1 + \\exp{(\\beta_0 + \\beta_1 x_1 )}} \\\\\n",
    "& \\\\\n",
    "& = \\frac{1}{1 + \\exp{(- \\eta )}}\n",
    "\\end{split}\n",
    "\\end{equation*}\n",
    "where $\\eta = \\beta_0 + \\beta_1 x_1$"
   ]
  },
  {
   "cell_type": "markdown",
   "metadata": {
    "slideshow": {
     "slide_type": "subslide"
    }
   },
   "source": [
    "### 2.2.4 Binomial Logistic Regression\n",
    "$$ \\pi(x_1) = \\frac{\\exp{(\\beta_0 + \\beta_1 x_1 )}}{1 + \\exp{(\\beta_0 + \\beta_1 x_1 )}} $$\n",
    "\n",
    "\n",
    "Note that the $ \\beta_0 + \\beta_1 x_1 $ in the above equation is the same as we saw in linear regression. This is called the _linear predictor_ in logistic regression"
   ]
  },
  {
   "cell_type": "markdown",
   "metadata": {
    "slideshow": {
     "slide_type": "subslide"
    }
   },
   "source": [
    "### 2.2.5 Interpreting Parameter Estimates\n",
    "Interpretation of logistic regression parameter estimates:\n",
    "\n",
    "\n",
    "1. Slightly different than linear regression\n",
    "2. Recall our model is $\\text{Pr}\\left(y_i = 1\\right) = \\text{logit}^{-1}\\left(\\mathbf{X} \\boldsymbol{\\beta}\\right)$\n",
    "3. Regression parameters estimates are on logit scale (log odds), \n",
    "  - It's common to exponentiate $\\widehat{\\boldsymbol{\\beta}}$\n",
    "  - Value of $\\text{exp}\\left(\\beta_j\\right)$ is the odds ratio of 1-unit increase on $x_j$"
   ]
  },
  {
   "cell_type": "markdown",
   "metadata": {
    "slideshow": {
     "slide_type": "subslide"
    }
   },
   "source": [
    "### 2.2.6 Model Evaluation\n",
    "\n",
    "1. Recall that $R^2$ in linear regression gives us a nice method of evaluating models (i.e., proportion of variance explained). \n",
    "2. However, in logistic regression, there is no direct analogue to $R^2$ (but there are some similar measure)\n",
    "3. Thus, we tend to rely on the information-based criteria discussed previously (e.g., AIC, BIC)\n",
    "  - These also have the advantage of penalizing unnecessary model complexity"
   ]
  },
  {
   "cell_type": "markdown",
   "metadata": {
    "slideshow": {
     "slide_type": "subslide"
    }
   },
   "source": [
    "### 2.2.7 Choice of Link Function\n",
    "Several link function options for modeling binomial data:\n",
    "\n",
    "1. Logit link (most common, by far)\n",
    "2. CDF of normal distribution (probit regression)\n",
    "3. CDF of $t$-distribution (_robit_ model; robust binomial regression)\n",
    "  - Degrees of freedom parameter allows for flexibility in accommodating outliers"
   ]
  },
  {
   "cell_type": "markdown",
   "metadata": {
    "slideshow": {
     "slide_type": "subslide"
    }
   },
   "source": [
    "### 2.2.8 When to use Logistic Regression\n",
    "\n",
    "  - Used when outcome variable takes one of two values (e.g., $0$ or $1$, \"lived\" or \"died\") \n",
    "  - Similar structure as linear regression \n",
    "\n",
    "    + Estimate effects of predictors on outcome\n",
    "    + Can have one or many predictors\n",
    "\n",
    "  - Can answer similar kinds of questions as linear regression, for example:\n",
    "    + _What is the effect of the predictor, $x$, on the outcome $y$?_"
   ]
  },
  {
   "cell_type": "markdown",
   "metadata": {
    "slideshow": {
     "slide_type": "subslide"
    }
   },
   "source": [
    "## 2.3 Single-Variable Logistic Regression in R\n",
    "\n",
    "  - Suppose we are interested in the survival of passengers on the Titanic. \n",
    "  - In particular, suppose we want to know whether a passenger's gender impacted whether or not they survived.\n",
    "  - We can investigagte this using logistic regression."
   ]
  },
  {
   "cell_type": "code",
   "execution_count": 1,
   "metadata": {
    "slideshow": {
     "slide_type": "fragment"
    }
   },
   "outputs": [
    {
     "data": {
      "text/html": [
       "<table>\n",
       "<caption>A data.frame: 6 × 12</caption>\n",
       "<thead>\n",
       "\t<tr><th></th><th scope=col>passenger_id</th><th scope=col>survived</th><th scope=col>pclass</th><th scope=col>name</th><th scope=col>sex</th><th scope=col>age</th><th scope=col>sibsp</th><th scope=col>parch</th><th scope=col>ticket</th><th scope=col>fare</th><th scope=col>cabin</th><th scope=col>embarked</th></tr>\n",
       "\t<tr><th></th><th scope=col>&lt;int&gt;</th><th scope=col>&lt;int&gt;</th><th scope=col>&lt;int&gt;</th><th scope=col>&lt;chr&gt;</th><th scope=col>&lt;chr&gt;</th><th scope=col>&lt;dbl&gt;</th><th scope=col>&lt;int&gt;</th><th scope=col>&lt;int&gt;</th><th scope=col>&lt;chr&gt;</th><th scope=col>&lt;dbl&gt;</th><th scope=col>&lt;chr&gt;</th><th scope=col>&lt;chr&gt;</th></tr>\n",
       "</thead>\n",
       "<tbody>\n",
       "\t<tr><th scope=row>1</th><td>1</td><td>0</td><td>3</td><td>Braund, Mr. Owen Harris                            </td><td>male  </td><td>22</td><td>1</td><td>0</td><td>A/5 21171       </td><td> 7.2500</td><td>    </td><td>S</td></tr>\n",
       "\t<tr><th scope=row>2</th><td>2</td><td>1</td><td>1</td><td>Cumings, Mrs. John Bradley (Florence Briggs Thayer)</td><td>female</td><td>38</td><td>1</td><td>0</td><td>PC 17599        </td><td>71.2833</td><td>C85 </td><td>C</td></tr>\n",
       "\t<tr><th scope=row>3</th><td>3</td><td>1</td><td>3</td><td>Heikkinen, Miss. Laina                             </td><td>female</td><td>26</td><td>0</td><td>0</td><td>STON/O2. 3101282</td><td> 7.9250</td><td>    </td><td>S</td></tr>\n",
       "\t<tr><th scope=row>4</th><td>4</td><td>1</td><td>1</td><td>Futrelle, Mrs. Jacques Heath (Lily May Peel)       </td><td>female</td><td>35</td><td>1</td><td>0</td><td>113803          </td><td>53.1000</td><td>C123</td><td>S</td></tr>\n",
       "\t<tr><th scope=row>5</th><td>5</td><td>0</td><td>3</td><td>Allen, Mr. William Henry                           </td><td>male  </td><td>35</td><td>0</td><td>0</td><td>373450          </td><td> 8.0500</td><td>    </td><td>S</td></tr>\n",
       "\t<tr><th scope=row>6</th><td>6</td><td>0</td><td>3</td><td>Moran, Mr. James                                   </td><td>male  </td><td>NA</td><td>0</td><td>0</td><td>330877          </td><td> 8.4583</td><td>    </td><td>Q</td></tr>\n",
       "</tbody>\n",
       "</table>\n"
      ],
      "text/latex": [
       "A data.frame: 6 × 12\n",
       "\\begin{tabular}{r|llllllllllll}\n",
       "  & passenger\\_id & survived & pclass & name & sex & age & sibsp & parch & ticket & fare & cabin & embarked\\\\\n",
       "  & <int> & <int> & <int> & <chr> & <chr> & <dbl> & <int> & <int> & <chr> & <dbl> & <chr> & <chr>\\\\\n",
       "\\hline\n",
       "\t1 & 1 & 0 & 3 & Braund, Mr. Owen Harris                             & male   & 22 & 1 & 0 & A/5 21171        &  7.2500 &      & S\\\\\n",
       "\t2 & 2 & 1 & 1 & Cumings, Mrs. John Bradley (Florence Briggs Thayer) & female & 38 & 1 & 0 & PC 17599         & 71.2833 & C85  & C\\\\\n",
       "\t3 & 3 & 1 & 3 & Heikkinen, Miss. Laina                              & female & 26 & 0 & 0 & STON/O2. 3101282 &  7.9250 &      & S\\\\\n",
       "\t4 & 4 & 1 & 1 & Futrelle, Mrs. Jacques Heath (Lily May Peel)        & female & 35 & 1 & 0 & 113803           & 53.1000 & C123 & S\\\\\n",
       "\t5 & 5 & 0 & 3 & Allen, Mr. William Henry                            & male   & 35 & 0 & 0 & 373450           &  8.0500 &      & S\\\\\n",
       "\t6 & 6 & 0 & 3 & Moran, Mr. James                                    & male   & NA & 0 & 0 & 330877           &  8.4583 &      & Q\\\\\n",
       "\\end{tabular}\n"
      ],
      "text/markdown": [
       "\n",
       "A data.frame: 6 × 12\n",
       "\n",
       "| <!--/--> | passenger_id &lt;int&gt; | survived &lt;int&gt; | pclass &lt;int&gt; | name &lt;chr&gt; | sex &lt;chr&gt; | age &lt;dbl&gt; | sibsp &lt;int&gt; | parch &lt;int&gt; | ticket &lt;chr&gt; | fare &lt;dbl&gt; | cabin &lt;chr&gt; | embarked &lt;chr&gt; |\n",
       "|---|---|---|---|---|---|---|---|---|---|---|---|---|\n",
       "| 1 | 1 | 0 | 3 | Braund, Mr. Owen Harris                             | male   | 22 | 1 | 0 | A/5 21171        |  7.2500 | <!----> | S |\n",
       "| 2 | 2 | 1 | 1 | Cumings, Mrs. John Bradley (Florence Briggs Thayer) | female | 38 | 1 | 0 | PC 17599         | 71.2833 | C85  | C |\n",
       "| 3 | 3 | 1 | 3 | Heikkinen, Miss. Laina                              | female | 26 | 0 | 0 | STON/O2. 3101282 |  7.9250 | <!----> | S |\n",
       "| 4 | 4 | 1 | 1 | Futrelle, Mrs. Jacques Heath (Lily May Peel)        | female | 35 | 1 | 0 | 113803           | 53.1000 | C123 | S |\n",
       "| 5 | 5 | 0 | 3 | Allen, Mr. William Henry                            | male   | 35 | 0 | 0 | 373450           |  8.0500 | <!----> | S |\n",
       "| 6 | 6 | 0 | 3 | Moran, Mr. James                                    | male   | NA | 0 | 0 | 330877           |  8.4583 | <!----> | Q |\n",
       "\n"
      ],
      "text/plain": [
       "  passenger_id survived pclass\n",
       "1 1            0        3     \n",
       "2 2            1        1     \n",
       "3 3            1        3     \n",
       "4 4            1        1     \n",
       "5 5            0        3     \n",
       "6 6            0        3     \n",
       "  name                                                sex    age sibsp parch\n",
       "1 Braund, Mr. Owen Harris                             male   22  1     0    \n",
       "2 Cumings, Mrs. John Bradley (Florence Briggs Thayer) female 38  1     0    \n",
       "3 Heikkinen, Miss. Laina                              female 26  0     0    \n",
       "4 Futrelle, Mrs. Jacques Heath (Lily May Peel)        female 35  1     0    \n",
       "5 Allen, Mr. William Henry                            male   35  0     0    \n",
       "6 Moran, Mr. James                                    male   NA  0     0    \n",
       "  ticket           fare    cabin embarked\n",
       "1 A/5 21171         7.2500       S       \n",
       "2 PC 17599         71.2833 C85   C       \n",
       "3 STON/O2. 3101282  7.9250       S       \n",
       "4 113803           53.1000 C123  S       \n",
       "5 373450            8.0500       S       \n",
       "6 330877            8.4583       Q       "
      ]
     },
     "metadata": {},
     "output_type": "display_data"
    }
   ],
   "source": [
    "library(broom)\n",
    "\n",
    "titanic_df <- read.csv(\"data/titanic_subset.csv\")\n",
    "\n",
    "head(titanic_df)"
   ]
  },
  {
   "cell_type": "markdown",
   "metadata": {
    "slideshow": {
     "slide_type": "subslide"
    }
   },
   "source": [
    "### 2.3.1 Fitting the Model\n",
    "- Generalized linear models are fitted using `glm()` function"
   ]
  },
  {
   "cell_type": "code",
   "execution_count": 2,
   "metadata": {
    "slideshow": {
     "slide_type": "fragment"
    }
   },
   "outputs": [],
   "source": [
    "fm1 <- glm(survived ~ sex, titanic_df, family = binomial(link = \"logit\"))"
   ]
  },
  {
   "cell_type": "code",
   "execution_count": 5,
   "metadata": {
    "slideshow": {
     "slide_type": "fragment"
    }
   },
   "outputs": [
    {
     "data": {
      "text/html": [
       "<table>\n",
       "<caption>A tibble: 2 × 5</caption>\n",
       "<thead>\n",
       "\t<tr><th scope=col>term</th><th scope=col>estimate</th><th scope=col>std.error</th><th scope=col>statistic</th><th scope=col>p.value</th></tr>\n",
       "\t<tr><th scope=col>&lt;chr&gt;</th><th scope=col>&lt;dbl&gt;</th><th scope=col>&lt;dbl&gt;</th><th scope=col>&lt;dbl&gt;</th><th scope=col>&lt;dbl&gt;</th></tr>\n",
       "</thead>\n",
       "<tbody>\n",
       "\t<tr><td>(Intercept)</td><td> 1.056589</td><td>0.1289864</td><td>  8.191477</td><td>2.580394e-16</td></tr>\n",
       "\t<tr><td>sexmale    </td><td>-2.513710</td><td>0.1671782</td><td>-15.036107</td><td>4.258662e-51</td></tr>\n",
       "</tbody>\n",
       "</table>\n"
      ],
      "text/latex": [
       "A tibble: 2 × 5\n",
       "\\begin{tabular}{lllll}\n",
       " term & estimate & std.error & statistic & p.value\\\\\n",
       " <chr> & <dbl> & <dbl> & <dbl> & <dbl>\\\\\n",
       "\\hline\n",
       "\t (Intercept) &  1.056589 & 0.1289864 &   8.191477 & 2.580394e-16\\\\\n",
       "\t sexmale     & -2.513710 & 0.1671782 & -15.036107 & 4.258662e-51\\\\\n",
       "\\end{tabular}\n"
      ],
      "text/markdown": [
       "\n",
       "A tibble: 2 × 5\n",
       "\n",
       "| term &lt;chr&gt; | estimate &lt;dbl&gt; | std.error &lt;dbl&gt; | statistic &lt;dbl&gt; | p.value &lt;dbl&gt; |\n",
       "|---|---|---|---|---|\n",
       "| (Intercept) |  1.056589 | 0.1289864 |   8.191477 | 2.580394e-16 |\n",
       "| sexmale     | -2.513710 | 0.1671782 | -15.036107 | 4.258662e-51 |\n",
       "\n"
      ],
      "text/plain": [
       "  term        estimate  std.error statistic  p.value     \n",
       "1 (Intercept)  1.056589 0.1289864   8.191477 2.580394e-16\n",
       "2 sexmale     -2.513710 0.1671782 -15.036107 4.258662e-51"
      ]
     },
     "metadata": {},
     "output_type": "display_data"
    },
    {
     "data": {
      "text/html": [
       "<table>\n",
       "<caption>A tibble: 1 × 8</caption>\n",
       "<thead>\n",
       "\t<tr><th scope=col>null.deviance</th><th scope=col>df.null</th><th scope=col>logLik</th><th scope=col>AIC</th><th scope=col>BIC</th><th scope=col>deviance</th><th scope=col>df.residual</th><th scope=col>nobs</th></tr>\n",
       "\t<tr><th scope=col>&lt;dbl&gt;</th><th scope=col>&lt;int&gt;</th><th scope=col>&lt;dbl&gt;</th><th scope=col>&lt;dbl&gt;</th><th scope=col>&lt;dbl&gt;</th><th scope=col>&lt;dbl&gt;</th><th scope=col>&lt;int&gt;</th><th scope=col>&lt;int&gt;</th></tr>\n",
       "</thead>\n",
       "<tbody>\n",
       "\t<tr><td>1186.655</td><td>890</td><td>-458.902</td><td>921.8039</td><td>931.3886</td><td>917.8039</td><td>889</td><td>891</td></tr>\n",
       "</tbody>\n",
       "</table>\n"
      ],
      "text/latex": [
       "A tibble: 1 × 8\n",
       "\\begin{tabular}{llllllll}\n",
       " null.deviance & df.null & logLik & AIC & BIC & deviance & df.residual & nobs\\\\\n",
       " <dbl> & <int> & <dbl> & <dbl> & <dbl> & <dbl> & <int> & <int>\\\\\n",
       "\\hline\n",
       "\t 1186.655 & 890 & -458.902 & 921.8039 & 931.3886 & 917.8039 & 889 & 891\\\\\n",
       "\\end{tabular}\n"
      ],
      "text/markdown": [
       "\n",
       "A tibble: 1 × 8\n",
       "\n",
       "| null.deviance &lt;dbl&gt; | df.null &lt;int&gt; | logLik &lt;dbl&gt; | AIC &lt;dbl&gt; | BIC &lt;dbl&gt; | deviance &lt;dbl&gt; | df.residual &lt;int&gt; | nobs &lt;int&gt; |\n",
       "|---|---|---|---|---|---|---|---|\n",
       "| 1186.655 | 890 | -458.902 | 921.8039 | 931.3886 | 917.8039 | 889 | 891 |\n",
       "\n"
      ],
      "text/plain": [
       "  null.deviance df.null logLik   AIC      BIC      deviance df.residual nobs\n",
       "1 1186.655      890     -458.902 921.8039 931.3886 917.8039 889         891 "
      ]
     },
     "metadata": {},
     "output_type": "display_data"
    }
   ],
   "source": [
    "tidy(fm1)           # show table of regression parameter estimates\n",
    "\n",
    "glance(fm1)         # show fit indices"
   ]
  },
  {
   "cell_type": "markdown",
   "metadata": {
    "slideshow": {
     "slide_type": "subslide"
    }
   },
   "source": [
    "### 2.3.2 Using Fitted Model to Make Predictions\n",
    "\n",
    "- We can use fitted model object (e.g., `fm1`) to make predictions for new data\n",
    "- Use the `predict()` function"
   ]
  },
  {
   "cell_type": "code",
   "execution_count": 8,
   "metadata": {
    "slideshow": {
     "slide_type": "fragment"
    }
   },
   "outputs": [
    {
     "data": {
      "text/html": [
       "<strong>1:</strong> 0.188908145580594"
      ],
      "text/latex": [
       "\\textbf{1:} 0.188908145580594"
      ],
      "text/markdown": [
       "**1:** 0.188908145580594"
      ],
      "text/plain": [
       "        1 \n",
       "0.1889081 "
      ]
     },
     "metadata": {},
     "output_type": "display_data"
    }
   ],
   "source": [
    "predict(fm1, newdata = data.frame(sex = \"male\"), type = \"response\")"
   ]
  },
  {
   "cell_type": "markdown",
   "metadata": {
    "slideshow": {
     "slide_type": "slide"
    }
   },
   "source": [
    "## 3. Why do we Need Logistic Regression?"
   ]
  },
  {
   "cell_type": "code",
   "execution_count": 9,
   "metadata": {
    "slideshow": {
     "slide_type": "fragment"
    }
   },
   "outputs": [],
   "source": [
    "fm1b <- lm(survived ~ sex, titanic_df)"
   ]
  },
  {
   "cell_type": "code",
   "execution_count": 12,
   "metadata": {
    "slideshow": {
     "slide_type": "fragment"
    }
   },
   "outputs": [
    {
     "data": {
      "text/html": [
       "<table>\n",
       "<caption>A tibble: 2 × 5</caption>\n",
       "<thead>\n",
       "\t<tr><th scope=col>term</th><th scope=col>estimate</th><th scope=col>std.error</th><th scope=col>statistic</th><th scope=col>p.value</th></tr>\n",
       "\t<tr><th scope=col>&lt;chr&gt;</th><th scope=col>&lt;dbl&gt;</th><th scope=col>&lt;dbl&gt;</th><th scope=col>&lt;dbl&gt;</th><th scope=col>&lt;dbl&gt;</th></tr>\n",
       "</thead>\n",
       "<tbody>\n",
       "\t<tr><td>(Intercept)</td><td> 0.7420382</td><td>0.02306578</td><td> 32.17052</td><td>3.349895e-151</td></tr>\n",
       "\t<tr><td>sexmale    </td><td>-0.5531301</td><td>0.02866283</td><td>-19.29782</td><td> 1.406066e-69</td></tr>\n",
       "</tbody>\n",
       "</table>\n"
      ],
      "text/latex": [
       "A tibble: 2 × 5\n",
       "\\begin{tabular}{lllll}\n",
       " term & estimate & std.error & statistic & p.value\\\\\n",
       " <chr> & <dbl> & <dbl> & <dbl> & <dbl>\\\\\n",
       "\\hline\n",
       "\t (Intercept) &  0.7420382 & 0.02306578 &  32.17052 & 3.349895e-151\\\\\n",
       "\t sexmale     & -0.5531301 & 0.02866283 & -19.29782 &  1.406066e-69\\\\\n",
       "\\end{tabular}\n"
      ],
      "text/markdown": [
       "\n",
       "A tibble: 2 × 5\n",
       "\n",
       "| term &lt;chr&gt; | estimate &lt;dbl&gt; | std.error &lt;dbl&gt; | statistic &lt;dbl&gt; | p.value &lt;dbl&gt; |\n",
       "|---|---|---|---|---|\n",
       "| (Intercept) |  0.7420382 | 0.02306578 |  32.17052 | 3.349895e-151 |\n",
       "| sexmale     | -0.5531301 | 0.02866283 | -19.29782 |  1.406066e-69 |\n",
       "\n"
      ],
      "text/plain": [
       "  term        estimate   std.error  statistic p.value      \n",
       "1 (Intercept)  0.7420382 0.02306578  32.17052 3.349895e-151\n",
       "2 sexmale     -0.5531301 0.02866283 -19.29782  1.406066e-69"
      ]
     },
     "metadata": {},
     "output_type": "display_data"
    }
   ],
   "source": [
    "tidy(fm1b)"
   ]
  },
  {
   "cell_type": "markdown",
   "metadata": {
    "slideshow": {
     "slide_type": "subslide"
    }
   },
   "source": [
    "## 3.1 Simulated Data Example"
   ]
  },
  {
   "cell_type": "code",
   "execution_count": 18,
   "metadata": {
    "slideshow": {
     "slide_type": "fragment"
    }
   },
   "outputs": [
    {
     "data": {
      "text/html": [
       "<table>\n",
       "<caption>A data.frame: 6 × 2</caption>\n",
       "<thead>\n",
       "\t<tr><th></th><th scope=col>y</th><th scope=col>x</th></tr>\n",
       "\t<tr><th></th><th scope=col>&lt;int&gt;</th><th scope=col>&lt;dbl&gt;</th></tr>\n",
       "</thead>\n",
       "<tbody>\n",
       "\t<tr><th scope=row>1</th><td>1</td><td>-1.0741525</td></tr>\n",
       "\t<tr><th scope=row>2</th><td>1</td><td>-1.4715326</td></tr>\n",
       "\t<tr><th scope=row>3</th><td>1</td><td> 0.1152517</td></tr>\n",
       "\t<tr><th scope=row>4</th><td>1</td><td>-1.0562349</td></tr>\n",
       "\t<tr><th scope=row>5</th><td>0</td><td> 1.8784230</td></tr>\n",
       "\t<tr><th scope=row>6</th><td>1</td><td>-1.3793435</td></tr>\n",
       "</tbody>\n",
       "</table>\n"
      ],
      "text/latex": [
       "A data.frame: 6 × 2\n",
       "\\begin{tabular}{r|ll}\n",
       "  & y & x\\\\\n",
       "  & <int> & <dbl>\\\\\n",
       "\\hline\n",
       "\t1 & 1 & -1.0741525\\\\\n",
       "\t2 & 1 & -1.4715326\\\\\n",
       "\t3 & 1 &  0.1152517\\\\\n",
       "\t4 & 1 & -1.0562349\\\\\n",
       "\t5 & 0 &  1.8784230\\\\\n",
       "\t6 & 1 & -1.3793435\\\\\n",
       "\\end{tabular}\n"
      ],
      "text/markdown": [
       "\n",
       "A data.frame: 6 × 2\n",
       "\n",
       "| <!--/--> | y &lt;int&gt; | x &lt;dbl&gt; |\n",
       "|---|---|---|\n",
       "| 1 | 1 | -1.0741525 |\n",
       "| 2 | 1 | -1.4715326 |\n",
       "| 3 | 1 |  0.1152517 |\n",
       "| 4 | 1 | -1.0562349 |\n",
       "| 5 | 0 |  1.8784230 |\n",
       "| 6 | 1 | -1.3793435 |\n",
       "\n"
      ],
      "text/plain": [
       "  y x         \n",
       "1 1 -1.0741525\n",
       "2 1 -1.4715326\n",
       "3 1  0.1152517\n",
       "4 1 -1.0562349\n",
       "5 0  1.8784230\n",
       "6 1 -1.3793435"
      ]
     },
     "metadata": {},
     "output_type": "display_data"
    }
   ],
   "source": [
    "n <- 1500            # set sample size\n",
    "beta0 <- 1.2        # specify regression parameters\n",
    "beta1 <- -0.7\n",
    "\n",
    "x <- rnorm(n)           \n",
    "\n",
    "# Define a function to compute the inverse logit. \n",
    "# Recall this is our link function.\n",
    "invlogit <- function(eta) {\n",
    "    res <- 1/(1 + exp(-eta))\n",
    "    return(res)\n",
    "}\n",
    "\n",
    "pr <- invlogit(beta0 + beta1*x)\n",
    "\n",
    "y <- rbinom(n, 1, pr)\n",
    "\n",
    "dat <- data.frame(y, x)\n",
    "\n",
    "# Fit a linear model and a binomial logistic model\n",
    "lm1 <- lm(y ~ x, dat)\n",
    "\n",
    "glm1 <- glm(y ~ x, dat, family = binomial(link = \"logit\"))\n",
    "\n",
    "head(dat)"
   ]
  },
  {
   "cell_type": "markdown",
   "metadata": {
    "slideshow": {
     "slide_type": "subslide"
    }
   },
   "source": [
    "### 3.1.1 Comparing our Linear Model and Bionomial Logistic Model\n",
    "\n",
    " - Compare linear regression to logistic \n",
    " - Logistic does better job of recovering betas (i.e., `1.2` and `-0.7`)"
   ]
  },
  {
   "cell_type": "code",
   "execution_count": 19,
   "metadata": {
    "slideshow": {
     "slide_type": "fragment"
    }
   },
   "outputs": [
    {
     "data": {
      "text/html": [
       "<table>\n",
       "<caption>A tibble: 2 × 5</caption>\n",
       "<thead>\n",
       "\t<tr><th scope=col>term</th><th scope=col>estimate</th><th scope=col>std.error</th><th scope=col>statistic</th><th scope=col>p.value</th></tr>\n",
       "\t<tr><th scope=col>&lt;chr&gt;</th><th scope=col>&lt;dbl&gt;</th><th scope=col>&lt;dbl&gt;</th><th scope=col>&lt;dbl&gt;</th><th scope=col>&lt;dbl&gt;</th></tr>\n",
       "</thead>\n",
       "<tbody>\n",
       "\t<tr><td>(Intercept)</td><td> 0.746050</td><td>0.01059812</td><td> 70.39454</td><td>0.000000e+00</td></tr>\n",
       "\t<tr><td>x          </td><td>-0.135349</td><td>0.01029997</td><td>-13.14072</td><td>2.070344e-37</td></tr>\n",
       "</tbody>\n",
       "</table>\n"
      ],
      "text/latex": [
       "A tibble: 2 × 5\n",
       "\\begin{tabular}{lllll}\n",
       " term & estimate & std.error & statistic & p.value\\\\\n",
       " <chr> & <dbl> & <dbl> & <dbl> & <dbl>\\\\\n",
       "\\hline\n",
       "\t (Intercept) &  0.746050 & 0.01059812 &  70.39454 & 0.000000e+00\\\\\n",
       "\t x           & -0.135349 & 0.01029997 & -13.14072 & 2.070344e-37\\\\\n",
       "\\end{tabular}\n"
      ],
      "text/markdown": [
       "\n",
       "A tibble: 2 × 5\n",
       "\n",
       "| term &lt;chr&gt; | estimate &lt;dbl&gt; | std.error &lt;dbl&gt; | statistic &lt;dbl&gt; | p.value &lt;dbl&gt; |\n",
       "|---|---|---|---|---|\n",
       "| (Intercept) |  0.746050 | 0.01059812 |  70.39454 | 0.000000e+00 |\n",
       "| x           | -0.135349 | 0.01029997 | -13.14072 | 2.070344e-37 |\n",
       "\n"
      ],
      "text/plain": [
       "  term        estimate  std.error  statistic p.value     \n",
       "1 (Intercept)  0.746050 0.01059812  70.39454 0.000000e+00\n",
       "2 x           -0.135349 0.01029997 -13.14072 2.070344e-37"
      ]
     },
     "metadata": {},
     "output_type": "display_data"
    },
    {
     "data": {
      "text/html": [
       "<table>\n",
       "<caption>A tibble: 2 × 5</caption>\n",
       "<thead>\n",
       "\t<tr><th scope=col>term</th><th scope=col>estimate</th><th scope=col>std.error</th><th scope=col>statistic</th><th scope=col>p.value</th></tr>\n",
       "\t<tr><th scope=col>&lt;chr&gt;</th><th scope=col>&lt;dbl&gt;</th><th scope=col>&lt;dbl&gt;</th><th scope=col>&lt;dbl&gt;</th><th scope=col>&lt;dbl&gt;</th></tr>\n",
       "</thead>\n",
       "<tbody>\n",
       "\t<tr><td>(Intercept)</td><td> 1.2331373</td><td>0.06704368</td><td> 18.39304</td><td>1.493608e-75</td></tr>\n",
       "\t<tr><td>x          </td><td>-0.8210608</td><td>0.06999757</td><td>-11.72985</td><td>8.962068e-32</td></tr>\n",
       "</tbody>\n",
       "</table>\n"
      ],
      "text/latex": [
       "A tibble: 2 × 5\n",
       "\\begin{tabular}{lllll}\n",
       " term & estimate & std.error & statistic & p.value\\\\\n",
       " <chr> & <dbl> & <dbl> & <dbl> & <dbl>\\\\\n",
       "\\hline\n",
       "\t (Intercept) &  1.2331373 & 0.06704368 &  18.39304 & 1.493608e-75\\\\\n",
       "\t x           & -0.8210608 & 0.06999757 & -11.72985 & 8.962068e-32\\\\\n",
       "\\end{tabular}\n"
      ],
      "text/markdown": [
       "\n",
       "A tibble: 2 × 5\n",
       "\n",
       "| term &lt;chr&gt; | estimate &lt;dbl&gt; | std.error &lt;dbl&gt; | statistic &lt;dbl&gt; | p.value &lt;dbl&gt; |\n",
       "|---|---|---|---|---|\n",
       "| (Intercept) |  1.2331373 | 0.06704368 |  18.39304 | 1.493608e-75 |\n",
       "| x           | -0.8210608 | 0.06999757 | -11.72985 | 8.962068e-32 |\n",
       "\n"
      ],
      "text/plain": [
       "  term        estimate   std.error  statistic p.value     \n",
       "1 (Intercept)  1.2331373 0.06704368  18.39304 1.493608e-75\n",
       "2 x           -0.8210608 0.06999757 -11.72985 8.962068e-32"
      ]
     },
     "metadata": {},
     "output_type": "display_data"
    }
   ],
   "source": [
    "tidy(lm1)\n",
    "\n",
    "tidy(glm1)"
   ]
  },
  {
   "cell_type": "markdown",
   "metadata": {
    "slideshow": {
     "slide_type": "subslide"
    }
   },
   "source": [
    "\n",
    "# 4. Multivariate Binomial Logistic Regression\n",
    "\n",
    "Suppose now we want to investigate the effect of both sex and age on survival. We use the model below. "
   ]
  },
  {
   "cell_type": "code",
   "execution_count": null,
   "metadata": {
    "slideshow": {
     "slide_type": "fragment"
    }
   },
   "outputs": [],
   "source": [
    "fm2 <- glm(survived ~ sex + age, titanic_df, family = binomial(link = \"logit\"))"
   ]
  },
  {
   "cell_type": "code",
   "execution_count": null,
   "metadata": {
    "slideshow": {
     "slide_type": "fragment"
    }
   },
   "outputs": [],
   "source": [
    "tidy(fm2)\n",
    "\n",
    "glance(fm2)"
   ]
  },
  {
   "cell_type": "code",
   "execution_count": null,
   "metadata": {
    "slideshow": {
     "slide_type": "fragment"
    }
   },
   "outputs": [],
   "source": [
    "predict(fm2, newdata = data.frame(sex = \"female\", age = 40), type = \"response\")"
   ]
  }
 ],
 "metadata": {
  "@webio": {
   "lastCommId": null,
   "lastKernelId": null
  },
  "celltoolbar": "Slideshow",
  "kernelspec": {
   "display_name": "R",
   "language": "R",
   "name": "ir"
  },
  "language_info": {
   "codemirror_mode": "r",
   "file_extension": ".r",
   "mimetype": "text/x-r-source",
   "name": "R",
   "pygments_lexer": "r",
   "version": "4.0.2"
  }
 },
 "nbformat": 4,
 "nbformat_minor": 2
}
