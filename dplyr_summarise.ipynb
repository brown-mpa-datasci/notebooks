{
 "cells": [
  {
   "cell_type": "markdown",
   "metadata": {
    "slideshow": {
     "slide_type": "slide"
    }
   },
   "source": [
    "<center><h1>Using <code>group_by()</code> and <code>summarise()</code> in dplyr</h1></center>"
   ]
  },
  {
   "cell_type": "markdown",
   "metadata": {
    "slideshow": {
     "slide_type": "slide"
    }
   },
   "source": [
    "# 1. Why use `group_by()` and `summarise()` from _dplyr_?\n",
    "  - Being able to aggregate and summarize by grouping is hugely common\n",
    "  - _split-apply-combine_ pattern\n",
    "  - These operations can be \"chained\" with other _dplyr_ functions\n",
    "  - Often makes for concise, intuitive, and readable code"
   ]
  },
  {
   "cell_type": "markdown",
   "metadata": {
    "slideshow": {
     "slide_type": "subslide"
    }
   },
   "source": [
    "## 1.1 Example of `group_by()` and `summarise()`"
   ]
  },
  {
   "cell_type": "code",
   "execution_count": 3,
   "metadata": {
    "slideshow": {
     "slide_type": "fragment"
    }
   },
   "outputs": [],
   "source": [
    "library(dplyr)\n",
    "\n",
    "arrests <- read.csv(\"data/pvd_arrests_2020-10-03.csv\")\n"
   ]
  },
  {
   "cell_type": "code",
   "execution_count": 4,
   "metadata": {
    "slideshow": {
     "slide_type": "fragment"
    }
   },
   "outputs": [
    {
     "name": "stderr",
     "output_type": "stream",
     "text": [
      "`summarise()` ungrouping output (override with `.groups` argument)\n",
      "\n"
     ]
    },
    {
     "data": {
      "text/html": [
       "<table>\n",
       "<caption>A tibble: 5 × 3</caption>\n",
       "<thead>\n",
       "\t<tr><th scope=col>gender</th><th scope=col>n_rows</th><th scope=col>mean_age</th></tr>\n",
       "\t<tr><th scope=col>&lt;chr&gt;</th><th scope=col>&lt;int&gt;</th><th scope=col>&lt;dbl&gt;</th></tr>\n",
       "</thead>\n",
       "<tbody>\n",
       "\t<tr><td>       </td><td>  21</td><td>29.47619</td></tr>\n",
       "\t<tr><td>Female </td><td>1906</td><td>31.99895</td></tr>\n",
       "\t<tr><td>Male   </td><td>6804</td><td>33.20988</td></tr>\n",
       "\t<tr><td>NULL   </td><td>  20</td><td>28.15000</td></tr>\n",
       "\t<tr><td>Unknown</td><td>   4</td><td>34.50000</td></tr>\n",
       "</tbody>\n",
       "</table>\n"
      ],
      "text/latex": [
       "A tibble: 5 × 3\n",
       "\\begin{tabular}{lll}\n",
       " gender & n\\_rows & mean\\_age\\\\\n",
       " <chr> & <int> & <dbl>\\\\\n",
       "\\hline\n",
       "\t         &   21 & 29.47619\\\\\n",
       "\t Female  & 1906 & 31.99895\\\\\n",
       "\t Male    & 6804 & 33.20988\\\\\n",
       "\t NULL    &   20 & 28.15000\\\\\n",
       "\t Unknown &    4 & 34.50000\\\\\n",
       "\\end{tabular}\n"
      ],
      "text/markdown": [
       "\n",
       "A tibble: 5 × 3\n",
       "\n",
       "| gender &lt;chr&gt; | n_rows &lt;int&gt; | mean_age &lt;dbl&gt; |\n",
       "|---|---|---|\n",
       "| <!----> |   21 | 29.47619 |\n",
       "| Female  | 1906 | 31.99895 |\n",
       "| Male    | 6804 | 33.20988 |\n",
       "| NULL    |   20 | 28.15000 |\n",
       "| Unknown |    4 | 34.50000 |\n",
       "\n"
      ],
      "text/plain": [
       "  gender  n_rows mean_age\n",
       "1           21   29.47619\n",
       "2 Female  1906   31.99895\n",
       "3 Male    6804   33.20988\n",
       "4 NULL      20   28.15000\n",
       "5 Unknown    4   34.50000"
      ]
     },
     "metadata": {},
     "output_type": "display_data"
    }
   ],
   "source": [
    "gender_tbl <- arrests %>%\n",
    "    group_by(gender) %>%\n",
    "    summarise(\n",
    "        n_rows = n(),\n",
    "        mean_age = mean(age)\n",
    "    ) \n",
    "\n",
    "head(gender_tbl)"
   ]
  },
  {
   "cell_type": "markdown",
   "metadata": {
    "slideshow": {
     "slide_type": "subslide"
    }
   },
   "source": [
    "# 2. Chaining `filter()` with `group_by()` and `summarise()`"
   ]
  },
  {
   "cell_type": "code",
   "execution_count": 7,
   "metadata": {
    "slideshow": {
     "slide_type": "fragment"
    }
   },
   "outputs": [
    {
     "name": "stderr",
     "output_type": "stream",
     "text": [
      "`summarise()` ungrouping output (override with `.groups` argument)\n",
      "\n"
     ]
    },
    {
     "data": {
      "text/html": [
       "<table>\n",
       "<caption>A tibble: 4 × 4</caption>\n",
       "<thead>\n",
       "\t<tr><th scope=col>gender</th><th scope=col>n_rows</th><th scope=col>mean_age</th><th scope=col>mean_cnts</th></tr>\n",
       "\t<tr><th scope=col>&lt;chr&gt;</th><th scope=col>&lt;int&gt;</th><th scope=col>&lt;dbl&gt;</th><th scope=col>&lt;dbl&gt;</th></tr>\n",
       "</thead>\n",
       "<tbody>\n",
       "\t<tr><td>       </td><td>   9</td><td>23.88889</td><td>1.000000</td></tr>\n",
       "\t<tr><td>Female </td><td> 515</td><td>33.46602</td><td>1.064039</td></tr>\n",
       "\t<tr><td>Male   </td><td>2039</td><td>33.38941</td><td>1.098027</td></tr>\n",
       "\t<tr><td>Unknown</td><td>   1</td><td>49.00000</td><td>1.000000</td></tr>\n",
       "</tbody>\n",
       "</table>\n"
      ],
      "text/latex": [
       "A tibble: 4 × 4\n",
       "\\begin{tabular}{llll}\n",
       " gender & n\\_rows & mean\\_age & mean\\_cnts\\\\\n",
       " <chr> & <int> & <dbl> & <dbl>\\\\\n",
       "\\hline\n",
       "\t         &    9 & 23.88889 & 1.000000\\\\\n",
       "\t Female  &  515 & 33.46602 & 1.064039\\\\\n",
       "\t Male    & 2039 & 33.38941 & 1.098027\\\\\n",
       "\t Unknown &    1 & 49.00000 & 1.000000\\\\\n",
       "\\end{tabular}\n"
      ],
      "text/markdown": [
       "\n",
       "A tibble: 4 × 4\n",
       "\n",
       "| gender &lt;chr&gt; | n_rows &lt;int&gt; | mean_age &lt;dbl&gt; | mean_cnts &lt;dbl&gt; |\n",
       "|---|---|---|---|\n",
       "| <!----> |    9 | 23.88889 | 1.000000 |\n",
       "| Female  |  515 | 33.46602 | 1.064039 |\n",
       "| Male    | 2039 | 33.38941 | 1.098027 |\n",
       "| Unknown |    1 | 49.00000 | 1.000000 |\n",
       "\n"
      ],
      "text/plain": [
       "  gender  n_rows mean_age mean_cnts\n",
       "1            9   23.88889 1.000000 \n",
       "2 Female   515   33.46602 1.064039 \n",
       "3 Male    2039   33.38941 1.098027 \n",
       "4 Unknown    1   49.00000 1.000000 "
      ]
     },
     "metadata": {},
     "output_type": "display_data"
    }
   ],
   "source": [
    "gender_tbl <- arrests %>%\n",
    "    filter(\n",
    "        from_city == \"Providence\",\n",
    "        year == 2019\n",
    "    ) %>%\n",
    "    group_by(gender) %>%\n",
    "    summarise(\n",
    "        n_rows = n(),\n",
    "        mean_age = mean(age),\n",
    "        mean_cnts = mean(counts, na.rm = TRUE)\n",
    "    ) \n",
    "\n",
    "head(gender_tbl)"
   ]
  },
  {
   "cell_type": "markdown",
   "metadata": {
    "slideshow": {
     "slide_type": "subslide"
    }
   },
   "source": [
    "## 2.1 More Interesting Example of Chaining"
   ]
  },
  {
   "cell_type": "code",
   "execution_count": 8,
   "metadata": {
    "slideshow": {
     "slide_type": "fragment"
    }
   },
   "outputs": [],
   "source": [
    "is_summer <- function(month_num) {\n",
    "    chk <- month_num %in% c(6, 7, 8)\n",
    "    return(chk)\n",
    "}"
   ]
  },
  {
   "cell_type": "code",
   "execution_count": 10,
   "metadata": {
    "slideshow": {
     "slide_type": "fragment"
    }
   },
   "outputs": [
    {
     "data": {
      "text/html": [
       "TRUE"
      ],
      "text/latex": [
       "TRUE"
      ],
      "text/markdown": [
       "TRUE"
      ],
      "text/plain": [
       "[1] TRUE"
      ]
     },
     "metadata": {},
     "output_type": "display_data"
    },
    {
     "data": {
      "text/html": [
       "FALSE"
      ],
      "text/latex": [
       "FALSE"
      ],
      "text/markdown": [
       "FALSE"
      ],
      "text/plain": [
       "[1] FALSE"
      ]
     },
     "metadata": {},
     "output_type": "display_data"
    },
    {
     "data": {
      "text/html": [
       "TRUE"
      ],
      "text/latex": [
       "TRUE"
      ],
      "text/markdown": [
       "TRUE"
      ],
      "text/plain": [
       "[1] TRUE"
      ]
     },
     "metadata": {},
     "output_type": "display_data"
    }
   ],
   "source": [
    "is_summer(6)   # TRUE\n",
    "is_summer(2)   # FALSE\n",
    "is_summer(8)   # TRUE\n"
   ]
  },
  {
   "cell_type": "markdown",
   "metadata": {
    "slideshow": {
     "slide_type": "subslide"
    }
   },
   "source": [
    "### 2.1.1 More Interesting Example (cont.)"
   ]
  },
  {
   "cell_type": "code",
   "execution_count": 11,
   "metadata": {
    "slideshow": {
     "slide_type": "fragment"
    }
   },
   "outputs": [
    {
     "name": "stderr",
     "output_type": "stream",
     "text": [
      "`summarise()` ungrouping output (override with `.groups` argument)\n",
      "\n"
     ]
    },
    {
     "data": {
      "text/html": [
       "<table>\n",
       "<caption>A tibble: 10 × 5</caption>\n",
       "<thead>\n",
       "\t<tr><th scope=col>statute_desc</th><th scope=col>n_vios</th><th scope=col>prop_male</th><th scope=col>mean_age</th><th scope=col>prop_summer</th></tr>\n",
       "\t<tr><th scope=col>&lt;chr&gt;</th><th scope=col>&lt;int&gt;</th><th scope=col>&lt;dbl&gt;</th><th scope=col>&lt;dbl&gt;</th><th scope=col>&lt;dbl&gt;</th></tr>\n",
       "</thead>\n",
       "<tbody>\n",
       "\t<tr><td>Driving after Denial, Suspension or Revocation of License</td><td>457</td><td>0.7374179</td><td>30.76805</td><td>0.2669584</td></tr>\n",
       "\t<tr><td>DOMESTIC-SIMPLE ASSAULT/BATTERY                          </td><td>364</td><td>0.8104396</td><td>33.91758</td><td>0.3214286</td></tr>\n",
       "\t<tr><td>DISORDERLY CONDUCT                                       </td><td>216</td><td>0.7453704</td><td>31.05556</td><td>0.2962963</td></tr>\n",
       "\t<tr><td>SIMPLE ASSAULT OR BATTERY                                </td><td>199</td><td>0.6381910</td><td>31.04523</td><td>0.2763819</td></tr>\n",
       "\t<tr><td>BENCH WARRANT ISSUED FROM SUPERIOR COURT                 </td><td>141</td><td>0.8014184</td><td>36.13475</td><td>0.1063830</td></tr>\n",
       "\t<tr><td>RESISTING LEGAL OR ILLEGAL ARREST                        </td><td>123</td><td>0.7642276</td><td>30.18699</td><td>0.2764228</td></tr>\n",
       "\t<tr><td>POSSESSION OF SCHEDULE I II III                          </td><td>116</td><td>0.8189655</td><td>36.02586</td><td>0.1379310</td></tr>\n",
       "\t<tr><td>BENCH WARRANT ISSUED FROM 6TH DISTRICT COURT             </td><td>101</td><td>0.7821782</td><td>36.20792</td><td>0.1881188</td></tr>\n",
       "\t<tr><td>SHOPLIFTING-MISD - SHOPLIFTING                           </td><td> 99</td><td>0.4343434</td><td>33.75758</td><td>0.2424242</td></tr>\n",
       "\t<tr><td>WARRANT OF ARREST ON AFFIDAVIT - ALL OTH OFFENSE         </td><td> 93</td><td>0.8709677</td><td>33.91398</td><td>0.1397849</td></tr>\n",
       "</tbody>\n",
       "</table>\n"
      ],
      "text/latex": [
       "A tibble: 10 × 5\n",
       "\\begin{tabular}{lllll}\n",
       " statute\\_desc & n\\_vios & prop\\_male & mean\\_age & prop\\_summer\\\\\n",
       " <chr> & <int> & <dbl> & <dbl> & <dbl>\\\\\n",
       "\\hline\n",
       "\t Driving after Denial, Suspension or Revocation of License & 457 & 0.7374179 & 30.76805 & 0.2669584\\\\\n",
       "\t DOMESTIC-SIMPLE ASSAULT/BATTERY                           & 364 & 0.8104396 & 33.91758 & 0.3214286\\\\\n",
       "\t DISORDERLY CONDUCT                                        & 216 & 0.7453704 & 31.05556 & 0.2962963\\\\\n",
       "\t SIMPLE ASSAULT OR BATTERY                                 & 199 & 0.6381910 & 31.04523 & 0.2763819\\\\\n",
       "\t BENCH WARRANT ISSUED FROM SUPERIOR COURT                  & 141 & 0.8014184 & 36.13475 & 0.1063830\\\\\n",
       "\t RESISTING LEGAL OR ILLEGAL ARREST                         & 123 & 0.7642276 & 30.18699 & 0.2764228\\\\\n",
       "\t POSSESSION OF SCHEDULE I II III                           & 116 & 0.8189655 & 36.02586 & 0.1379310\\\\\n",
       "\t BENCH WARRANT ISSUED FROM 6TH DISTRICT COURT              & 101 & 0.7821782 & 36.20792 & 0.1881188\\\\\n",
       "\t SHOPLIFTING-MISD - SHOPLIFTING                            &  99 & 0.4343434 & 33.75758 & 0.2424242\\\\\n",
       "\t WARRANT OF ARREST ON AFFIDAVIT - ALL OTH OFFENSE          &  93 & 0.8709677 & 33.91398 & 0.1397849\\\\\n",
       "\\end{tabular}\n"
      ],
      "text/markdown": [
       "\n",
       "A tibble: 10 × 5\n",
       "\n",
       "| statute_desc &lt;chr&gt; | n_vios &lt;int&gt; | prop_male &lt;dbl&gt; | mean_age &lt;dbl&gt; | prop_summer &lt;dbl&gt; |\n",
       "|---|---|---|---|---|\n",
       "| Driving after Denial, Suspension or Revocation of License | 457 | 0.7374179 | 30.76805 | 0.2669584 |\n",
       "| DOMESTIC-SIMPLE ASSAULT/BATTERY                           | 364 | 0.8104396 | 33.91758 | 0.3214286 |\n",
       "| DISORDERLY CONDUCT                                        | 216 | 0.7453704 | 31.05556 | 0.2962963 |\n",
       "| SIMPLE ASSAULT OR BATTERY                                 | 199 | 0.6381910 | 31.04523 | 0.2763819 |\n",
       "| BENCH WARRANT ISSUED FROM SUPERIOR COURT                  | 141 | 0.8014184 | 36.13475 | 0.1063830 |\n",
       "| RESISTING LEGAL OR ILLEGAL ARREST                         | 123 | 0.7642276 | 30.18699 | 0.2764228 |\n",
       "| POSSESSION OF SCHEDULE I II III                           | 116 | 0.8189655 | 36.02586 | 0.1379310 |\n",
       "| BENCH WARRANT ISSUED FROM 6TH DISTRICT COURT              | 101 | 0.7821782 | 36.20792 | 0.1881188 |\n",
       "| SHOPLIFTING-MISD - SHOPLIFTING                            |  99 | 0.4343434 | 33.75758 | 0.2424242 |\n",
       "| WARRANT OF ARREST ON AFFIDAVIT - ALL OTH OFFENSE          |  93 | 0.8709677 | 33.91398 | 0.1397849 |\n",
       "\n"
      ],
      "text/plain": [
       "   statute_desc                                              n_vios prop_male\n",
       "1  Driving after Denial, Suspension or Revocation of License 457    0.7374179\n",
       "2  DOMESTIC-SIMPLE ASSAULT/BATTERY                           364    0.8104396\n",
       "3  DISORDERLY CONDUCT                                        216    0.7453704\n",
       "4  SIMPLE ASSAULT OR BATTERY                                 199    0.6381910\n",
       "5  BENCH WARRANT ISSUED FROM SUPERIOR COURT                  141    0.8014184\n",
       "6  RESISTING LEGAL OR ILLEGAL ARREST                         123    0.7642276\n",
       "7  POSSESSION OF SCHEDULE I II III                           116    0.8189655\n",
       "8  BENCH WARRANT ISSUED FROM 6TH DISTRICT COURT              101    0.7821782\n",
       "9  SHOPLIFTING-MISD - SHOPLIFTING                             99    0.4343434\n",
       "10 WARRANT OF ARREST ON AFFIDAVIT - ALL OTH OFFENSE           93    0.8709677\n",
       "   mean_age prop_summer\n",
       "1  30.76805 0.2669584  \n",
       "2  33.91758 0.3214286  \n",
       "3  31.05556 0.2962963  \n",
       "4  31.04523 0.2763819  \n",
       "5  36.13475 0.1063830  \n",
       "6  30.18699 0.2764228  \n",
       "7  36.02586 0.1379310  \n",
       "8  36.20792 0.1881188  \n",
       "9  33.75758 0.2424242  \n",
       "10 33.91398 0.1397849  "
      ]
     },
     "metadata": {},
     "output_type": "display_data"
    }
   ],
   "source": [
    "vio_tbl <- arrests %>%\n",
    "    filter(\n",
    "        statute_desc != \"\",\n",
    "        statute_desc != \"NULL\", \n",
    "        year == 2020\n",
    "    ) %>%\n",
    "    group_by(statute_desc) %>%\n",
    "    summarise(\n",
    "        n_vios = n(),\n",
    "        prop_male = mean(gender == \"Male\"),\n",
    "        mean_age = mean(age),\n",
    "        prop_summer = mean(is_summer(month))\n",
    "    ) %>%\n",
    "    arrange(desc(n_vios))\n",
    "\n",
    "head(vio_tbl, 10)"
   ]
  }
 ],
 "metadata": {
  "@webio": {
   "lastCommId": null,
   "lastKernelId": null
  },
  "celltoolbar": "Slideshow",
  "kernelspec": {
   "display_name": "R",
   "language": "R",
   "name": "ir"
  },
  "language_info": {
   "codemirror_mode": "r",
   "file_extension": ".r",
   "mimetype": "text/x-r-source",
   "name": "R",
   "pygments_lexer": "r",
   "version": "4.0.2"
  }
 },
 "nbformat": 4,
 "nbformat_minor": 2
}
