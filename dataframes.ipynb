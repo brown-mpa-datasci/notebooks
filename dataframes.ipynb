{
 "cells": [
  {
   "cell_type": "markdown",
   "metadata": {
    "slideshow": {
     "slide_type": "slide"
    }
   },
   "source": [
    "<center><h1>The DataFrame Object in R</h1></center>"
   ]
  },
  {
   "cell_type": "markdown",
   "metadata": {
    "slideshow": {
     "slide_type": "slide"
    }
   },
   "source": [
    "# 1. What is a `data.frame`?\n",
    "\n",
    "  - Tabular data structure (i.e., like Excel spreadsheet)\n",
    "  - Canonical data structure for data analysis\n",
    "  - Capable of storing heterogeneous data"
   ]
  },
  {
   "cell_type": "markdown",
   "metadata": {
    "slideshow": {
     "slide_type": "subslide"
    }
   },
   "source": [
    "## 1.1 What does it look like?"
   ]
  },
  {
   "cell_type": "code",
   "execution_count": 1,
   "metadata": {
    "slideshow": {
     "slide_type": "fragment"
    }
   },
   "outputs": [
    {
     "data": {
      "text/html": [
       "<table>\n",
       "<caption>A data.frame: 4 × 4</caption>\n",
       "<thead>\n",
       "\t<tr><th scope=col>idx</th><th scope=col>firstname</th><th scope=col>score</th><th scope=col>vocals</th></tr>\n",
       "\t<tr><th scope=col>&lt;int&gt;</th><th scope=col>&lt;chr&gt;</th><th scope=col>&lt;dbl&gt;</th><th scope=col>&lt;lgl&gt;</th></tr>\n",
       "</thead>\n",
       "<tbody>\n",
       "\t<tr><td>1</td><td>john  </td><td>-1.2070035</td><td> TRUE</td></tr>\n",
       "\t<tr><td>2</td><td>paul  </td><td> 0.8243397</td><td> TRUE</td></tr>\n",
       "\t<tr><td>3</td><td>george</td><td> 0.9136364</td><td>FALSE</td></tr>\n",
       "\t<tr><td>4</td><td>ringo </td><td> 1.8258713</td><td>FALSE</td></tr>\n",
       "</tbody>\n",
       "</table>\n"
      ],
      "text/latex": [
       "A data.frame: 4 × 4\n",
       "\\begin{tabular}{llll}\n",
       " idx & firstname & score & vocals\\\\\n",
       " <int> & <chr> & <dbl> & <lgl>\\\\\n",
       "\\hline\n",
       "\t 1 & john   & -1.2070035 &  TRUE\\\\\n",
       "\t 2 & paul   &  0.8243397 &  TRUE\\\\\n",
       "\t 3 & george &  0.9136364 & FALSE\\\\\n",
       "\t 4 & ringo  &  1.8258713 & FALSE\\\\\n",
       "\\end{tabular}\n"
      ],
      "text/markdown": [
       "\n",
       "A data.frame: 4 × 4\n",
       "\n",
       "| idx &lt;int&gt; | firstname &lt;chr&gt; | score &lt;dbl&gt; | vocals &lt;lgl&gt; |\n",
       "|---|---|---|---|\n",
       "| 1 | john   | -1.2070035 |  TRUE |\n",
       "| 2 | paul   |  0.8243397 |  TRUE |\n",
       "| 3 | george |  0.9136364 | FALSE |\n",
       "| 4 | ringo  |  1.8258713 | FALSE |\n",
       "\n"
      ],
      "text/plain": [
       "  idx firstname score      vocals\n",
       "1 1   john      -1.2070035  TRUE \n",
       "2 2   paul       0.8243397  TRUE \n",
       "3 3   george     0.9136364 FALSE \n",
       "4 4   ringo      1.8258713 FALSE "
      ]
     },
     "metadata": {},
     "output_type": "display_data"
    }
   ],
   "source": [
    "idx <- 1:4\n",
    "score <- rnorm(4)\n",
    "vocals <- c(TRUE, TRUE, FALSE, FALSE)\n",
    "firstname <- c(\"john\", \"paul\", \"george\", \"ringo\")\n",
    "\n",
    "dat <- data.frame(idx, firstname, score, vocals)\n",
    "\n",
    "dat"
   ]
  },
  {
   "cell_type": "markdown",
   "metadata": {
    "slideshow": {
     "slide_type": "subslide"
    }
   },
   "source": [
    "## 1.2 Indexing and Slicing a `data.frame`\n",
    "\n",
    "  - Similar to `vector`, `matrix`, and `array` objects"
   ]
  },
  {
   "cell_type": "code",
   "execution_count": 2,
   "metadata": {
    "slideshow": {
     "slide_type": "fragment"
    }
   },
   "outputs": [
    {
     "data": {
      "text/html": [
       "'john'"
      ],
      "text/latex": [
       "'john'"
      ],
      "text/markdown": [
       "'john'"
      ],
      "text/plain": [
       "[1] \"john\""
      ]
     },
     "metadata": {},
     "output_type": "display_data"
    }
   ],
   "source": [
    "dat[1, 2]           # get element in first row, second column"
   ]
  },
  {
   "cell_type": "code",
   "execution_count": 3,
   "metadata": {
    "slideshow": {
     "slide_type": "fragment"
    }
   },
   "outputs": [
    {
     "data": {
      "text/html": [
       "<style>\n",
       ".list-inline {list-style: none; margin:0; padding: 0}\n",
       ".list-inline>li {display: inline-block}\n",
       ".list-inline>li:not(:last-child)::after {content: \"\\00b7\"; padding: 0 .5ex}\n",
       "</style>\n",
       "<ol class=list-inline><li>'john'</li><li>'paul'</li><li>'george'</li><li>'ringo'</li></ol>\n"
      ],
      "text/latex": [
       "\\begin{enumerate*}\n",
       "\\item 'john'\n",
       "\\item 'paul'\n",
       "\\item 'george'\n",
       "\\item 'ringo'\n",
       "\\end{enumerate*}\n"
      ],
      "text/markdown": [
       "1. 'john'\n",
       "2. 'paul'\n",
       "3. 'george'\n",
       "4. 'ringo'\n",
       "\n",
       "\n"
      ],
      "text/plain": [
       "[1] \"john\"   \"paul\"   \"george\" \"ringo\" "
      ]
     },
     "metadata": {},
     "output_type": "display_data"
    }
   ],
   "source": [
    "dat[, 2]            # get all of second column"
   ]
  },
  {
   "cell_type": "code",
   "execution_count": 4,
   "metadata": {
    "slideshow": {
     "slide_type": "fragment"
    }
   },
   "outputs": [
    {
     "data": {
      "text/html": [
       "<table>\n",
       "<caption>A data.frame: 1 × 4</caption>\n",
       "<thead>\n",
       "\t<tr><th></th><th scope=col>idx</th><th scope=col>firstname</th><th scope=col>score</th><th scope=col>vocals</th></tr>\n",
       "\t<tr><th></th><th scope=col>&lt;int&gt;</th><th scope=col>&lt;chr&gt;</th><th scope=col>&lt;dbl&gt;</th><th scope=col>&lt;lgl&gt;</th></tr>\n",
       "</thead>\n",
       "<tbody>\n",
       "\t<tr><th scope=row>3</th><td>3</td><td>george</td><td>0.9136364</td><td>FALSE</td></tr>\n",
       "</tbody>\n",
       "</table>\n"
      ],
      "text/latex": [
       "A data.frame: 1 × 4\n",
       "\\begin{tabular}{r|llll}\n",
       "  & idx & firstname & score & vocals\\\\\n",
       "  & <int> & <chr> & <dbl> & <lgl>\\\\\n",
       "\\hline\n",
       "\t3 & 3 & george & 0.9136364 & FALSE\\\\\n",
       "\\end{tabular}\n"
      ],
      "text/markdown": [
       "\n",
       "A data.frame: 1 × 4\n",
       "\n",
       "| <!--/--> | idx &lt;int&gt; | firstname &lt;chr&gt; | score &lt;dbl&gt; | vocals &lt;lgl&gt; |\n",
       "|---|---|---|---|---|\n",
       "| 3 | 3 | george | 0.9136364 | FALSE |\n",
       "\n"
      ],
      "text/plain": [
       "  idx firstname score     vocals\n",
       "3 3   george    0.9136364 FALSE "
      ]
     },
     "metadata": {},
     "output_type": "display_data"
    }
   ],
   "source": [
    "dat[3, ]            # get third row"
   ]
  },
  {
   "cell_type": "markdown",
   "metadata": {
    "slideshow": {
     "slide_type": "subslide"
    }
   },
   "source": [
    "### 1.2.1 Indexing using Column Names"
   ]
  },
  {
   "cell_type": "code",
   "execution_count": 5,
   "metadata": {
    "slideshow": {
     "slide_type": "fragment"
    }
   },
   "outputs": [
    {
     "data": {
      "text/html": [
       "0.913636425821495"
      ],
      "text/latex": [
       "0.913636425821495"
      ],
      "text/markdown": [
       "0.913636425821495"
      ],
      "text/plain": [
       "[1] 0.9136364"
      ]
     },
     "metadata": {},
     "output_type": "display_data"
    }
   ],
   "source": [
    "dat[3, \"score\"]          # element from row 3 and \"score\" column"
   ]
  },
  {
   "cell_type": "code",
   "execution_count": 6,
   "metadata": {
    "slideshow": {
     "slide_type": "fragment"
    }
   },
   "outputs": [
    {
     "data": {
      "text/html": [
       "<style>\n",
       ".list-inline {list-style: none; margin:0; padding: 0}\n",
       ".list-inline>li {display: inline-block}\n",
       ".list-inline>li:not(:last-child)::after {content: \"\\00b7\"; padding: 0 .5ex}\n",
       "</style>\n",
       "<ol class=list-inline><li>'paul'</li><li>'george'</li><li>'ringo'</li></ol>\n"
      ],
      "text/latex": [
       "\\begin{enumerate*}\n",
       "\\item 'paul'\n",
       "\\item 'george'\n",
       "\\item 'ringo'\n",
       "\\end{enumerate*}\n"
      ],
      "text/markdown": [
       "1. 'paul'\n",
       "2. 'george'\n",
       "3. 'ringo'\n",
       "\n",
       "\n"
      ],
      "text/plain": [
       "[1] \"paul\"   \"george\" \"ringo\" "
      ]
     },
     "metadata": {},
     "output_type": "display_data"
    }
   ],
   "source": [
    "dat[2:4, \"firstname\"]    # get elements 2, 3, and 4 from \"firstname\" column"
   ]
  },
  {
   "cell_type": "markdown",
   "metadata": {
    "slideshow": {
     "slide_type": "subslide"
    }
   },
   "source": [
    "## 1.3 The `$` Operator and `data.frame` Objects "
   ]
  },
  {
   "cell_type": "code",
   "execution_count": 7,
   "metadata": {
    "slideshow": {
     "slide_type": "fragment"
    }
   },
   "outputs": [
    {
     "data": {
      "text/html": [
       "<style>\n",
       ".list-inline {list-style: none; margin:0; padding: 0}\n",
       ".list-inline>li {display: inline-block}\n",
       ".list-inline>li:not(:last-child)::after {content: \"\\00b7\"; padding: 0 .5ex}\n",
       "</style>\n",
       "<ol class=list-inline><li>'john'</li><li>'paul'</li><li>'george'</li><li>'ringo'</li></ol>\n"
      ],
      "text/latex": [
       "\\begin{enumerate*}\n",
       "\\item 'john'\n",
       "\\item 'paul'\n",
       "\\item 'george'\n",
       "\\item 'ringo'\n",
       "\\end{enumerate*}\n"
      ],
      "text/markdown": [
       "1. 'john'\n",
       "2. 'paul'\n",
       "3. 'george'\n",
       "4. 'ringo'\n",
       "\n",
       "\n"
      ],
      "text/plain": [
       "[1] \"john\"   \"paul\"   \"george\" \"ringo\" "
      ]
     },
     "metadata": {},
     "output_type": "display_data"
    }
   ],
   "source": [
    "dat$firstname            # get the \"firstname\" column"
   ]
  },
  {
   "cell_type": "markdown",
   "metadata": {
    "slideshow": {
     "slide_type": "subslide"
    }
   },
   "source": [
    "# 2. Filter `data.frame` using Logical Indexing"
   ]
  },
  {
   "cell_type": "code",
   "execution_count": 8,
   "metadata": {
    "slideshow": {
     "slide_type": "fragment"
    }
   },
   "outputs": [
    {
     "data": {
      "text/html": [
       "<table>\n",
       "<caption>A data.frame: 4 × 4</caption>\n",
       "<thead>\n",
       "\t<tr><th scope=col>idx</th><th scope=col>firstname</th><th scope=col>score</th><th scope=col>vocals</th></tr>\n",
       "\t<tr><th scope=col>&lt;int&gt;</th><th scope=col>&lt;chr&gt;</th><th scope=col>&lt;dbl&gt;</th><th scope=col>&lt;lgl&gt;</th></tr>\n",
       "</thead>\n",
       "<tbody>\n",
       "\t<tr><td>1</td><td>john  </td><td>-1.2070035</td><td> TRUE</td></tr>\n",
       "\t<tr><td>2</td><td>paul  </td><td> 0.8243397</td><td> TRUE</td></tr>\n",
       "\t<tr><td>3</td><td>george</td><td> 0.9136364</td><td>FALSE</td></tr>\n",
       "\t<tr><td>4</td><td>ringo </td><td> 1.8258713</td><td>FALSE</td></tr>\n",
       "</tbody>\n",
       "</table>\n"
      ],
      "text/latex": [
       "A data.frame: 4 × 4\n",
       "\\begin{tabular}{llll}\n",
       " idx & firstname & score & vocals\\\\\n",
       " <int> & <chr> & <dbl> & <lgl>\\\\\n",
       "\\hline\n",
       "\t 1 & john   & -1.2070035 &  TRUE\\\\\n",
       "\t 2 & paul   &  0.8243397 &  TRUE\\\\\n",
       "\t 3 & george &  0.9136364 & FALSE\\\\\n",
       "\t 4 & ringo  &  1.8258713 & FALSE\\\\\n",
       "\\end{tabular}\n"
      ],
      "text/markdown": [
       "\n",
       "A data.frame: 4 × 4\n",
       "\n",
       "| idx &lt;int&gt; | firstname &lt;chr&gt; | score &lt;dbl&gt; | vocals &lt;lgl&gt; |\n",
       "|---|---|---|---|\n",
       "| 1 | john   | -1.2070035 |  TRUE |\n",
       "| 2 | paul   |  0.8243397 |  TRUE |\n",
       "| 3 | george |  0.9136364 | FALSE |\n",
       "| 4 | ringo  |  1.8258713 | FALSE |\n",
       "\n"
      ],
      "text/plain": [
       "  idx firstname score      vocals\n",
       "1 1   john      -1.2070035  TRUE \n",
       "2 2   paul       0.8243397  TRUE \n",
       "3 3   george     0.9136364 FALSE \n",
       "4 4   ringo      1.8258713 FALSE "
      ]
     },
     "metadata": {},
     "output_type": "display_data"
    }
   ],
   "source": [
    "dat"
   ]
  },
  {
   "cell_type": "code",
   "execution_count": 9,
   "metadata": {
    "slideshow": {
     "slide_type": "fragment"
    }
   },
   "outputs": [
    {
     "data": {
      "text/html": [
       "<table>\n",
       "<caption>A data.frame: 2 × 4</caption>\n",
       "<thead>\n",
       "\t<tr><th></th><th scope=col>idx</th><th scope=col>firstname</th><th scope=col>score</th><th scope=col>vocals</th></tr>\n",
       "\t<tr><th></th><th scope=col>&lt;int&gt;</th><th scope=col>&lt;chr&gt;</th><th scope=col>&lt;dbl&gt;</th><th scope=col>&lt;lgl&gt;</th></tr>\n",
       "</thead>\n",
       "<tbody>\n",
       "\t<tr><th scope=row>1</th><td>1</td><td>john</td><td>-1.2070035</td><td>TRUE</td></tr>\n",
       "\t<tr><th scope=row>2</th><td>2</td><td>paul</td><td> 0.8243397</td><td>TRUE</td></tr>\n",
       "</tbody>\n",
       "</table>\n"
      ],
      "text/latex": [
       "A data.frame: 2 × 4\n",
       "\\begin{tabular}{r|llll}\n",
       "  & idx & firstname & score & vocals\\\\\n",
       "  & <int> & <chr> & <dbl> & <lgl>\\\\\n",
       "\\hline\n",
       "\t1 & 1 & john & -1.2070035 & TRUE\\\\\n",
       "\t2 & 2 & paul &  0.8243397 & TRUE\\\\\n",
       "\\end{tabular}\n"
      ],
      "text/markdown": [
       "\n",
       "A data.frame: 2 × 4\n",
       "\n",
       "| <!--/--> | idx &lt;int&gt; | firstname &lt;chr&gt; | score &lt;dbl&gt; | vocals &lt;lgl&gt; |\n",
       "|---|---|---|---|---|\n",
       "| 1 | 1 | john | -1.2070035 | TRUE |\n",
       "| 2 | 2 | paul |  0.8243397 | TRUE |\n",
       "\n"
      ],
      "text/plain": [
       "  idx firstname score      vocals\n",
       "1 1   john      -1.2070035 TRUE  \n",
       "2 2   paul       0.8243397 TRUE  "
      ]
     },
     "metadata": {},
     "output_type": "display_data"
    }
   ],
   "source": [
    "dat[dat$vocals, ]"
   ]
  },
  {
   "cell_type": "markdown",
   "metadata": {
    "slideshow": {
     "slide_type": "subslide"
    }
   },
   "source": [
    "## 2.1 Create New `data.frame` from Another"
   ]
  },
  {
   "cell_type": "code",
   "execution_count": 10,
   "metadata": {
    "slideshow": {
     "slide_type": "fragment"
    }
   },
   "outputs": [
    {
     "data": {
      "text/html": [
       "<table>\n",
       "<caption>A data.frame: 2 × 4</caption>\n",
       "<thead>\n",
       "\t<tr><th></th><th scope=col>idx</th><th scope=col>firstname</th><th scope=col>score</th><th scope=col>vocals</th></tr>\n",
       "\t<tr><th></th><th scope=col>&lt;int&gt;</th><th scope=col>&lt;chr&gt;</th><th scope=col>&lt;dbl&gt;</th><th scope=col>&lt;lgl&gt;</th></tr>\n",
       "</thead>\n",
       "<tbody>\n",
       "\t<tr><th scope=row>1</th><td>1</td><td>john</td><td>-1.2070035</td><td>TRUE</td></tr>\n",
       "\t<tr><th scope=row>2</th><td>2</td><td>paul</td><td> 0.8243397</td><td>TRUE</td></tr>\n",
       "</tbody>\n",
       "</table>\n"
      ],
      "text/latex": [
       "A data.frame: 2 × 4\n",
       "\\begin{tabular}{r|llll}\n",
       "  & idx & firstname & score & vocals\\\\\n",
       "  & <int> & <chr> & <dbl> & <lgl>\\\\\n",
       "\\hline\n",
       "\t1 & 1 & john & -1.2070035 & TRUE\\\\\n",
       "\t2 & 2 & paul &  0.8243397 & TRUE\\\\\n",
       "\\end{tabular}\n"
      ],
      "text/markdown": [
       "\n",
       "A data.frame: 2 × 4\n",
       "\n",
       "| <!--/--> | idx &lt;int&gt; | firstname &lt;chr&gt; | score &lt;dbl&gt; | vocals &lt;lgl&gt; |\n",
       "|---|---|---|---|---|\n",
       "| 1 | 1 | john | -1.2070035 | TRUE |\n",
       "| 2 | 2 | paul |  0.8243397 | TRUE |\n",
       "\n"
      ],
      "text/plain": [
       "  idx firstname score      vocals\n",
       "1 1   john      -1.2070035 TRUE  \n",
       "2 2   paul       0.8243397 TRUE  "
      ]
     },
     "metadata": {},
     "output_type": "display_data"
    }
   ],
   "source": [
    "dat2 <- dat[dat$vocals, ]       # create new dataframe, from subset of original\n",
    "\n",
    "head(dat2)"
   ]
  },
  {
   "cell_type": "markdown",
   "metadata": {
    "slideshow": {
     "slide_type": "subslide"
    }
   },
   "source": [
    "### 2.1.1 Take Subset of `data.frame` Columns"
   ]
  },
  {
   "cell_type": "code",
   "execution_count": 11,
   "metadata": {
    "slideshow": {
     "slide_type": "fragment"
    }
   },
   "outputs": [
    {
     "data": {
      "text/html": [
       "<table>\n",
       "<caption>A data.frame: 2 × 2</caption>\n",
       "<thead>\n",
       "\t<tr><th></th><th scope=col>firstname</th><th scope=col>score</th></tr>\n",
       "\t<tr><th></th><th scope=col>&lt;chr&gt;</th><th scope=col>&lt;dbl&gt;</th></tr>\n",
       "</thead>\n",
       "<tbody>\n",
       "\t<tr><th scope=row>1</th><td>john</td><td>-1.2070035</td></tr>\n",
       "\t<tr><th scope=row>2</th><td>paul</td><td> 0.8243397</td></tr>\n",
       "</tbody>\n",
       "</table>\n"
      ],
      "text/latex": [
       "A data.frame: 2 × 2\n",
       "\\begin{tabular}{r|ll}\n",
       "  & firstname & score\\\\\n",
       "  & <chr> & <dbl>\\\\\n",
       "\\hline\n",
       "\t1 & john & -1.2070035\\\\\n",
       "\t2 & paul &  0.8243397\\\\\n",
       "\\end{tabular}\n"
      ],
      "text/markdown": [
       "\n",
       "A data.frame: 2 × 2\n",
       "\n",
       "| <!--/--> | firstname &lt;chr&gt; | score &lt;dbl&gt; |\n",
       "|---|---|---|\n",
       "| 1 | john | -1.2070035 |\n",
       "| 2 | paul |  0.8243397 |\n",
       "\n"
      ],
      "text/plain": [
       "  firstname score     \n",
       "1 john      -1.2070035\n",
       "2 paul       0.8243397"
      ]
     },
     "metadata": {},
     "output_type": "display_data"
    }
   ],
   "source": [
    "cols <- c(\"firstname\", \"score\")    # columns we care about\n",
    "\n",
    "dat_namescore <- dat2[, cols]      # create new dataframe\n",
    "\n",
    "head(dat_namescore)"
   ]
  },
  {
   "cell_type": "markdown",
   "metadata": {
    "slideshow": {
     "slide_type": "subslide"
    }
   },
   "source": [
    "# 3. Adding Columns to a `data.frame`"
   ]
  },
  {
   "cell_type": "code",
   "execution_count": 12,
   "metadata": {
    "slideshow": {
     "slide_type": "fragment"
    }
   },
   "outputs": [
    {
     "data": {
      "text/html": [
       "<table>\n",
       "<caption>A data.frame: 4 × 4</caption>\n",
       "<thead>\n",
       "\t<tr><th scope=col>idx</th><th scope=col>firstname</th><th scope=col>score</th><th scope=col>vocals</th></tr>\n",
       "\t<tr><th scope=col>&lt;int&gt;</th><th scope=col>&lt;chr&gt;</th><th scope=col>&lt;dbl&gt;</th><th scope=col>&lt;lgl&gt;</th></tr>\n",
       "</thead>\n",
       "<tbody>\n",
       "\t<tr><td>1</td><td>john  </td><td>-1.2070035</td><td> TRUE</td></tr>\n",
       "\t<tr><td>2</td><td>paul  </td><td> 0.8243397</td><td> TRUE</td></tr>\n",
       "\t<tr><td>3</td><td>george</td><td> 0.9136364</td><td>FALSE</td></tr>\n",
       "\t<tr><td>4</td><td>ringo </td><td> 1.8258713</td><td>FALSE</td></tr>\n",
       "</tbody>\n",
       "</table>\n"
      ],
      "text/latex": [
       "A data.frame: 4 × 4\n",
       "\\begin{tabular}{llll}\n",
       " idx & firstname & score & vocals\\\\\n",
       " <int> & <chr> & <dbl> & <lgl>\\\\\n",
       "\\hline\n",
       "\t 1 & john   & -1.2070035 &  TRUE\\\\\n",
       "\t 2 & paul   &  0.8243397 &  TRUE\\\\\n",
       "\t 3 & george &  0.9136364 & FALSE\\\\\n",
       "\t 4 & ringo  &  1.8258713 & FALSE\\\\\n",
       "\\end{tabular}\n"
      ],
      "text/markdown": [
       "\n",
       "A data.frame: 4 × 4\n",
       "\n",
       "| idx &lt;int&gt; | firstname &lt;chr&gt; | score &lt;dbl&gt; | vocals &lt;lgl&gt; |\n",
       "|---|---|---|---|\n",
       "| 1 | john   | -1.2070035 |  TRUE |\n",
       "| 2 | paul   |  0.8243397 |  TRUE |\n",
       "| 3 | george |  0.9136364 | FALSE |\n",
       "| 4 | ringo  |  1.8258713 | FALSE |\n",
       "\n"
      ],
      "text/plain": [
       "  idx firstname score      vocals\n",
       "1 1   john      -1.2070035  TRUE \n",
       "2 2   paul       0.8243397  TRUE \n",
       "3 3   george     0.9136364 FALSE \n",
       "4 4   ringo      1.8258713 FALSE "
      ]
     },
     "metadata": {},
     "output_type": "display_data"
    }
   ],
   "source": [
    "dat"
   ]
  },
  {
   "cell_type": "code",
   "execution_count": 13,
   "metadata": {
    "slideshow": {
     "slide_type": "fragment"
    }
   },
   "outputs": [
    {
     "data": {
      "text/html": [
       "<table>\n",
       "<caption>A data.frame: 4 × 5</caption>\n",
       "<thead>\n",
       "\t<tr><th scope=col>idx</th><th scope=col>firstname</th><th scope=col>score</th><th scope=col>vocals</th><th scope=col>food</th></tr>\n",
       "\t<tr><th scope=col>&lt;int&gt;</th><th scope=col>&lt;chr&gt;</th><th scope=col>&lt;dbl&gt;</th><th scope=col>&lt;lgl&gt;</th><th scope=col>&lt;chr&gt;</th></tr>\n",
       "</thead>\n",
       "<tbody>\n",
       "\t<tr><td>1</td><td>john  </td><td>-1.2070035</td><td> TRUE</td><td>steak  </td></tr>\n",
       "\t<tr><td>2</td><td>paul  </td><td> 0.8243397</td><td> TRUE</td><td>chicken</td></tr>\n",
       "\t<tr><td>3</td><td>george</td><td> 0.9136364</td><td>FALSE</td><td>potato </td></tr>\n",
       "\t<tr><td>4</td><td>ringo </td><td> 1.8258713</td><td>FALSE</td><td>rice   </td></tr>\n",
       "</tbody>\n",
       "</table>\n"
      ],
      "text/latex": [
       "A data.frame: 4 × 5\n",
       "\\begin{tabular}{lllll}\n",
       " idx & firstname & score & vocals & food\\\\\n",
       " <int> & <chr> & <dbl> & <lgl> & <chr>\\\\\n",
       "\\hline\n",
       "\t 1 & john   & -1.2070035 &  TRUE & steak  \\\\\n",
       "\t 2 & paul   &  0.8243397 &  TRUE & chicken\\\\\n",
       "\t 3 & george &  0.9136364 & FALSE & potato \\\\\n",
       "\t 4 & ringo  &  1.8258713 & FALSE & rice   \\\\\n",
       "\\end{tabular}\n"
      ],
      "text/markdown": [
       "\n",
       "A data.frame: 4 × 5\n",
       "\n",
       "| idx &lt;int&gt; | firstname &lt;chr&gt; | score &lt;dbl&gt; | vocals &lt;lgl&gt; | food &lt;chr&gt; |\n",
       "|---|---|---|---|---|\n",
       "| 1 | john   | -1.2070035 |  TRUE | steak   |\n",
       "| 2 | paul   |  0.8243397 |  TRUE | chicken |\n",
       "| 3 | george |  0.9136364 | FALSE | potato  |\n",
       "| 4 | ringo  |  1.8258713 | FALSE | rice    |\n",
       "\n"
      ],
      "text/plain": [
       "  idx firstname score      vocals food   \n",
       "1 1   john      -1.2070035  TRUE  steak  \n",
       "2 2   paul       0.8243397  TRUE  chicken\n",
       "3 3   george     0.9136364 FALSE  potato \n",
       "4 4   ringo      1.8258713 FALSE  rice   "
      ]
     },
     "metadata": {},
     "output_type": "display_data"
    }
   ],
   "source": [
    "dat$food <- c(\"steak\", \"chicken\", \"potato\", \"rice\")\n",
    "\n",
    "dat"
   ]
  },
  {
   "cell_type": "markdown",
   "metadata": {
    "slideshow": {
     "slide_type": "subslide"
    }
   },
   "source": [
    "## 3.1. Adding Columns (cont.)"
   ]
  },
  {
   "cell_type": "code",
   "execution_count": 14,
   "metadata": {
    "slideshow": {
     "slide_type": "fragment"
    }
   },
   "outputs": [
    {
     "data": {
      "text/html": [
       "<table>\n",
       "<caption>A data.frame: 4 × 6</caption>\n",
       "<thead>\n",
       "\t<tr><th scope=col>idx</th><th scope=col>firstname</th><th scope=col>score</th><th scope=col>vocals</th><th scope=col>food</th><th scope=col>drink</th></tr>\n",
       "\t<tr><th scope=col>&lt;int&gt;</th><th scope=col>&lt;chr&gt;</th><th scope=col>&lt;dbl&gt;</th><th scope=col>&lt;lgl&gt;</th><th scope=col>&lt;chr&gt;</th><th scope=col>&lt;chr&gt;</th></tr>\n",
       "</thead>\n",
       "<tbody>\n",
       "\t<tr><td>1</td><td>john  </td><td>-1.2070035</td><td> TRUE</td><td>steak  </td><td>water </td></tr>\n",
       "\t<tr><td>2</td><td>paul  </td><td> 0.8243397</td><td> TRUE</td><td>chicken</td><td>milk  </td></tr>\n",
       "\t<tr><td>3</td><td>george</td><td> 0.9136364</td><td>FALSE</td><td>potato </td><td>beer  </td></tr>\n",
       "\t<tr><td>4</td><td>ringo </td><td> 1.8258713</td><td>FALSE</td><td>rice   </td><td>scotch</td></tr>\n",
       "</tbody>\n",
       "</table>\n"
      ],
      "text/latex": [
       "A data.frame: 4 × 6\n",
       "\\begin{tabular}{llllll}\n",
       " idx & firstname & score & vocals & food & drink\\\\\n",
       " <int> & <chr> & <dbl> & <lgl> & <chr> & <chr>\\\\\n",
       "\\hline\n",
       "\t 1 & john   & -1.2070035 &  TRUE & steak   & water \\\\\n",
       "\t 2 & paul   &  0.8243397 &  TRUE & chicken & milk  \\\\\n",
       "\t 3 & george &  0.9136364 & FALSE & potato  & beer  \\\\\n",
       "\t 4 & ringo  &  1.8258713 & FALSE & rice    & scotch\\\\\n",
       "\\end{tabular}\n"
      ],
      "text/markdown": [
       "\n",
       "A data.frame: 4 × 6\n",
       "\n",
       "| idx &lt;int&gt; | firstname &lt;chr&gt; | score &lt;dbl&gt; | vocals &lt;lgl&gt; | food &lt;chr&gt; | drink &lt;chr&gt; |\n",
       "|---|---|---|---|---|---|\n",
       "| 1 | john   | -1.2070035 |  TRUE | steak   | water  |\n",
       "| 2 | paul   |  0.8243397 |  TRUE | chicken | milk   |\n",
       "| 3 | george |  0.9136364 | FALSE | potato  | beer   |\n",
       "| 4 | ringo  |  1.8258713 | FALSE | rice    | scotch |\n",
       "\n"
      ],
      "text/plain": [
       "  idx firstname score      vocals food    drink \n",
       "1 1   john      -1.2070035  TRUE  steak   water \n",
       "2 2   paul       0.8243397  TRUE  chicken milk  \n",
       "3 3   george     0.9136364 FALSE  potato  beer  \n",
       "4 4   ringo      1.8258713 FALSE  rice    scotch"
      ]
     },
     "metadata": {},
     "output_type": "display_data"
    }
   ],
   "source": [
    "dat[, \"drink\"] <- c(\"water\", \"milk\", \"beer\", \"scotch\")\n",
    "\n",
    "dat"
   ]
  },
  {
   "cell_type": "code",
   "execution_count": 15,
   "metadata": {},
   "outputs": [
    {
     "data": {
      "text/html": [
       "<table>\n",
       "<caption>A data.frame: 4 × 6</caption>\n",
       "<thead>\n",
       "\t<tr><th scope=col>idx</th><th scope=col>firstname</th><th scope=col>score</th><th scope=col>vocals</th><th scope=col>food</th><th scope=col>drink</th></tr>\n",
       "\t<tr><th scope=col>&lt;int&gt;</th><th scope=col>&lt;chr&gt;</th><th scope=col>&lt;dbl&gt;</th><th scope=col>&lt;lgl&gt;</th><th scope=col>&lt;chr&gt;</th><th scope=col>&lt;chr&gt;</th></tr>\n",
       "</thead>\n",
       "<tbody>\n",
       "\t<tr><td>1</td><td>john  </td><td>-1.2070035</td><td> TRUE</td><td>steak  </td><td>water </td></tr>\n",
       "\t<tr><td>2</td><td>paul  </td><td> 0.8243397</td><td> TRUE</td><td>chicken</td><td>milk  </td></tr>\n",
       "\t<tr><td>3</td><td>george</td><td> 0.9136364</td><td>FALSE</td><td>potato </td><td>beer  </td></tr>\n",
       "\t<tr><td>4</td><td>ringo </td><td> 1.8258713</td><td>FALSE</td><td>rice   </td><td>scotch</td></tr>\n",
       "</tbody>\n",
       "</table>\n"
      ],
      "text/latex": [
       "A data.frame: 4 × 6\n",
       "\\begin{tabular}{llllll}\n",
       " idx & firstname & score & vocals & food & drink\\\\\n",
       " <int> & <chr> & <dbl> & <lgl> & <chr> & <chr>\\\\\n",
       "\\hline\n",
       "\t 1 & john   & -1.2070035 &  TRUE & steak   & water \\\\\n",
       "\t 2 & paul   &  0.8243397 &  TRUE & chicken & milk  \\\\\n",
       "\t 3 & george &  0.9136364 & FALSE & potato  & beer  \\\\\n",
       "\t 4 & ringo  &  1.8258713 & FALSE & rice    & scotch\\\\\n",
       "\\end{tabular}\n"
      ],
      "text/markdown": [
       "\n",
       "A data.frame: 4 × 6\n",
       "\n",
       "| idx &lt;int&gt; | firstname &lt;chr&gt; | score &lt;dbl&gt; | vocals &lt;lgl&gt; | food &lt;chr&gt; | drink &lt;chr&gt; |\n",
       "|---|---|---|---|---|---|\n",
       "| 1 | john   | -1.2070035 |  TRUE | steak   | water  |\n",
       "| 2 | paul   |  0.8243397 |  TRUE | chicken | milk   |\n",
       "| 3 | george |  0.9136364 | FALSE | potato  | beer   |\n",
       "| 4 | ringo  |  1.8258713 | FALSE | rice    | scotch |\n",
       "\n"
      ],
      "text/plain": [
       "  idx firstname score      vocals food    drink \n",
       "1 1   john      -1.2070035  TRUE  steak   water \n",
       "2 2   paul       0.8243397  TRUE  chicken milk  \n",
       "3 3   george     0.9136364 FALSE  potato  beer  \n",
       "4 4   ringo      1.8258713 FALSE  rice    scotch"
      ]
     },
     "metadata": {},
     "output_type": "display_data"
    }
   ],
   "source": [
    "dat"
   ]
  }
 ],
 "metadata": {
  "@webio": {
   "lastCommId": null,
   "lastKernelId": null
  },
  "celltoolbar": "Slideshow",
  "kernelspec": {
   "display_name": "R",
   "language": "R",
   "name": "ir"
  },
  "language_info": {
   "codemirror_mode": "r",
   "file_extension": ".r",
   "mimetype": "text/x-r-source",
   "name": "R",
   "pygments_lexer": "r",
   "version": "4.0.2"
  }
 },
 "nbformat": 4,
 "nbformat_minor": 2
}
