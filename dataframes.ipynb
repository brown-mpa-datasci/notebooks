{
 "cells": [
  {
   "cell_type": "markdown",
   "metadata": {
    "slideshow": {
     "slide_type": "slide"
    }
   },
   "source": [
    "<center><h1>The DataFrame Object in R</h1></center>"
   ]
  },
  {
   "cell_type": "markdown",
   "metadata": {
    "slideshow": {
     "slide_type": "slide"
    }
   },
   "source": [
    "# 1. What is a `data.frame`?\n",
    "\n",
    "  - Tabular data structure (i.e., like Excel spreadsheet)\n",
    "  - Canonical data structure for data analysis\n",
    "  - Capable of storing heterogeneous data"
   ]
  },
  {
   "cell_type": "markdown",
   "metadata": {
    "slideshow": {
     "slide_type": "subslide"
    }
   },
   "source": [
    "## 1.1 What does it look like?"
   ]
  },
  {
   "cell_type": "code",
   "execution_count": 21,
   "metadata": {
    "slideshow": {
     "slide_type": "fragment"
    }
   },
   "outputs": [
    {
     "data": {
      "text/html": [
       "<table>\n",
       "<caption>A data.frame: 4 × 4</caption>\n",
       "<thead>\n",
       "\t<tr><th scope=col>idx</th><th scope=col>firstname</th><th scope=col>score</th><th scope=col>vocals</th></tr>\n",
       "\t<tr><th scope=col>&lt;int&gt;</th><th scope=col>&lt;chr&gt;</th><th scope=col>&lt;dbl&gt;</th><th scope=col>&lt;lgl&gt;</th></tr>\n",
       "</thead>\n",
       "<tbody>\n",
       "\t<tr><td>1</td><td>john  </td><td>-0.5702324</td><td> TRUE</td></tr>\n",
       "\t<tr><td>2</td><td>paul  </td><td> 2.5212680</td><td> TRUE</td></tr>\n",
       "\t<tr><td>3</td><td>george</td><td> 0.6335899</td><td>FALSE</td></tr>\n",
       "\t<tr><td>4</td><td>ringo </td><td> 0.9653573</td><td>FALSE</td></tr>\n",
       "</tbody>\n",
       "</table>\n"
      ],
      "text/latex": [
       "A data.frame: 4 × 4\n",
       "\\begin{tabular}{llll}\n",
       " idx & firstname & score & vocals\\\\\n",
       " <int> & <chr> & <dbl> & <lgl>\\\\\n",
       "\\hline\n",
       "\t 1 & john   & -0.5702324 &  TRUE\\\\\n",
       "\t 2 & paul   &  2.5212680 &  TRUE\\\\\n",
       "\t 3 & george &  0.6335899 & FALSE\\\\\n",
       "\t 4 & ringo  &  0.9653573 & FALSE\\\\\n",
       "\\end{tabular}\n"
      ],
      "text/markdown": [
       "\n",
       "A data.frame: 4 × 4\n",
       "\n",
       "| idx &lt;int&gt; | firstname &lt;chr&gt; | score &lt;dbl&gt; | vocals &lt;lgl&gt; |\n",
       "|---|---|---|---|\n",
       "| 1 | john   | -0.5702324 |  TRUE |\n",
       "| 2 | paul   |  2.5212680 |  TRUE |\n",
       "| 3 | george |  0.6335899 | FALSE |\n",
       "| 4 | ringo  |  0.9653573 | FALSE |\n",
       "\n"
      ],
      "text/plain": [
       "  idx firstname score      vocals\n",
       "1 1   john      -0.5702324  TRUE \n",
       "2 2   paul       2.5212680  TRUE \n",
       "3 3   george     0.6335899 FALSE \n",
       "4 4   ringo      0.9653573 FALSE "
      ]
     },
     "metadata": {},
     "output_type": "display_data"
    }
   ],
   "source": [
    "idx <- 1:4\n",
    "score <- rnorm(4)\n",
    "vocals <- c(TRUE, TRUE, FALSE, FALSE)\n",
    "firstname <- c(\"john\", \"paul\", \"george\", \"ringo\")\n",
    "\n",
    "dat <- data.frame(idx, firstname, score, vocals)\n",
    "\n",
    "dat"
   ]
  },
  {
   "cell_type": "markdown",
   "metadata": {
    "slideshow": {
     "slide_type": "subslide"
    }
   },
   "source": [
    "## 1.2 Indexing and Slicing a `data.frame`\n",
    "\n",
    "  - Similar to `vector`, `matrix`, and `array` objects"
   ]
  },
  {
   "cell_type": "code",
   "execution_count": 22,
   "metadata": {
    "slideshow": {
     "slide_type": "fragment"
    }
   },
   "outputs": [
    {
     "data": {
      "text/html": [
       "'john'"
      ],
      "text/latex": [
       "'john'"
      ],
      "text/markdown": [
       "'john'"
      ],
      "text/plain": [
       "[1] \"john\""
      ]
     },
     "metadata": {},
     "output_type": "display_data"
    }
   ],
   "source": [
    "dat[1, 2]           # get element in first row, second column"
   ]
  },
  {
   "cell_type": "code",
   "execution_count": 23,
   "metadata": {
    "slideshow": {
     "slide_type": "fragment"
    }
   },
   "outputs": [
    {
     "data": {
      "text/html": [
       "<style>\n",
       ".list-inline {list-style: none; margin:0; padding: 0}\n",
       ".list-inline>li {display: inline-block}\n",
       ".list-inline>li:not(:last-child)::after {content: \"\\00b7\"; padding: 0 .5ex}\n",
       "</style>\n",
       "<ol class=list-inline><li>'john'</li><li>'paul'</li><li>'george'</li><li>'ringo'</li></ol>\n"
      ],
      "text/latex": [
       "\\begin{enumerate*}\n",
       "\\item 'john'\n",
       "\\item 'paul'\n",
       "\\item 'george'\n",
       "\\item 'ringo'\n",
       "\\end{enumerate*}\n"
      ],
      "text/markdown": [
       "1. 'john'\n",
       "2. 'paul'\n",
       "3. 'george'\n",
       "4. 'ringo'\n",
       "\n",
       "\n"
      ],
      "text/plain": [
       "[1] \"john\"   \"paul\"   \"george\" \"ringo\" "
      ]
     },
     "metadata": {},
     "output_type": "display_data"
    }
   ],
   "source": [
    "dat[, 2]            # get all of second column"
   ]
  },
  {
   "cell_type": "code",
   "execution_count": 24,
   "metadata": {
    "slideshow": {
     "slide_type": "fragment"
    }
   },
   "outputs": [
    {
     "data": {
      "text/html": [
       "<table>\n",
       "<caption>A data.frame: 1 × 4</caption>\n",
       "<thead>\n",
       "\t<tr><th></th><th scope=col>idx</th><th scope=col>firstname</th><th scope=col>score</th><th scope=col>vocals</th></tr>\n",
       "\t<tr><th></th><th scope=col>&lt;int&gt;</th><th scope=col>&lt;chr&gt;</th><th scope=col>&lt;dbl&gt;</th><th scope=col>&lt;lgl&gt;</th></tr>\n",
       "</thead>\n",
       "<tbody>\n",
       "\t<tr><th scope=row>3</th><td>3</td><td>george</td><td>0.6335899</td><td>FALSE</td></tr>\n",
       "</tbody>\n",
       "</table>\n"
      ],
      "text/latex": [
       "A data.frame: 1 × 4\n",
       "\\begin{tabular}{r|llll}\n",
       "  & idx & firstname & score & vocals\\\\\n",
       "  & <int> & <chr> & <dbl> & <lgl>\\\\\n",
       "\\hline\n",
       "\t3 & 3 & george & 0.6335899 & FALSE\\\\\n",
       "\\end{tabular}\n"
      ],
      "text/markdown": [
       "\n",
       "A data.frame: 1 × 4\n",
       "\n",
       "| <!--/--> | idx &lt;int&gt; | firstname &lt;chr&gt; | score &lt;dbl&gt; | vocals &lt;lgl&gt; |\n",
       "|---|---|---|---|---|\n",
       "| 3 | 3 | george | 0.6335899 | FALSE |\n",
       "\n"
      ],
      "text/plain": [
       "  idx firstname score     vocals\n",
       "3 3   george    0.6335899 FALSE "
      ]
     },
     "metadata": {},
     "output_type": "display_data"
    }
   ],
   "source": [
    "dat[3, ]            # get third row"
   ]
  },
  {
   "cell_type": "markdown",
   "metadata": {
    "slideshow": {
     "slide_type": "subslide"
    }
   },
   "source": [
    "### 1.2.1 Indexing using Column Names"
   ]
  },
  {
   "cell_type": "code",
   "execution_count": 25,
   "metadata": {
    "slideshow": {
     "slide_type": "fragment"
    }
   },
   "outputs": [
    {
     "data": {
      "text/html": [
       "0.633589896232342"
      ],
      "text/latex": [
       "0.633589896232342"
      ],
      "text/markdown": [
       "0.633589896232342"
      ],
      "text/plain": [
       "[1] 0.6335899"
      ]
     },
     "metadata": {},
     "output_type": "display_data"
    }
   ],
   "source": [
    "dat[3, \"score\"]          # element from row 3 and \"score\" column"
   ]
  },
  {
   "cell_type": "code",
   "execution_count": 26,
   "metadata": {
    "slideshow": {
     "slide_type": "fragment"
    }
   },
   "outputs": [
    {
     "data": {
      "text/html": [
       "<style>\n",
       ".list-inline {list-style: none; margin:0; padding: 0}\n",
       ".list-inline>li {display: inline-block}\n",
       ".list-inline>li:not(:last-child)::after {content: \"\\00b7\"; padding: 0 .5ex}\n",
       "</style>\n",
       "<ol class=list-inline><li>'paul'</li><li>'george'</li><li>'ringo'</li></ol>\n"
      ],
      "text/latex": [
       "\\begin{enumerate*}\n",
       "\\item 'paul'\n",
       "\\item 'george'\n",
       "\\item 'ringo'\n",
       "\\end{enumerate*}\n"
      ],
      "text/markdown": [
       "1. 'paul'\n",
       "2. 'george'\n",
       "3. 'ringo'\n",
       "\n",
       "\n"
      ],
      "text/plain": [
       "[1] \"paul\"   \"george\" \"ringo\" "
      ]
     },
     "metadata": {},
     "output_type": "display_data"
    }
   ],
   "source": [
    "dat[2:4, \"firstname\"]    # get elements 2, 3, and 4 from \"firstname\" column"
   ]
  },
  {
   "cell_type": "markdown",
   "metadata": {
    "slideshow": {
     "slide_type": "subslide"
    }
   },
   "source": [
    "## 1.3 The `$` Operator and `data.frame` Objects "
   ]
  },
  {
   "cell_type": "code",
   "execution_count": 33,
   "metadata": {
    "slideshow": {
     "slide_type": "fragment"
    }
   },
   "outputs": [
    {
     "data": {
      "text/html": [
       "<style>\n",
       ".list-inline {list-style: none; margin:0; padding: 0}\n",
       ".list-inline>li {display: inline-block}\n",
       ".list-inline>li:not(:last-child)::after {content: \"\\00b7\"; padding: 0 .5ex}\n",
       "</style>\n",
       "<ol class=list-inline><li>'john'</li><li>'paul'</li><li>'george'</li><li>'ringo'</li></ol>\n"
      ],
      "text/latex": [
       "\\begin{enumerate*}\n",
       "\\item 'john'\n",
       "\\item 'paul'\n",
       "\\item 'george'\n",
       "\\item 'ringo'\n",
       "\\end{enumerate*}\n"
      ],
      "text/markdown": [
       "1. 'john'\n",
       "2. 'paul'\n",
       "3. 'george'\n",
       "4. 'ringo'\n",
       "\n",
       "\n"
      ],
      "text/plain": [
       "[1] \"john\"   \"paul\"   \"george\" \"ringo\" "
      ]
     },
     "metadata": {},
     "output_type": "display_data"
    }
   ],
   "source": [
    "dat$firstname            # get the \"firstname\" column"
   ]
  },
  {
   "cell_type": "markdown",
   "metadata": {},
   "source": [
    "# 2. Create `data.frame` from CSV"
   ]
  },
  {
   "cell_type": "code",
   "execution_count": null,
   "metadata": {},
   "outputs": [],
   "source": [
    "arrests_df <- read.csv(\"pvd_arrests.csv\")"
   ]
  }
 ],
 "metadata": {
  "celltoolbar": "Slideshow",
  "kernelspec": {
   "display_name": "R",
   "language": "R",
   "name": "ir"
  },
  "language_info": {
   "codemirror_mode": "r",
   "file_extension": ".r",
   "mimetype": "text/x-r-source",
   "name": "R",
   "pygments_lexer": "r",
   "version": "4.0.2"
  }
 },
 "nbformat": 4,
 "nbformat_minor": 2
}
