{
 "cells": [
  {
   "cell_type": "markdown",
   "metadata": {},
   "source": [
    "# Fibonacci Sequence:\n",
    "\n",
    "\n",
    "In mathematics, the Fibonacci numbers, commonly denoted $F_n$ form a sequence, called the Fibonacci sequence, such that each number is the sum of the two preceding ones, starting from 0 and 1. That is:\n",
    "\n",
    "\n",
    "$ F_n = F_{n - 1} + F_{n - 2} $"
   ]
  },
  {
   "cell_type": "code",
   "execution_count": 1,
   "metadata": {
    "slideshow": {
     "slide_type": "subslide"
    }
   },
   "outputs": [
    {
     "data": {
      "text/plain": [
       "fib (generic function with 1 method)"
      ]
     },
     "execution_count": 1,
     "metadata": {},
     "output_type": "execute_result"
    }
   ],
   "source": [
    "# Simple function that computes Fibonacci numbers\n",
    "\n",
    "function fib(n)\n",
    "    nums = ones(Int, n)\n",
    "    for i = 3:n\n",
    "        nums[i] = nums[i - 1] + nums[i - 2]\n",
    "    end \n",
    "    return nums[n]\n",
    "end     "
   ]
  },
  {
   "cell_type": "code",
   "execution_count": 2,
   "metadata": {},
   "outputs": [
    {
     "data": {
      "text/plain": [
       "832040"
      ]
     },
     "execution_count": 2,
     "metadata": {},
     "output_type": "execute_result"
    }
   ],
   "source": [
    "fib(30)"
   ]
  },
  {
   "cell_type": "code",
   "execution_count": 3,
   "metadata": {
    "slideshow": {
     "slide_type": "subslide"
    }
   },
   "outputs": [
    {
     "data": {
      "text/plain": [
       "qsort (generic function with 1 method)"
      ]
     },
     "execution_count": 3,
     "metadata": {},
     "output_type": "execute_result"
    }
   ],
   "source": [
    "function qsort(a, lo, hi)\n",
    "    i = lo\n",
    "    j = hi\n",
    "    while i < hi\n",
    "        pivot = a[div(lo + hi, 2)]\n",
    "        while i <= j\n",
    "            while a[i] < pivot\n",
    "                i += 1\n",
    "            end\n",
    "            while a[j] > pivot\n",
    "                j -= 1\n",
    "            end\n",
    "            if i <= j\n",
    "                a[i], a[j] = a[j], a[i]\n",
    "                i += 1\n",
    "                j -= 1\n",
    "            end \n",
    "        end\n",
    "        if lo < j\n",
    "            qsort(a, lo, j)\n",
    "        end\n",
    "        lo = i\n",
    "        j = hi\n",
    "    end \n",
    "    return a\n",
    "end "
   ]
  },
  {
   "cell_type": "code",
   "execution_count": 4,
   "metadata": {
    "slideshow": {
     "slide_type": "subslide"
    }
   },
   "outputs": [
    {
     "name": "stdout",
     "output_type": "stream",
     "text": [
      "  0.084202 seconds (10.59 k allocations: 531.822 KiB)\n"
     ]
    }
   ],
   "source": [
    "# quick sort in Julia\n",
    "\n",
    "n = 1_000_000\n",
    "x = rand(n)\n",
    "\n",
    "@time x2 = qsort(x, 1, n);"
   ]
  },
  {
   "cell_type": "code",
   "execution_count": null,
   "metadata": {
    "slideshow": {
     "slide_type": "subslide"
    }
   },
   "outputs": [],
   "source": [
    "# Parallel processing with @distributed \n",
    "using Distributed \n",
    "\n",
    "addprocs(5)          \n",
    "\n",
    "function monte_carlo_pi(n_iter)\n",
    "    num_inside = @distributed (+) for i = 1:n_iter\n",
    "        Int(rand()^2 + rand()^2 ≤ 1)\n",
    "    end\n",
    "    res = num_inside/(n_iter/4)\n",
    "    return res\n",
    "end "
   ]
  },
  {
   "cell_type": "code",
   "execution_count": null,
   "metadata": {
    "slideshow": {
     "slide_type": "-"
    }
   },
   "outputs": [],
   "source": [
    "@time monte_carlo_pi(100_000_000)"
   ]
  },
  {
   "cell_type": "code",
   "execution_count": null,
   "metadata": {
    "slideshow": {
     "slide_type": "-"
    }
   },
   "outputs": [],
   "source": [
    "n = 100_000_000\n",
    "v = SharedArray(randn(n))\n",
    "\n",
    "@time shr_squeeze_range(v);"
   ]
  },
  {
   "cell_type": "markdown",
   "metadata": {
    "slideshow": {
     "slide_type": "subslide"
    }
   },
   "source": [
    "### Using Threads for Parallelism"
   ]
  },
  {
   "cell_type": "code",
   "execution_count": null,
   "metadata": {
    "slideshow": {
     "slide_type": "-"
    }
   },
   "outputs": [],
   "source": [
    "# NOTE: JULIA_NUM_THREADS env variable is set in .bash_profile\n",
    "using Base.Threads\n",
    "\n",
    "function thr_squeeze_range!(x)\n",
    "    n = length(x)\n",
    "    @threads for i = 1:n\n",
    "        if !(-0.5 ≤ x[i] ≤ 0.5) \n",
    "            x[i] = 0.5 * sign(x[i])\n",
    "        end \n",
    "    end \n",
    "end"
   ]
  },
  {
   "cell_type": "code",
   "execution_count": null,
   "metadata": {
    "slideshow": {
     "slide_type": "-"
    }
   },
   "outputs": [],
   "source": [
    "n = 100_000_000\n",
    "v = randn(n)\n",
    "\n",
    "@time thr_squeeze_range!(v)"
   ]
  },
  {
   "cell_type": "markdown",
   "metadata": {
    "slideshow": {
     "slide_type": "slide"
    }
   },
   "source": [
    "# <center> Julia's Type System </center>"
   ]
  },
  {
   "cell_type": "markdown",
   "metadata": {
    "slideshow": {
     "slide_type": "subslide"
    }
   },
   "source": [
    "## Julia's Type System \n",
    "1. Dynamic\n",
    "2. Parametric\n",
    "3. Nominative"
   ]
  },
  {
   "cell_type": "markdown",
   "metadata": {
    "slideshow": {
     "slide_type": "subslide"
    }
   },
   "source": [
    "## Julia Types:\n",
    "1. Every object has a type (e.g., `Int`, `Float64`, `Dict`, `Function`)\n",
    "2. User-defined types behave just like base language types\n",
    "3. Types (and functions) are parametric \n",
    "4. Type annotation can (optionally) be added and can improve performance"
   ]
  },
  {
   "cell_type": "markdown",
   "metadata": {
    "slideshow": {
     "slide_type": "subslide"
    }
   },
   "source": [
    "### Illustrating Multiple Dispatch"
   ]
  },
  {
   "cell_type": "code",
   "execution_count": null,
   "metadata": {},
   "outputs": [],
   "source": [
    "function foo(a::Int, b::Int) \n",
    "    println(\"I'm adding ints. Yay!!\")\n",
    "    res = a + b\n",
    "    return res\n",
    "end "
   ]
  },
  {
   "cell_type": "code",
   "execution_count": null,
   "metadata": {},
   "outputs": [],
   "source": [
    "foo(3, 1)"
   ]
  },
  {
   "cell_type": "code",
   "execution_count": null,
   "metadata": {
    "slideshow": {
     "slide_type": "subslide"
    }
   },
   "outputs": [],
   "source": [
    "# Adding method to foo()\n",
    "\n",
    "function foo(a::Float64, b::Int)\n",
    "    println(\"Now I'm adding ints and floats!\")\n",
    "    res = a + b\n",
    "    return res \n",
    "end"
   ]
  },
  {
   "cell_type": "code",
   "execution_count": null,
   "metadata": {
    "slideshow": {
     "slide_type": "-"
    }
   },
   "outputs": [],
   "source": [
    "methods(+)"
   ]
  },
  {
   "cell_type": "markdown",
   "metadata": {
    "slideshow": {
     "slide_type": "subslide"
    }
   },
   "source": [
    "### Using Concrete Types for Performance"
   ]
  },
  {
   "cell_type": "code",
   "execution_count": null,
   "metadata": {
    "slideshow": {
     "slide_type": "-"
    }
   },
   "outputs": [],
   "source": [
    "function count_vals(v)\n",
    "    n = length(v)\n",
    "    cnts = Dict()\n",
    "    for i = 1:n\n",
    "        cnts[v[i]] = get(cnts,v[i], 0) + 1\n",
    "    end\n",
    "    return cnts\n",
    "end"
   ]
  },
  {
   "cell_type": "code",
   "execution_count": null,
   "metadata": {
    "slideshow": {
     "slide_type": "-"
    }
   },
   "outputs": [],
   "source": [
    "x = rand(['a', 't', 'g', 'c', 1, 3, 7], 100_000_000)\n",
    "\n",
    "@time res = count_vals(x)"
   ]
  },
  {
   "cell_type": "code",
   "execution_count": null,
   "metadata": {
    "slideshow": {
     "slide_type": "subslide"
    }
   },
   "outputs": [],
   "source": [
    "function count_vals2(v)\n",
    "    n = length(v)\n",
    "    cnts = Dict{Char, Int}()\n",
    "    for i = 1:n\n",
    "        cnts[v[i]] = get(cnts,v[i], 0) + 1\n",
    "    end\n",
    "    return cnts\n",
    "end"
   ]
  },
  {
   "cell_type": "code",
   "execution_count": null,
   "metadata": {
    "slideshow": {
     "slide_type": "-"
    }
   },
   "outputs": [],
   "source": [
    "x = rand(['a', 't', 'g', 'c'], 100_000_000)\n",
    "\n",
    "@time res = count_vals2(x)"
   ]
  },
  {
   "cell_type": "code",
   "execution_count": null,
   "metadata": {
    "slideshow": {
     "slide_type": "subslide"
    }
   },
   "outputs": [],
   "source": [
    "function count_vals2(X::Matrix)\n",
    "    n, p = size(X)\n",
    "    cnts = Dict{Char, Int}()\n",
    "    for j = 1:p \n",
    "        for i = 1:n\n",
    "            cnts = get(cnts, X[i, j], 0) + 1\n",
    "        end\n",
    "    end\n",
    "    return cnts \n",
    "end \n",
    "\n",
    "A = rand(['a', 't', 'g', 'c'], 1000, 1000)\n",
    "\n",
    "count_vals(A) "
   ]
  },
  {
   "cell_type": "markdown",
   "metadata": {
    "slideshow": {
     "slide_type": "subslide"
    }
   },
   "source": [
    "## User-Defined Types \n",
    "\n",
    "1. User can define composite types (i.e., `struct`s)\n",
    "2. A `struct` can be mutable or immutable\n",
    "3. Immutable `struct`s are allocated on stack, mutable are on the heap"
   ]
  },
  {
   "cell_type": "code",
   "execution_count": null,
   "metadata": {
    "slideshow": {
     "slide_type": "subslide"
    }
   },
   "outputs": [],
   "source": [
    "struct Dog\n",
    "    name \n",
    "    age \n",
    "    words\n",
    "end \n",
    "\n",
    "\n",
    "struct Cat\n",
    "    name\n",
    "    age\n",
    "    words\n",
    "end \n"
   ]
  },
  {
   "cell_type": "code",
   "execution_count": null,
   "metadata": {
    "slideshow": {
     "slide_type": "subslide"
    }
   },
   "outputs": [],
   "source": [
    "\n",
    "function say_name(x::Dog)\n",
    "    s = \"$(x.words), my name is $(x.name), and I'm a dog.\"\n",
    "    println(s)\n",
    "end\n",
    "\n",
    "willie = Dog(\"William Lee\", 11, \"Woof\")    \n",
    "\n",
    "say_name(willie)"
   ]
  },
  {
   "cell_type": "code",
   "execution_count": null,
   "metadata": {
    "slideshow": {
     "slide_type": "subslide"
    }
   },
   "outputs": [],
   "source": [
    "function say_name(x::Cat)\n",
    "    for i = 1:rand(1:10)\n",
    "        print(\"$(x.words) \")\n",
    "    end\n",
    "end\n",
    "\n",
    "ricky = Cat(\"Richard\", 7, \"Meow\")\n",
    "\n",
    "say_name(ricky)"
   ]
  },
  {
   "cell_type": "code",
   "execution_count": null,
   "metadata": {
    "slideshow": {
     "slide_type": "subslide"
    }
   },
   "outputs": [],
   "source": [
    "# Example of multiple dispatch\n",
    "\n",
    "function say_name(x::Dog, y::Cat)\n",
    "    println(\"Two animals fight briefly...\\n\\nAnd the winner is: $(x.name)\")\n",
    "end "
   ]
  },
  {
   "cell_type": "code",
   "execution_count": null,
   "metadata": {
    "slideshow": {
     "slide_type": "-"
    }
   },
   "outputs": [],
   "source": [
    "say_name(willie, ricky)"
   ]
  },
  {
   "cell_type": "code",
   "execution_count": null,
   "metadata": {
    "slideshow": {
     "slide_type": "subslide"
    }
   },
   "outputs": [],
   "source": [
    "# Define new struct that is Dog/Cat hybrid\n",
    "\n",
    "struct Dat \n",
    "    name\n",
    "    age\n",
    "    words\n",
    "end "
   ]
  },
  {
   "cell_type": "markdown",
   "metadata": {
    "slideshow": {
     "slide_type": "subslide"
    }
   },
   "source": [
    "### Operator Overloading\n",
    "\n",
    "+ Can overload base language's operators (e.g., `+`, `*`, `/`)"
   ]
  },
  {
   "cell_type": "code",
   "execution_count": null,
   "metadata": {
    "slideshow": {
     "slide_type": "-"
    }
   },
   "outputs": [],
   "source": [
    "import Base.+ \n",
    "\n",
    "function +(x::Dog, y::Cat)\n",
    "    res = Dat(x.name, y.age, string(x.words, y.words))\n",
    "    return res \n",
    "end\n"
   ]
  },
  {
   "cell_type": "code",
   "execution_count": null,
   "metadata": {
    "slideshow": {
     "slide_type": "-"
    }
   },
   "outputs": [],
   "source": [
    "# Test our new method for +() function\n",
    "\n",
    "willie + ricky"
   ]
  },
  {
   "cell_type": "markdown",
   "metadata": {
    "slideshow": {
     "slide_type": "slide"
    }
   },
   "source": [
    "# <center> Profiling and Introspection </center>"
   ]
  },
  {
   "cell_type": "markdown",
   "metadata": {
    "slideshow": {
     "slide_type": "subslide"
    }
   },
   "source": [
    "1. Profiling Tools\n",
    "  * `@time` macro\n",
    "  * BenchmarkTools.jl package\n",
    "2. Introspection\n",
    "  * Type hierarchy \n",
    "  * `typeof()`\n",
    "  * `eltype()`\n",
    "  * `@code_warntype` \n",
    "  * `@code_native`"
   ]
  },
  {
   "cell_type": "code",
   "execution_count": null,
   "metadata": {
    "slideshow": {
     "slide_type": "subslide"
    }
   },
   "outputs": [],
   "source": [
    "# Illustrating type hierarchy \n",
    "\n",
    "Int32 <: Float64"
   ]
  },
  {
   "cell_type": "code",
   "execution_count": null,
   "metadata": {
    "slideshow": {
     "slide_type": "fragment"
    }
   },
   "outputs": [],
   "source": [
    "BigInt <: Real"
   ]
  },
  {
   "cell_type": "code",
   "execution_count": null,
   "metadata": {
    "slideshow": {
     "slide_type": "fragment"
    }
   },
   "outputs": [],
   "source": [
    "Bool <: Int64"
   ]
  },
  {
   "cell_type": "code",
   "execution_count": null,
   "metadata": {
    "slideshow": {
     "slide_type": "fragment"
    }
   },
   "outputs": [],
   "source": [
    "Float64 <: AbstractFloat"
   ]
  },
  {
   "cell_type": "code",
   "execution_count": null,
   "metadata": {
    "slideshow": {
     "slide_type": "subslide"
    }
   },
   "outputs": [],
   "source": [
    "a = zeros(100)\n",
    "\n",
    "typeof(a)"
   ]
  },
  {
   "cell_type": "code",
   "execution_count": null,
   "metadata": {},
   "outputs": [],
   "source": [
    "A = ones(100, 100)\n",
    "\n",
    "typeof(A)"
   ]
  },
  {
   "cell_type": "code",
   "execution_count": null,
   "metadata": {
    "slideshow": {
     "slide_type": "subslide"
    }
   },
   "outputs": [],
   "source": [
    "# Get type of elements in containers\n",
    "\n",
    "b = randn(1000)\n",
    "\n",
    "eltype(b)"
   ]
  },
  {
   "cell_type": "code",
   "execution_count": null,
   "metadata": {
    "slideshow": {
     "slide_type": "-"
    }
   },
   "outputs": [],
   "source": [
    "# Get fields of a struct\n",
    "\n",
    "fieldnames(Dog) "
   ]
  },
  {
   "cell_type": "code",
   "execution_count": null,
   "metadata": {
    "slideshow": {
     "slide_type": "subslide"
    }
   },
   "outputs": [],
   "source": [
    "function count_vals(v)\n",
    "    n = length(v)\n",
    "    cnts = Dict()\n",
    "    for i = 1:n\n",
    "        cnts[v[i]] = get(cnts,v[i], 0) + 1\n",
    "    end\n",
    "    return cnts\n",
    "end\n",
    "\n",
    "x = rand(['a', 't', 'g', 'c'], 100_000)\n",
    "\n",
    "@code_warntype count_vals(x)"
   ]
  },
  {
   "cell_type": "code",
   "execution_count": null,
   "metadata": {
    "slideshow": {
     "slide_type": "-"
    }
   },
   "outputs": [],
   "source": [
    "z = rand(['a', 't', 'g', 'c'], 100_000)\n",
    "\n",
    "@code_warntype count_vals2(z)"
   ]
  },
  {
   "cell_type": "markdown",
   "metadata": {
    "slideshow": {
     "slide_type": "slide"
    }
   },
   "source": [
    "# <center>Integration with other Languages</center>"
   ]
  },
  {
   "cell_type": "markdown",
   "metadata": {
    "slideshow": {
     "slide_type": "subslide"
    }
   },
   "source": [
    "## Julia and other Languages\n",
    "\n",
    "Julia has zero-cost interfaces with many technical computing languages:  \n",
    "1. PyCall.jl\n",
    "2. RCall.jl\n",
    "3. `ccall()`\n",
    "4. Cxx.jl\n",
    "5. Matlab.jl\n"
   ]
  },
  {
   "cell_type": "markdown",
   "metadata": {
    "slideshow": {
     "slide_type": "subslide"
    }
   },
   "source": [
    "### <center>Examples using RCall.jl and Cxx.jl</center>"
   ]
  },
  {
   "cell_type": "markdown",
   "metadata": {
    "slideshow": {
     "slide_type": "slide"
    }
   },
   "source": [
    "# <center> Tooling and Package Ecosystem </center>"
   ]
  },
  {
   "cell_type": "markdown",
   "metadata": {
    "slideshow": {
     "slide_type": "subslide"
    }
   },
   "source": [
    "1. Package manager\n",
    "  * GitHub\n",
    "  * Packages installed directly from Julia session using `Pkg.add(\"<PACKAGE-NAME>\")` \n",
    "2. Editors and IDEs\n",
    "  * Atom (Juno plugin)\n",
    "  * VS Code\n",
    "  * Emacs (ESS plugin)\n",
    "  * Jupyter\n",
    "  * Jupyter Lab"
   ]
  },
  {
   "cell_type": "markdown",
   "metadata": {
    "slideshow": {
     "slide_type": "slide"
    }
   },
   "source": [
    "# <center> Challenges </center>"
   ]
  },
  {
   "cell_type": "markdown",
   "metadata": {
    "slideshow": {
     "slide_type": "subslide"
    }
   },
   "source": [
    "1. Julia is still young\n",
    "  * Package ecosystem is still growing\n",
    "  * StackOverflow answers are a bit sparse\n",
    "  * Breaking changes still occur (mostly in packages, not base language)"
   ]
  }
 ],
 "metadata": {
  "@webio": {
   "lastCommId": null,
   "lastKernelId": null
  },
  "celltoolbar": "Slideshow",
  "kernelspec": {
   "display_name": "Julia 1.1.1",
   "language": "julia",
   "name": "julia-1.1"
  },
  "language_info": {
   "file_extension": ".jl",
   "mimetype": "application/julia",
   "name": "julia",
   "version": "1.1.1"
  }
 },
 "nbformat": 4,
 "nbformat_minor": 2
}
