{
 "cells": [
  {
   "cell_type": "markdown",
   "metadata": {
    "slideshow": {
     "slide_type": "slide"
    }
   },
   "source": [
    "<center><h1>Boolean Types in R</h1></center>\n",
    "<center><h3>Paul Stey, Ph.D.</h3></center>\n",
    "<center><h3>2020-09-12</h3></center>\n"
   ]
  },
  {
   "cell_type": "markdown",
   "metadata": {
    "slideshow": {
     "slide_type": "slide"
    }
   },
   "source": [
    "# 1. Boolean Type"
   ]
  },
  {
   "cell_type": "code",
   "execution_count": null,
   "metadata": {
    "slideshow": {
     "slide_type": "fragment"
    }
   },
   "outputs": [],
   "source": [
    "a <- TRUE                      # Note: all uppercase"
   ]
  },
  {
   "cell_type": "code",
   "execution_count": null,
   "metadata": {
    "slideshow": {
     "slide_type": "fragment"
    }
   },
   "outputs": [],
   "source": [
    "print(a)"
   ]
  },
  {
   "cell_type": "code",
   "execution_count": null,
   "metadata": {
    "slideshow": {
     "slide_type": "fragment"
    }
   },
   "outputs": [],
   "source": [
    "b <- FALSE"
   ]
  },
  {
   "cell_type": "code",
   "execution_count": null,
   "metadata": {
    "slideshow": {
     "slide_type": "fragment"
    }
   },
   "outputs": [],
   "source": [
    "print(b)"
   ]
  },
  {
   "cell_type": "markdown",
   "metadata": {
    "slideshow": {
     "slide_type": "subslide"
    }
   },
   "source": [
    "## 1.1 Boolean Algebra \n",
    "  - `AND`: conjunction\n",
    "  - `OR`: disjunction\n",
    "  - `NOT`: negation "
   ]
  },
  {
   "cell_type": "markdown",
   "metadata": {},
   "source": [
    "We frequently want to check if a condition (or multiple conditions are satisfied), boolean logic in R lets us do this easily and efficiently. \n"
   ]
  },
  {
   "cell_type": "markdown",
   "metadata": {
    "slideshow": {
     "slide_type": "subslide"
    }
   },
   "source": [
    "### 1.1.1 Logical `AND`\n",
    "\n",
    "The logical `AND` operation takes two arguments, and returns `TRUE` if (and only if) _both arguments_ are `TRUE`."
   ]
  },
  {
   "cell_type": "code",
   "execution_count": null,
   "metadata": {
    "slideshow": {
     "slide_type": "fragment"
    }
   },
   "outputs": [],
   "source": [
    "a <- TRUE \n",
    "b <- FALSE\n",
    "\n",
    "nope <- a && b         # The `&&` operator is the logical AND\n",
    "\n",
    "print(nope)            # Should be FALSE, because `a` and `b` are not both TRUE"
   ]
  },
  {
   "cell_type": "markdown",
   "metadata": {
    "slideshow": {
     "slide_type": "subslide"
    }
   },
   "source": [
    "### 1.1.2 Logical `OR`\n",
    "\n",
    "The logical `OR` operation akes two arguments, and returns `TRUE` if _either arugments_ are `TRUE`."
   ]
  },
  {
   "cell_type": "code",
   "execution_count": null,
   "metadata": {
    "slideshow": {
     "slide_type": "fragment"
    }
   },
   "outputs": [],
   "source": [
    "yep <- a || b          # The `||` symbol is the logical OR\n",
    "\n",
    "print(yep)             # should be true because AT LEAST ONE of `a` and `b` is TRUE"
   ]
  },
  {
   "cell_type": "markdown",
   "metadata": {
    "slideshow": {
     "slide_type": "subslide"
    }
   },
   "source": [
    "### 1.1.3 Logical Negation\n",
    "\n",
    "The logical negation operation takes a single argument and returns the opposite of that argument."
   ]
  },
  {
   "cell_type": "code",
   "execution_count": null,
   "metadata": {
    "slideshow": {
     "slide_type": "fragment"
    }
   },
   "outputs": [],
   "source": [
    "k <- TRUE \n",
    "\n",
    "not_k <- !k            # The `!` operator performs logical negation "
   ]
  },
  {
   "cell_type": "code",
   "execution_count": null,
   "metadata": {
    "slideshow": {
     "slide_type": "fragment"
    }
   },
   "outputs": [],
   "source": [
    "print(k)               # `k` is TRUE\n",
    "print(not_k)           # So `not_k` is FALSE"
   ]
  },
  {
   "cell_type": "markdown",
   "metadata": {
    "slideshow": {
     "slide_type": "slide"
    }
   },
   "source": [
    "# 2. Comparison Operators\n",
    "  - Equality\n",
    "  - Greater-than\n",
    "  - Less-than\n",
    "  - Greater-than-or-equal\n",
    "  - Less-than-or-equal\n",
    "  - Not equal"
   ]
  },
  {
   "cell_type": "markdown",
   "metadata": {
    "slideshow": {
     "slide_type": "subslide"
    }
   },
   "source": [
    "## 2.1 Examples of Comparison Operations\n",
    "\n",
    "All the example below return `TRUE`"
   ]
  },
  {
   "cell_type": "code",
   "execution_count": null,
   "metadata": {
    "slideshow": {
     "slide_type": "fragment"
    }
   },
   "outputs": [],
   "source": [
    "4 == 4               # 4 is equal to 4  \n",
    "5 > 4                # 5 is greater than 4 \n",
    "2 < 4                # 2 is less than 4\n",
    "4 >= 4               # 4 is greater-than-or-equal-to 4\n",
    "3 <= 4               # 3 is less-than-or-equal-to 4\n",
    "5 != 999             # 5 not equal to 999\n",
    "7 != \"potato\"        # 7 is not equal to the string \"potato\""
   ]
  }
 ],
 "metadata": {
  "@webio": {
   "lastCommId": null,
   "lastKernelId": null
  },
  "celltoolbar": "Slideshow",
  "kernelspec": {
   "display_name": "R",
   "language": "R",
   "name": "ir"
  },
  "language_info": {
   "codemirror_mode": "r",
   "file_extension": ".r",
   "mimetype": "text/x-r-source",
   "name": "R",
   "pygments_lexer": "r",
   "version": "4.0.2"
  }
 },
 "nbformat": 4,
 "nbformat_minor": 2
}
