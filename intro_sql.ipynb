{
 "cells": [
  {
   "cell_type": "markdown",
   "metadata": {
    "slideshow": {
     "slide_type": "slide"
    }
   },
   "source": [
    "<center><h1>Introduction to SQL</h1></center>"
   ]
  },
  {
   "cell_type": "markdown",
   "metadata": {
    "slideshow": {
     "slide_type": "slide"
    }
   },
   "source": [
    "# 1. What is SQL?\n",
    "\n",
    " - Structured Query Language\n",
    " - Oftern pronounced \"sequel\" or by simply saying the letters (i.e., \"ess cue el\")\n",
    " - Programming language for relational databases\n",
    " - Absolutely ubiquitous\n",
    "  + Used by industry, governement, academia, everyone!"
   ]
  },
  {
   "cell_type": "markdown",
   "metadata": {
    "slideshow": {
     "slide_type": "subslide"
    }
   },
   "source": [
    "## 1.1 History, Motivations, and Standardization of SQL\n",
    "\n",
    " - Relational model proposed by Ted Codd in 1970\n",
    " - First software developed in the 70s and 80s by IBM and Oracle\n",
    " - First ANSI standard in 1986\n",
    " - Declarative language for querying relational databases"
   ]
  },
  {
   "cell_type": "markdown",
   "metadata": {
    "slideshow": {
     "slide_type": "subslide"
    }
   },
   "source": [
    "### 1.1.1 What makes SQL a Declarative Language?\n",
    "\n",
    "- We don't have variables in the traditional sense\n",
    "- We don't specify steps to take, or operations to peform\n",
    "  + We don't have explicit loops for iteration\n",
    "  + Instead we only what the \"result set\" should contain\n",
    "  + The only \"objects\" we can create are `TABLE` objects, which are basically dataframes\n",
    " "
   ]
  },
  {
   "cell_type": "markdown",
   "metadata": {
    "slideshow": {
     "slide_type": "subslide"
    }
   },
   "source": [
    "\n",
    "## 1.2 Relational Databases\n",
    "\n",
    " - Collection of 1 or more tables\n",
    " - Tables have columns and rows\n",
    "   + Rows represent \"records\"; columns represent \"fields\" or variables"
   ]
  },
  {
   "cell_type": "markdown",
   "metadata": {
    "slideshow": {
     "slide_type": "subslide"
    }
   },
   "source": [
    "### 1.2.1 Example Database Schema\n",
    "\n",
    "<img src=\"images/relational_db.png\" width = \"800px\"/>"
   ]
  },
  {
   "cell_type": "markdown",
   "metadata": {
    "slideshow": {
     "slide_type": "subslide"
    }
   },
   "source": [
    "### 1.2.2 Relational Database Management Systems (RDBMS)\n",
    "\n",
    "  - Software the implents a relational databases\n",
    "  - Allow us to:\n",
    "    + create databases\n",
    "    + create tables in databases\n",
    "    + create users and control their access\n",
    "    + query tables to extract data\n",
    "    + add new data in to tables\n",
    "    "
   ]
  },
  {
   "cell_type": "markdown",
   "metadata": {
    "slideshow": {
     "slide_type": "subslide"
    }
   },
   "source": [
    "### 1.2.3 Varieties of SQL and RDBMS\n",
    "\n",
    "  - Different RDBMS implement slightly different dialects of SQL\n",
    "  - RDBMS also provide features not in SQL standard\n",
    "  - Examples of RDBMS:\n",
    "    + Microsoft SQL Server\n",
    "    + Oracle \n",
    "    + MySQL\n",
    "    + PostgreSQL\n",
    "    + Sqlite "
   ]
  },
  {
   "cell_type": "markdown",
   "metadata": {
    "slideshow": {
     "slide_type": "slide"
    }
   },
   "source": [
    "# 2. Typical SQL Query\n",
    "\n",
    "- Commands that query table(s) in a DB and return some output (often in tabular form)"
   ]
  },
  {
   "cell_type": "markdown",
   "metadata": {
    "slideshow": {
     "slide_type": "subslide"
    }
   },
   "source": [
    "## 2.1 The `SELECT` Statement\n",
    "\n",
    "- Often the start of a query\n",
    "- Specifies the columns we want "
   ]
  },
  {
   "cell_type": "markdown",
   "metadata": {
    "slideshow": {
     "slide_type": "subslide"
    }
   },
   "source": [
    "### 2.1.1 Motivating Example\n",
    "\n",
    "- Suppose we run an online retailer (e.g., Amazon)\n",
    "- We have a database with these tables:\n",
    "  + `customers`\n",
    "  + `orders`\n",
    "  + `products`"
   ]
  },
  {
   "cell_type": "code",
   "execution_count": 1,
   "metadata": {
    "slideshow": {
     "slide_type": "fragment"
    }
   },
   "outputs": [],
   "source": [
    "%load data/amzn.db"
   ]
  },
  {
   "cell_type": "markdown",
   "metadata": {
    "slideshow": {
     "slide_type": "subslide"
    }
   },
   "source": [
    "### 2.1.2 Query the `products` Table"
   ]
  },
  {
   "cell_type": "code",
   "execution_count": 2,
   "metadata": {
    "slideshow": {
     "slide_type": "-"
    }
   },
   "outputs": [
    {
     "data": {
      "text/html": [
       "<table>\n",
       "<tr>\n",
       "<th>product</th>\n",
       "<th>price</th>\n",
       "<th>product_id</th>\n",
       "</tr>\n",
       "<tr>\n",
       "<td>rake</td>\n",
       "<td>19.99</td>\n",
       "<td>44</td>\n",
       "</tr>\n",
       "<tr>\n",
       "<td>shoe horn</td>\n",
       "<td>5.99</td>\n",
       "<td>33</td>\n",
       "</tr>\n",
       "<tr>\n",
       "<td>potato</td>\n",
       "<td>0.99</td>\n",
       "<td>22</td>\n",
       "</tr>\n",
       "<tr>\n",
       "<td>bike</td>\n",
       "<td>123.5</td>\n",
       "<td>12</td>\n",
       "</tr>\n",
       "<tr>\n",
       "<td>table</td>\n",
       "<td>78.55</td>\n",
       "<td>123</td>\n",
       "</tr>\n",
       "<tr>\n",
       "<td>cup</td>\n",
       "<td>2.5</td>\n",
       "<td>232</td>\n",
       "</tr>\n",
       "<tr>\n",
       "<td>ball</td>\n",
       "<td>5.5</td>\n",
       "<td>28</td>\n",
       "</tr>\n",
       "<tr>\n",
       "<td>pencil</td>\n",
       "<td>2.99</td>\n",
       "<td>22</td>\n",
       "</tr>\n",
       "<tr>\n",
       "<td>teapot</td>\n",
       "<td>12.49</td>\n",
       "<td>11</td>\n",
       "</tr>\n",
       "<tr>\n",
       "<td>fork</td>\n",
       "<td>1.99</td>\n",
       "<td>13</td>\n",
       "</tr>\n",
       "<tr>\n",
       "<td>shoelace</td>\n",
       "<td>0.5</td>\n",
       "<td>14</td>\n",
       "</tr>\n",
       "<tr>\n",
       "<td>hammer</td>\n",
       "<td>17.49</td>\n",
       "<td>555</td>\n",
       "</tr>\n",
       "<tr>\n",
       "<td>door</td>\n",
       "<td>159.99</td>\n",
       "<td>66</td>\n",
       "</tr>\n",
       "</table>"
      ],
      "text/plain": [
       "+-----------+--------+------------+\n",
       "| product   | price  | product_id |\n",
       "+-----------+--------+------------+\n",
       "| rake      | 19.99  | 44         |\n",
       "+-----------+--------+------------+\n",
       "| shoe horn | 5.99   | 33         |\n",
       "+-----------+--------+------------+\n",
       "| potato    | 0.99   | 22         |\n",
       "+-----------+--------+------------+\n",
       "| bike      | 123.5  | 12         |\n",
       "+-----------+--------+------------+\n",
       "| table     | 78.55  | 123        |\n",
       "+-----------+--------+------------+\n",
       "| cup       | 2.5    | 232        |\n",
       "+-----------+--------+------------+\n",
       "| ball      | 5.5    | 28         |\n",
       "+-----------+--------+------------+\n",
       "| pencil    | 2.99   | 22         |\n",
       "+-----------+--------+------------+\n",
       "| teapot    | 12.49  | 11         |\n",
       "+-----------+--------+------------+\n",
       "| fork      | 1.99   | 13         |\n",
       "+-----------+--------+------------+\n",
       "| shoelace  | 0.5    | 14         |\n",
       "+-----------+--------+------------+\n",
       "| hammer    | 17.49  | 555        |\n",
       "+-----------+--------+------------+\n",
       "| door      | 159.99 | 66         |\n",
       "+-----------+--------+------------+"
      ]
     },
     "execution_count": 2,
     "metadata": {},
     "output_type": "execute_result"
    }
   ],
   "source": [
    "SELECT \n",
    "    product,           -- these are the columns we want to include\n",
    "    price,\n",
    "    product_id\n",
    "FROM \n",
    "    products           -- this is the table we are querying from\n",
    ";"
   ]
  },
  {
   "cell_type": "markdown",
   "metadata": {
    "slideshow": {
     "slide_type": "subslide"
    }
   },
   "source": [
    "### 2.1.3 Query the `orders` Table"
   ]
  },
  {
   "cell_type": "code",
   "execution_count": 3,
   "metadata": {
    "slideshow": {
     "slide_type": "-"
    }
   },
   "outputs": [
    {
     "data": {
      "text/html": [
       "<table>\n",
       "<tr>\n",
       "<th>order_id</th>\n",
       "<th>customer</th>\n",
       "<th>date</th>\n",
       "</tr>\n",
       "<tr>\n",
       "<td>1</td>\n",
       "<td>lee</td>\n",
       "<td>2018-12-23</td>\n",
       "</tr>\n",
       "<tr>\n",
       "<td>2</td>\n",
       "<td>smith</td>\n",
       "<td>2020-03-12</td>\n",
       "</tr>\n",
       "<tr>\n",
       "<td>3</td>\n",
       "<td>jones</td>\n",
       "<td>2019-05-01</td>\n",
       "</tr>\n",
       "<tr>\n",
       "<td>4</td>\n",
       "<td>yang</td>\n",
       "<td>2020-09-12</td>\n",
       "</tr>\n",
       "<tr>\n",
       "<td>5</td>\n",
       "<td>guerra </td>\n",
       "<td>2020-08-03</td>\n",
       "</tr>\n",
       "<tr>\n",
       "<td>6</td>\n",
       "<td>diaz</td>\n",
       "<td>2020-11-28</td>\n",
       "</tr>\n",
       "<tr>\n",
       "<td>7</td>\n",
       "<td>riley</td>\n",
       "<td>2019-05-18</td>\n",
       "</tr>\n",
       "<tr>\n",
       "<td>8</td>\n",
       "<td>chan</td>\n",
       "<td>2018-10-03</td>\n",
       "</tr>\n",
       "</table>"
      ],
      "text/plain": [
       "+----------+----------+------------+\n",
       "| order_id | customer | date       |\n",
       "+----------+----------+------------+\n",
       "| 1        | lee      | 2018-12-23 |\n",
       "+----------+----------+------------+\n",
       "| 2        | smith    | 2020-03-12 |\n",
       "+----------+----------+------------+\n",
       "| 3        | jones    | 2019-05-01 |\n",
       "+----------+----------+------------+\n",
       "| 4        | yang     | 2020-09-12 |\n",
       "+----------+----------+------------+\n",
       "| 5        | guerra   | 2020-08-03 |\n",
       "+----------+----------+------------+\n",
       "| 6        | diaz     | 2020-11-28 |\n",
       "+----------+----------+------------+\n",
       "| 7        | riley    | 2019-05-18 |\n",
       "+----------+----------+------------+\n",
       "| 8        | chan     | 2018-10-03 |\n",
       "+----------+----------+------------+"
      ]
     },
     "execution_count": 3,
     "metadata": {},
     "output_type": "execute_result"
    }
   ],
   "source": [
    "SELECT \n",
    "    order_id,\n",
    "    customer,\n",
    "    date\n",
    "FROM \n",
    "    orders\n",
    ";"
   ]
  },
  {
   "cell_type": "markdown",
   "metadata": {
    "slideshow": {
     "slide_type": "subslide"
    }
   },
   "source": [
    "### 2.1.3 Query using `SELECT *`"
   ]
  },
  {
   "cell_type": "code",
   "execution_count": 4,
   "metadata": {
    "slideshow": {
     "slide_type": "-"
    }
   },
   "outputs": [
    {
     "data": {
      "text/html": [
       "<table>\n",
       "<tr>\n",
       "<th>order_id</th>\n",
       "<th>customer</th>\n",
       "<th>date</th>\n",
       "<th>product_id</th>\n",
       "<th>quantity</th>\n",
       "</tr>\n",
       "<tr>\n",
       "<td>1</td>\n",
       "<td>lee</td>\n",
       "<td>2018-12-23</td>\n",
       "<td>44</td>\n",
       "<td>1</td>\n",
       "</tr>\n",
       "<tr>\n",
       "<td>2</td>\n",
       "<td>smith</td>\n",
       "<td>2020-03-12</td>\n",
       "<td>33</td>\n",
       "<td>1</td>\n",
       "</tr>\n",
       "<tr>\n",
       "<td>3</td>\n",
       "<td>jones</td>\n",
       "<td>2019-05-01</td>\n",
       "<td>212</td>\n",
       "<td>2</td>\n",
       "</tr>\n",
       "<tr>\n",
       "<td>4</td>\n",
       "<td>yang</td>\n",
       "<td>2020-09-12</td>\n",
       "<td>12</td>\n",
       "<td>1</td>\n",
       "</tr>\n",
       "<tr>\n",
       "<td>5</td>\n",
       "<td>guerra </td>\n",
       "<td>2020-08-03</td>\n",
       "<td>12</td>\n",
       "<td>2</td>\n",
       "</tr>\n",
       "<tr>\n",
       "<td>6</td>\n",
       "<td>diaz</td>\n",
       "<td>2020-11-28</td>\n",
       "<td>123</td>\n",
       "<td>2</td>\n",
       "</tr>\n",
       "<tr>\n",
       "<td>7</td>\n",
       "<td>riley</td>\n",
       "<td>2019-05-18</td>\n",
       "<td>232</td>\n",
       "<td>4</td>\n",
       "</tr>\n",
       "<tr>\n",
       "<td>8</td>\n",
       "<td>chan</td>\n",
       "<td>2018-10-03</td>\n",
       "<td>28</td>\n",
       "<td>1</td>\n",
       "</tr>\n",
       "</table>"
      ],
      "text/plain": [
       "+----------+----------+------------+------------+----------+\n",
       "| order_id | customer | date       | product_id | quantity |\n",
       "+----------+----------+------------+------------+----------+\n",
       "| 1        | lee      | 2018-12-23 | 44         | 1        |\n",
       "+----------+----------+------------+------------+----------+\n",
       "| 2        | smith    | 2020-03-12 | 33         | 1        |\n",
       "+----------+----------+------------+------------+----------+\n",
       "| 3        | jones    | 2019-05-01 | 212        | 2        |\n",
       "+----------+----------+------------+------------+----------+\n",
       "| 4        | yang     | 2020-09-12 | 12         | 1        |\n",
       "+----------+----------+------------+------------+----------+\n",
       "| 5        | guerra   | 2020-08-03 | 12         | 2        |\n",
       "+----------+----------+------------+------------+----------+\n",
       "| 6        | diaz     | 2020-11-28 | 123        | 2        |\n",
       "+----------+----------+------------+------------+----------+\n",
       "| 7        | riley    | 2019-05-18 | 232        | 4        |\n",
       "+----------+----------+------------+------------+----------+\n",
       "| 8        | chan     | 2018-10-03 | 28         | 1        |\n",
       "+----------+----------+------------+------------+----------+"
      ]
     },
     "execution_count": 4,
     "metadata": {},
     "output_type": "execute_result"
    }
   ],
   "source": [
    "SELECT \n",
    "    *\n",
    "FROM \n",
    "    orders\n",
    ";"
   ]
  },
  {
   "cell_type": "markdown",
   "metadata": {
    "slideshow": {
     "slide_type": "subslide"
    }
   },
   "source": [
    "### 2.1.4 Query Without Formatting\n",
    "\n",
    "- Capitalization, indentation, and other formatting oftern doesn't matter in SQL\n",
    "- But you should use good standards, so others can read your code"
   ]
  },
  {
   "cell_type": "code",
   "execution_count": 5,
   "metadata": {
    "slideshow": {
     "slide_type": "-"
    }
   },
   "outputs": [
    {
     "data": {
      "text/html": [
       "<table>\n",
       "<tr>\n",
       "<th>order_id</th>\n",
       "<th>customer</th>\n",
       "<th>date</th>\n",
       "<th>product_id</th>\n",
       "<th>quantity</th>\n",
       "</tr>\n",
       "<tr>\n",
       "<td>1</td>\n",
       "<td>lee</td>\n",
       "<td>2018-12-23</td>\n",
       "<td>44</td>\n",
       "<td>1</td>\n",
       "</tr>\n",
       "<tr>\n",
       "<td>2</td>\n",
       "<td>smith</td>\n",
       "<td>2020-03-12</td>\n",
       "<td>33</td>\n",
       "<td>1</td>\n",
       "</tr>\n",
       "<tr>\n",
       "<td>3</td>\n",
       "<td>jones</td>\n",
       "<td>2019-05-01</td>\n",
       "<td>212</td>\n",
       "<td>2</td>\n",
       "</tr>\n",
       "<tr>\n",
       "<td>4</td>\n",
       "<td>yang</td>\n",
       "<td>2020-09-12</td>\n",
       "<td>12</td>\n",
       "<td>1</td>\n",
       "</tr>\n",
       "<tr>\n",
       "<td>5</td>\n",
       "<td>guerra </td>\n",
       "<td>2020-08-03</td>\n",
       "<td>12</td>\n",
       "<td>2</td>\n",
       "</tr>\n",
       "<tr>\n",
       "<td>6</td>\n",
       "<td>diaz</td>\n",
       "<td>2020-11-28</td>\n",
       "<td>123</td>\n",
       "<td>2</td>\n",
       "</tr>\n",
       "<tr>\n",
       "<td>7</td>\n",
       "<td>riley</td>\n",
       "<td>2019-05-18</td>\n",
       "<td>232</td>\n",
       "<td>4</td>\n",
       "</tr>\n",
       "<tr>\n",
       "<td>8</td>\n",
       "<td>chan</td>\n",
       "<td>2018-10-03</td>\n",
       "<td>28</td>\n",
       "<td>1</td>\n",
       "</tr>\n",
       "</table>"
      ],
      "text/plain": [
       "+----------+----------+------------+------------+----------+\n",
       "| order_id | customer | date       | product_id | quantity |\n",
       "+----------+----------+------------+------------+----------+\n",
       "| 1        | lee      | 2018-12-23 | 44         | 1        |\n",
       "+----------+----------+------------+------------+----------+\n",
       "| 2        | smith    | 2020-03-12 | 33         | 1        |\n",
       "+----------+----------+------------+------------+----------+\n",
       "| 3        | jones    | 2019-05-01 | 212        | 2        |\n",
       "+----------+----------+------------+------------+----------+\n",
       "| 4        | yang     | 2020-09-12 | 12         | 1        |\n",
       "+----------+----------+------------+------------+----------+\n",
       "| 5        | guerra   | 2020-08-03 | 12         | 2        |\n",
       "+----------+----------+------------+------------+----------+\n",
       "| 6        | diaz     | 2020-11-28 | 123        | 2        |\n",
       "+----------+----------+------------+------------+----------+\n",
       "| 7        | riley    | 2019-05-18 | 232        | 4        |\n",
       "+----------+----------+------------+------------+----------+\n",
       "| 8        | chan     | 2018-10-03 | 28         | 1        |\n",
       "+----------+----------+------------+------------+----------+"
      ]
     },
     "execution_count": 5,
     "metadata": {},
     "output_type": "execute_result"
    }
   ],
   "source": [
    "select * from orders;"
   ]
  },
  {
   "cell_type": "markdown",
   "metadata": {
    "slideshow": {
     "slide_type": "slide"
    }
   },
   "source": [
    "## 3. The `WHERE` Clause\n",
    "\n",
    "- We can use `WHERE` to set filering criteria\n",
    "- Similar to the `filter()` function _dplyr_ in R"
   ]
  },
  {
   "cell_type": "markdown",
   "metadata": {
    "slideshow": {
     "slide_type": "subslide"
    }
   },
   "source": [
    "## 3.1 Using `WHERE` in Query"
   ]
  },
  {
   "cell_type": "code",
   "execution_count": 6,
   "metadata": {
    "slideshow": {
     "slide_type": "-"
    }
   },
   "outputs": [
    {
     "data": {
      "text/html": [
       "<table>\n",
       "<tr>\n",
       "<th>order_id</th>\n",
       "<th>customer</th>\n",
       "<th>date</th>\n",
       "<th>quantity</th>\n",
       "</tr>\n",
       "<tr>\n",
       "<td>3</td>\n",
       "<td>jones</td>\n",
       "<td>2019-05-01</td>\n",
       "<td>2</td>\n",
       "</tr>\n",
       "<tr>\n",
       "<td>5</td>\n",
       "<td>guerra </td>\n",
       "<td>2020-08-03</td>\n",
       "<td>2</td>\n",
       "</tr>\n",
       "<tr>\n",
       "<td>6</td>\n",
       "<td>diaz</td>\n",
       "<td>2020-11-28</td>\n",
       "<td>2</td>\n",
       "</tr>\n",
       "<tr>\n",
       "<td>7</td>\n",
       "<td>riley</td>\n",
       "<td>2019-05-18</td>\n",
       "<td>4</td>\n",
       "</tr>\n",
       "</table>"
      ],
      "text/plain": [
       "+----------+----------+------------+----------+\n",
       "| order_id | customer | date       | quantity |\n",
       "+----------+----------+------------+----------+\n",
       "| 3        | jones    | 2019-05-01 | 2        |\n",
       "+----------+----------+------------+----------+\n",
       "| 5        | guerra   | 2020-08-03 | 2        |\n",
       "+----------+----------+------------+----------+\n",
       "| 6        | diaz     | 2020-11-28 | 2        |\n",
       "+----------+----------+------------+----------+\n",
       "| 7        | riley    | 2019-05-18 | 4        |\n",
       "+----------+----------+------------+----------+"
      ]
     },
     "execution_count": 6,
     "metadata": {},
     "output_type": "execute_result"
    }
   ],
   "source": [
    "SELECT \n",
    "    order_id,\n",
    "    customer,\n",
    "    date,\n",
    "    quantity\n",
    "FROM\n",
    "    orders\n",
    "WHERE \n",
    "    quantity > 1\n",
    ";"
   ]
  },
  {
   "cell_type": "markdown",
   "metadata": {
    "slideshow": {
     "slide_type": "subslide"
    }
   },
   "source": [
    "### 3.1.1 More Conditions in `WHERE` Clause\n",
    "\n",
    "- We can actually specify quite a bit of criteria for rows we want to include using our `WHERE`\n",
    "  + This includes testing for a columns equality to some value (or set of values)"
   ]
  },
  {
   "cell_type": "code",
   "execution_count": 7,
   "metadata": {
    "slideshow": {
     "slide_type": "fragment"
    }
   },
   "outputs": [
    {
     "data": {
      "text/html": [
       "<table>\n",
       "<tr>\n",
       "<th>order_id</th>\n",
       "<th>customer</th>\n",
       "<th>date</th>\n",
       "<th>quantity</th>\n",
       "</tr>\n",
       "<tr>\n",
       "<td>1</td>\n",
       "<td>lee</td>\n",
       "<td>2018-12-23</td>\n",
       "<td>1</td>\n",
       "</tr>\n",
       "<tr>\n",
       "<td>3</td>\n",
       "<td>jones</td>\n",
       "<td>2019-05-01</td>\n",
       "<td>2</td>\n",
       "</tr>\n",
       "<tr>\n",
       "<td>5</td>\n",
       "<td>guerra </td>\n",
       "<td>2020-08-03</td>\n",
       "<td>2</td>\n",
       "</tr>\n",
       "<tr>\n",
       "<td>6</td>\n",
       "<td>diaz</td>\n",
       "<td>2020-11-28</td>\n",
       "<td>2</td>\n",
       "</tr>\n",
       "<tr>\n",
       "<td>7</td>\n",
       "<td>riley</td>\n",
       "<td>2019-05-18</td>\n",
       "<td>4</td>\n",
       "</tr>\n",
       "</table>"
      ],
      "text/plain": [
       "+----------+----------+------------+----------+\n",
       "| order_id | customer | date       | quantity |\n",
       "+----------+----------+------------+----------+\n",
       "| 1        | lee      | 2018-12-23 | 1        |\n",
       "+----------+----------+------------+----------+\n",
       "| 3        | jones    | 2019-05-01 | 2        |\n",
       "+----------+----------+------------+----------+\n",
       "| 5        | guerra   | 2020-08-03 | 2        |\n",
       "+----------+----------+------------+----------+\n",
       "| 6        | diaz     | 2020-11-28 | 2        |\n",
       "+----------+----------+------------+----------+\n",
       "| 7        | riley    | 2019-05-18 | 4        |\n",
       "+----------+----------+------------+----------+"
      ]
     },
     "execution_count": 7,
     "metadata": {},
     "output_type": "execute_result"
    }
   ],
   "source": [
    "SELECT \n",
    "    order_id,\n",
    "    customer,\n",
    "    date,\n",
    "    quantity\n",
    "FROM\n",
    "    orders\n",
    "WHERE \n",
    "    quantity > 1 \n",
    "    OR customer = 'lee'\n",
    ";"
   ]
  }
 ],
 "metadata": {
  "@webio": {
   "lastCommId": null,
   "lastKernelId": null
  },
  "celltoolbar": "Slideshow",
  "kernelspec": {
   "display_name": "xsqlite",
   "language": "sqlite",
   "name": "xsqlite"
  },
  "language_info": {
   "codemirror_mode": "sql",
   "file_extension": "",
   "mimetype": "",
   "name": "sqlite3",
   "version": "3.30.1"
  }
 },
 "nbformat": 4,
 "nbformat_minor": 2
}
